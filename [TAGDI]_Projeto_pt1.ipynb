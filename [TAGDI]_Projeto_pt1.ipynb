{
  "nbformat": 4,
  "nbformat_minor": 0,
  "metadata": {
    "colab": {
      "name": "[TAGDI] Projeto (pt1)",
      "provenance": [],
      "collapsed_sections": [
        "x4NqoXOhtMv8",
        "Yo5JXFB3trhN",
        "JqJItEpLt3zE",
        "U7T4YQLP-pKR",
        "jrvDuysI3imL"
      ]
    },
    "kernelspec": {
      "name": "python3",
      "display_name": "Python 3"
    },
    "language_info": {
      "name": "python"
    }
  },
  "cells": [
    {
      "cell_type": "markdown",
      "source": [
        "![](https://upload.wikimedia.org/wikipedia/pt/8/80/Enem_logo.png)\n",
        "# Projeto Tópicos Avançados em GDI - ENEM 2021\n",
        "Neste projeto, desenvolvemos uma análise exploratória de dados utilizando a base de dados do [ENEM 2021](https://www.gov.br/inep/pt-br/acesso-a-informacao/dados-abertos/microdados/enem), passando por todos os passos de uma análise de dados como: **pre-processamento dos dados, processamentos dos dados, visualização, análise de métricas descritivias, detecção de outliers, inputação de dados e teste de hipótese**."
      ],
      "metadata": {
        "id": "Yt4XTqiJr9kJ"
      }
    },
    {
      "cell_type": "markdown",
      "source": [
        "## Instalação de ferramentas\n",
        "Nesta seção, instalamos todas as dependências necessárias para o funcionamento da nessa análise.\n"
      ],
      "metadata": {
        "id": "x4NqoXOhtMv8"
      }
    },
    {
      "cell_type": "code",
      "source": [
        "from sklearn.impute import KNNImputer\n",
        "\n",
        "import matplotlib.pyplot as plt\n",
        "import pandas as pd\n",
        "import numpy as np\n",
        "import random\n",
        "\n",
        "from scipy import stats\n",
        "from statsmodels.stats.multicomp import pairwise_tukeyhsd\n",
        "import seaborn as sns\n",
        "\n",
        "pd.options.mode.chained_assignment = None"
      ],
      "metadata": {
        "id": "IBP-7xnrGP4z"
      },
      "execution_count": null,
      "outputs": []
    },
    {
      "cell_type": "markdown",
      "source": [
        "## Coleta e separação dos dados\n",
        "Como pode-se imaginar, fizemos uso de uma base de dados disponibilizada pelo governo brasileiro relativo ao ENEM 2021. Esta possuí vários tipos de dados, mas para nossa análise usaremos apenas dados relativos as **notas dos participantes** e **dados dos participantes**.\n",
        "\n",
        "Para tal, pelo grande tamanho de nosso dataset, aproximadamento 2 GB de dados, utilizamos a ténica de sampleamento para prosseguir com nossa análise.\n",
        "\n",
        "### Sampleamento\n",
        "Nosso sampleamento fez uso de uma técnica muito simples, para tal, separamos as primeiras 300 mil linhas do dataset original, assim resultando em um arquivo com 300 MB.\n",
        "\n",
        "Fizemos isto consciêntes de que essa escolha poderia gerar ruídos ou tendências em nosso dataset. Assim, para evitar isto a melhor maneira de proceder com essa operação seria fazer um sampleamento randômnico ou utilizando técnicas mais avançadas de balancemaneto de amostras.\n",
        "\n",
        "## Dicionário\n",
        "Para o correto entendimento de nosso dados, disponibilizamos [neste link](https://docs.google.com/spreadsheets/d/1-y2XLTG_AWINH6F4FKPcjfNl1yeFIPujACHJwHKMR5Y/edit?usp=sharing) os sigficados dos campos que serão trabalhados neste análise.\n",
        "\n",
        "Também disponibilizamos o sample do dataset que usamos [neste link](https://drive.google.com/drive/folders/1e7p0jmvarkBoupnZAErkrlykCUNucI73?usp=sharing)."
      ],
      "metadata": {
        "id": "Yo5JXFB3trhN"
      }
    },
    {
      "cell_type": "code",
      "execution_count": null,
      "metadata": {
        "colab": {
          "base_uri": "https://localhost:8080/",
          "height": 206
        },
        "id": "Mg84ySqqzJ2-",
        "outputId": "6833f326-686b-4db2-a3ad-eee6a47effbe"
      },
      "outputs": [
        {
          "output_type": "execute_result",
          "data": {
            "text/plain": [
              "             id  ciencias_naturais  ciencias_humanas  linguagem_codigo  \\\n",
              "0  210053865474                NaN             574.6             472.6   \n",
              "1  210052384164              505.9             551.8             498.3   \n",
              "2  210052589243                NaN               NaN               NaN   \n",
              "3  210052128335              580.7             678.9             638.9   \n",
              "4  210051353021              497.7             532.4             457.6   \n",
              "\n",
              "   matematica  redacao  \n",
              "0         NaN    760.0  \n",
              "1       461.5    560.0  \n",
              "2         NaN      NaN  \n",
              "3       659.5    780.0  \n",
              "4       582.6    780.0  "
            ],
            "text/html": [
              "\n",
              "  <div id=\"df-8a9c6d34-8552-4b85-b55c-e3f17db91ed2\">\n",
              "    <div class=\"colab-df-container\">\n",
              "      <div>\n",
              "<style scoped>\n",
              "    .dataframe tbody tr th:only-of-type {\n",
              "        vertical-align: middle;\n",
              "    }\n",
              "\n",
              "    .dataframe tbody tr th {\n",
              "        vertical-align: top;\n",
              "    }\n",
              "\n",
              "    .dataframe thead th {\n",
              "        text-align: right;\n",
              "    }\n",
              "</style>\n",
              "<table border=\"1\" class=\"dataframe\">\n",
              "  <thead>\n",
              "    <tr style=\"text-align: right;\">\n",
              "      <th></th>\n",
              "      <th>id</th>\n",
              "      <th>ciencias_naturais</th>\n",
              "      <th>ciencias_humanas</th>\n",
              "      <th>linguagem_codigo</th>\n",
              "      <th>matematica</th>\n",
              "      <th>redacao</th>\n",
              "    </tr>\n",
              "  </thead>\n",
              "  <tbody>\n",
              "    <tr>\n",
              "      <th>0</th>\n",
              "      <td>210053865474</td>\n",
              "      <td>NaN</td>\n",
              "      <td>574.6</td>\n",
              "      <td>472.6</td>\n",
              "      <td>NaN</td>\n",
              "      <td>760.0</td>\n",
              "    </tr>\n",
              "    <tr>\n",
              "      <th>1</th>\n",
              "      <td>210052384164</td>\n",
              "      <td>505.9</td>\n",
              "      <td>551.8</td>\n",
              "      <td>498.3</td>\n",
              "      <td>461.5</td>\n",
              "      <td>560.0</td>\n",
              "    </tr>\n",
              "    <tr>\n",
              "      <th>2</th>\n",
              "      <td>210052589243</td>\n",
              "      <td>NaN</td>\n",
              "      <td>NaN</td>\n",
              "      <td>NaN</td>\n",
              "      <td>NaN</td>\n",
              "      <td>NaN</td>\n",
              "    </tr>\n",
              "    <tr>\n",
              "      <th>3</th>\n",
              "      <td>210052128335</td>\n",
              "      <td>580.7</td>\n",
              "      <td>678.9</td>\n",
              "      <td>638.9</td>\n",
              "      <td>659.5</td>\n",
              "      <td>780.0</td>\n",
              "    </tr>\n",
              "    <tr>\n",
              "      <th>4</th>\n",
              "      <td>210051353021</td>\n",
              "      <td>497.7</td>\n",
              "      <td>532.4</td>\n",
              "      <td>457.6</td>\n",
              "      <td>582.6</td>\n",
              "      <td>780.0</td>\n",
              "    </tr>\n",
              "  </tbody>\n",
              "</table>\n",
              "</div>\n",
              "      <button class=\"colab-df-convert\" onclick=\"convertToInteractive('df-8a9c6d34-8552-4b85-b55c-e3f17db91ed2')\"\n",
              "              title=\"Convert this dataframe to an interactive table.\"\n",
              "              style=\"display:none;\">\n",
              "        \n",
              "  <svg xmlns=\"http://www.w3.org/2000/svg\" height=\"24px\"viewBox=\"0 0 24 24\"\n",
              "       width=\"24px\">\n",
              "    <path d=\"M0 0h24v24H0V0z\" fill=\"none\"/>\n",
              "    <path d=\"M18.56 5.44l.94 2.06.94-2.06 2.06-.94-2.06-.94-.94-2.06-.94 2.06-2.06.94zm-11 1L8.5 8.5l.94-2.06 2.06-.94-2.06-.94L8.5 2.5l-.94 2.06-2.06.94zm10 10l.94 2.06.94-2.06 2.06-.94-2.06-.94-.94-2.06-.94 2.06-2.06.94z\"/><path d=\"M17.41 7.96l-1.37-1.37c-.4-.4-.92-.59-1.43-.59-.52 0-1.04.2-1.43.59L10.3 9.45l-7.72 7.72c-.78.78-.78 2.05 0 2.83L4 21.41c.39.39.9.59 1.41.59.51 0 1.02-.2 1.41-.59l7.78-7.78 2.81-2.81c.8-.78.8-2.07 0-2.86zM5.41 20L4 18.59l7.72-7.72 1.47 1.35L5.41 20z\"/>\n",
              "  </svg>\n",
              "      </button>\n",
              "      \n",
              "  <style>\n",
              "    .colab-df-container {\n",
              "      display:flex;\n",
              "      flex-wrap:wrap;\n",
              "      gap: 12px;\n",
              "    }\n",
              "\n",
              "    .colab-df-convert {\n",
              "      background-color: #E8F0FE;\n",
              "      border: none;\n",
              "      border-radius: 50%;\n",
              "      cursor: pointer;\n",
              "      display: none;\n",
              "      fill: #1967D2;\n",
              "      height: 32px;\n",
              "      padding: 0 0 0 0;\n",
              "      width: 32px;\n",
              "    }\n",
              "\n",
              "    .colab-df-convert:hover {\n",
              "      background-color: #E2EBFA;\n",
              "      box-shadow: 0px 1px 2px rgba(60, 64, 67, 0.3), 0px 1px 3px 1px rgba(60, 64, 67, 0.15);\n",
              "      fill: #174EA6;\n",
              "    }\n",
              "\n",
              "    [theme=dark] .colab-df-convert {\n",
              "      background-color: #3B4455;\n",
              "      fill: #D2E3FC;\n",
              "    }\n",
              "\n",
              "    [theme=dark] .colab-df-convert:hover {\n",
              "      background-color: #434B5C;\n",
              "      box-shadow: 0px 1px 3px 1px rgba(0, 0, 0, 0.15);\n",
              "      filter: drop-shadow(0px 1px 2px rgba(0, 0, 0, 0.3));\n",
              "      fill: #FFFFFF;\n",
              "    }\n",
              "  </style>\n",
              "\n",
              "      <script>\n",
              "        const buttonEl =\n",
              "          document.querySelector('#df-8a9c6d34-8552-4b85-b55c-e3f17db91ed2 button.colab-df-convert');\n",
              "        buttonEl.style.display =\n",
              "          google.colab.kernel.accessAllowed ? 'block' : 'none';\n",
              "\n",
              "        async function convertToInteractive(key) {\n",
              "          const element = document.querySelector('#df-8a9c6d34-8552-4b85-b55c-e3f17db91ed2');\n",
              "          const dataTable =\n",
              "            await google.colab.kernel.invokeFunction('convertToInteractive',\n",
              "                                                     [key], {});\n",
              "          if (!dataTable) return;\n",
              "\n",
              "          const docLinkHtml = 'Like what you see? Visit the ' +\n",
              "            '<a target=\"_blank\" href=https://colab.research.google.com/notebooks/data_table.ipynb>data table notebook</a>'\n",
              "            + ' to learn more about interactive tables.';\n",
              "          element.innerHTML = '';\n",
              "          dataTable['output_type'] = 'display_data';\n",
              "          await google.colab.output.renderOutput(dataTable, element);\n",
              "          const docLink = document.createElement('div');\n",
              "          docLink.innerHTML = docLinkHtml;\n",
              "          element.appendChild(docLink);\n",
              "        }\n",
              "      </script>\n",
              "    </div>\n",
              "  </div>\n",
              "  "
            ]
          },
          "metadata": {},
          "execution_count": 64
        }
      ],
      "source": [
        "enem = pd.read_csv(\"SAMPLE_MICRODADOS_ENEM_2021.csv\", sep=\";\" ,encoding = \"ISO-8859-1\")\n",
        "\n",
        "participantes_columns = ['NU_INSCRICAO', 'TP_FAIXA_ETARIA', 'TP_ST_CONCLUSAO', 'TP_ANO_CONCLUIU', ]\n",
        "participantes = enem[participantes_columns]\n",
        "participantes.columns = ['id', 'faixa_etaria', 'situacao_de_conclusao', 'ano_de_conclusao']\n",
        "\n",
        "notas_columns = ['NU_INSCRICAO', 'NU_NOTA_CN', 'NU_NOTA_CH', 'NU_NOTA_LC', 'NU_NOTA_MT', 'NU_NOTA_REDACAO']\n",
        "notas = enem[notas_columns]\n",
        "notas.columns = ['id', 'ciencias_naturais', 'ciencias_humanas', 'linguagem_codigo', 'matematica', 'redacao']\n",
        "colunas_notas = ['ciencias_naturais', 'ciencias_humanas', 'linguagem_codigo', 'matematica', 'redacao']\n",
        "notas.head()"
      ]
    },
    {
      "cell_type": "markdown",
      "source": [
        "## Análise exploratória dos dados"
      ],
      "metadata": {
        "id": "JqJItEpLt3zE"
      }
    },
    {
      "cell_type": "markdown",
      "source": [
        "### Definição de tipos\n",
        "Em nosso sample, possuímos as seguintes categorias de dados:\n",
        "- **Categóricos nominal**: faixa_etária dos estudates, situação de conclusão. \n",
        "- **Dados numéricos**: notes de ciências naturais, ciências humanas, linguagem de código, matemática e redação e etc."
      ],
      "metadata": {
        "id": "2MO9AUOEuRTV"
      }
    },
    {
      "cell_type": "code",
      "source": [
        "notas.dtypes"
      ],
      "metadata": {
        "id": "V5qrwRjLzpPR",
        "colab": {
          "base_uri": "https://localhost:8080/"
        },
        "outputId": "91703758-b65c-40e6-84d4-b0a84ba3e32e"
      },
      "execution_count": null,
      "outputs": [
        {
          "output_type": "execute_result",
          "data": {
            "text/plain": [
              "id                     int64\n",
              "ciencias_naturais    float64\n",
              "ciencias_humanas     float64\n",
              "linguagem_codigo     float64\n",
              "matematica           float64\n",
              "redacao              float64\n",
              "dtype: object"
            ]
          },
          "metadata": {},
          "execution_count": 65
        }
      ]
    },
    {
      "cell_type": "code",
      "source": [
        "participantes.dtypes"
      ],
      "metadata": {
        "id": "e6QBUIDDzvcG",
        "colab": {
          "base_uri": "https://localhost:8080/"
        },
        "outputId": "a481d8fe-a8fe-422d-832b-854e9ea75b41"
      },
      "execution_count": null,
      "outputs": [
        {
          "output_type": "execute_result",
          "data": {
            "text/plain": [
              "id                       int64\n",
              "faixa_etaria             int64\n",
              "situacao_de_conclusao    int64\n",
              "ano_de_conclusao         int64\n",
              "dtype: object"
            ]
          },
          "metadata": {},
          "execution_count": 66
        }
      ]
    },
    {
      "cell_type": "markdown",
      "source": [
        "### Adequando os tipos categóricos\n",
        "Aqui iremos adequar as categorias de faixa etária e a situação de conclusão do ensino médio dos participantes. Adicionaremos descrições a estes dados categóricos para melhor leitura. "
      ],
      "metadata": {
        "id": "-r5ZM7df3ayJ"
      }
    },
    {
      "cell_type": "code",
      "source": [
        "participantes['faixa_etaria'] = participantes['faixa_etaria'].astype('category')\n",
        "participantes['situacao_de_conclusao'] = participantes['situacao_de_conclusao'].astype('category')\n",
        "participantes.dtypes"
      ],
      "metadata": {
        "id": "I3xxWcKgz1qp",
        "colab": {
          "base_uri": "https://localhost:8080/"
        },
        "outputId": "cdc05369-45ab-4dd7-ac72-44175e6868d0"
      },
      "execution_count": null,
      "outputs": [
        {
          "output_type": "execute_result",
          "data": {
            "text/plain": [
              "id                          int64\n",
              "faixa_etaria             category\n",
              "situacao_de_conclusao    category\n",
              "ano_de_conclusao            int64\n",
              "dtype: object"
            ]
          },
          "metadata": {},
          "execution_count": 67
        }
      ]
    },
    {
      "cell_type": "code",
      "source": [
        "participantes['faixa_etaria'].cat.categories"
      ],
      "metadata": {
        "id": "o0vvCXjg0azo",
        "colab": {
          "base_uri": "https://localhost:8080/"
        },
        "outputId": "16375c5b-c674-46f3-cff0-9041147d7353"
      },
      "execution_count": null,
      "outputs": [
        {
          "output_type": "execute_result",
          "data": {
            "text/plain": [
              "Int64Index([1, 2, 3, 4, 5, 6, 7, 8, 9, 10, 11, 12, 13, 14, 15, 16, 17, 18, 19,\n",
              "            20],\n",
              "           dtype='int64')"
            ]
          },
          "metadata": {},
          "execution_count": 68
        }
      ]
    },
    {
      "cell_type": "code",
      "source": [
        "participantes['situacao_de_conclusao'].cat.categories"
      ],
      "metadata": {
        "id": "lnOPSHgG1MIF",
        "colab": {
          "base_uri": "https://localhost:8080/"
        },
        "outputId": "1ab79ec9-cadb-462b-96a8-cfd9adbd656b"
      },
      "execution_count": null,
      "outputs": [
        {
          "output_type": "execute_result",
          "data": {
            "text/plain": [
              "Int64Index([1, 2, 3, 4], dtype='int64')"
            ]
          },
          "metadata": {},
          "execution_count": 69
        }
      ]
    },
    {
      "cell_type": "code",
      "source": [
        "participantes['nome_situacao_de_conclusao'] = 'Ja conclui o Ensino Medio'\n",
        "participantes.loc[participantes['situacao_de_conclusao'] == 2 , 'nome_situacao_de_conclusao'] = 'Estou cursando e concluirei o Ensino Medio em 2021'\n",
        "participantes.loc[participantes['situacao_de_conclusao'] == 3 , 'nome_situacao_de_conclusao'] = 'Estou cursando e concluirei o Ensino Medio apos 2021'\n",
        "participantes.loc[participantes['situacao_de_conclusao'] == 4 , 'nome_situacao_de_conclusao'] = 'Nao conclui e não estou cursando o Ensino Medio'\n",
        "participantes['nome_situacao_de_conclusao'] = participantes['nome_situacao_de_conclusao'].astype('category')\n",
        "participantes.head()"
      ],
      "metadata": {
        "id": "Ldxy-GHB1T-r",
        "colab": {
          "base_uri": "https://localhost:8080/",
          "height": 206
        },
        "outputId": "17c5b497-f597-4943-a974-e6e824b03d6d"
      },
      "execution_count": null,
      "outputs": [
        {
          "output_type": "execute_result",
          "data": {
            "text/plain": [
              "             id faixa_etaria situacao_de_conclusao  ano_de_conclusao  \\\n",
              "0  210053865474            5                     1                 3   \n",
              "1  210052384164           12                     1                11   \n",
              "2  210052589243           13                     1                15   \n",
              "3  210052128335            3                     2                 0   \n",
              "4  210051353021            2                     2                 0   \n",
              "\n",
              "                          nome_situacao_de_conclusao  \n",
              "0                          Ja conclui o Ensino Medio  \n",
              "1                          Ja conclui o Ensino Medio  \n",
              "2                          Ja conclui o Ensino Medio  \n",
              "3  Estou cursando e concluirei o Ensino Medio em ...  \n",
              "4  Estou cursando e concluirei o Ensino Medio em ...  "
            ],
            "text/html": [
              "\n",
              "  <div id=\"df-23330182-f1be-4335-94c4-187c96313f89\">\n",
              "    <div class=\"colab-df-container\">\n",
              "      <div>\n",
              "<style scoped>\n",
              "    .dataframe tbody tr th:only-of-type {\n",
              "        vertical-align: middle;\n",
              "    }\n",
              "\n",
              "    .dataframe tbody tr th {\n",
              "        vertical-align: top;\n",
              "    }\n",
              "\n",
              "    .dataframe thead th {\n",
              "        text-align: right;\n",
              "    }\n",
              "</style>\n",
              "<table border=\"1\" class=\"dataframe\">\n",
              "  <thead>\n",
              "    <tr style=\"text-align: right;\">\n",
              "      <th></th>\n",
              "      <th>id</th>\n",
              "      <th>faixa_etaria</th>\n",
              "      <th>situacao_de_conclusao</th>\n",
              "      <th>ano_de_conclusao</th>\n",
              "      <th>nome_situacao_de_conclusao</th>\n",
              "    </tr>\n",
              "  </thead>\n",
              "  <tbody>\n",
              "    <tr>\n",
              "      <th>0</th>\n",
              "      <td>210053865474</td>\n",
              "      <td>5</td>\n",
              "      <td>1</td>\n",
              "      <td>3</td>\n",
              "      <td>Ja conclui o Ensino Medio</td>\n",
              "    </tr>\n",
              "    <tr>\n",
              "      <th>1</th>\n",
              "      <td>210052384164</td>\n",
              "      <td>12</td>\n",
              "      <td>1</td>\n",
              "      <td>11</td>\n",
              "      <td>Ja conclui o Ensino Medio</td>\n",
              "    </tr>\n",
              "    <tr>\n",
              "      <th>2</th>\n",
              "      <td>210052589243</td>\n",
              "      <td>13</td>\n",
              "      <td>1</td>\n",
              "      <td>15</td>\n",
              "      <td>Ja conclui o Ensino Medio</td>\n",
              "    </tr>\n",
              "    <tr>\n",
              "      <th>3</th>\n",
              "      <td>210052128335</td>\n",
              "      <td>3</td>\n",
              "      <td>2</td>\n",
              "      <td>0</td>\n",
              "      <td>Estou cursando e concluirei o Ensino Medio em ...</td>\n",
              "    </tr>\n",
              "    <tr>\n",
              "      <th>4</th>\n",
              "      <td>210051353021</td>\n",
              "      <td>2</td>\n",
              "      <td>2</td>\n",
              "      <td>0</td>\n",
              "      <td>Estou cursando e concluirei o Ensino Medio em ...</td>\n",
              "    </tr>\n",
              "  </tbody>\n",
              "</table>\n",
              "</div>\n",
              "      <button class=\"colab-df-convert\" onclick=\"convertToInteractive('df-23330182-f1be-4335-94c4-187c96313f89')\"\n",
              "              title=\"Convert this dataframe to an interactive table.\"\n",
              "              style=\"display:none;\">\n",
              "        \n",
              "  <svg xmlns=\"http://www.w3.org/2000/svg\" height=\"24px\"viewBox=\"0 0 24 24\"\n",
              "       width=\"24px\">\n",
              "    <path d=\"M0 0h24v24H0V0z\" fill=\"none\"/>\n",
              "    <path d=\"M18.56 5.44l.94 2.06.94-2.06 2.06-.94-2.06-.94-.94-2.06-.94 2.06-2.06.94zm-11 1L8.5 8.5l.94-2.06 2.06-.94-2.06-.94L8.5 2.5l-.94 2.06-2.06.94zm10 10l.94 2.06.94-2.06 2.06-.94-2.06-.94-.94-2.06-.94 2.06-2.06.94z\"/><path d=\"M17.41 7.96l-1.37-1.37c-.4-.4-.92-.59-1.43-.59-.52 0-1.04.2-1.43.59L10.3 9.45l-7.72 7.72c-.78.78-.78 2.05 0 2.83L4 21.41c.39.39.9.59 1.41.59.51 0 1.02-.2 1.41-.59l7.78-7.78 2.81-2.81c.8-.78.8-2.07 0-2.86zM5.41 20L4 18.59l7.72-7.72 1.47 1.35L5.41 20z\"/>\n",
              "  </svg>\n",
              "      </button>\n",
              "      \n",
              "  <style>\n",
              "    .colab-df-container {\n",
              "      display:flex;\n",
              "      flex-wrap:wrap;\n",
              "      gap: 12px;\n",
              "    }\n",
              "\n",
              "    .colab-df-convert {\n",
              "      background-color: #E8F0FE;\n",
              "      border: none;\n",
              "      border-radius: 50%;\n",
              "      cursor: pointer;\n",
              "      display: none;\n",
              "      fill: #1967D2;\n",
              "      height: 32px;\n",
              "      padding: 0 0 0 0;\n",
              "      width: 32px;\n",
              "    }\n",
              "\n",
              "    .colab-df-convert:hover {\n",
              "      background-color: #E2EBFA;\n",
              "      box-shadow: 0px 1px 2px rgba(60, 64, 67, 0.3), 0px 1px 3px 1px rgba(60, 64, 67, 0.15);\n",
              "      fill: #174EA6;\n",
              "    }\n",
              "\n",
              "    [theme=dark] .colab-df-convert {\n",
              "      background-color: #3B4455;\n",
              "      fill: #D2E3FC;\n",
              "    }\n",
              "\n",
              "    [theme=dark] .colab-df-convert:hover {\n",
              "      background-color: #434B5C;\n",
              "      box-shadow: 0px 1px 3px 1px rgba(0, 0, 0, 0.15);\n",
              "      filter: drop-shadow(0px 1px 2px rgba(0, 0, 0, 0.3));\n",
              "      fill: #FFFFFF;\n",
              "    }\n",
              "  </style>\n",
              "\n",
              "      <script>\n",
              "        const buttonEl =\n",
              "          document.querySelector('#df-23330182-f1be-4335-94c4-187c96313f89 button.colab-df-convert');\n",
              "        buttonEl.style.display =\n",
              "          google.colab.kernel.accessAllowed ? 'block' : 'none';\n",
              "\n",
              "        async function convertToInteractive(key) {\n",
              "          const element = document.querySelector('#df-23330182-f1be-4335-94c4-187c96313f89');\n",
              "          const dataTable =\n",
              "            await google.colab.kernel.invokeFunction('convertToInteractive',\n",
              "                                                     [key], {});\n",
              "          if (!dataTable) return;\n",
              "\n",
              "          const docLinkHtml = 'Like what you see? Visit the ' +\n",
              "            '<a target=\"_blank\" href=https://colab.research.google.com/notebooks/data_table.ipynb>data table notebook</a>'\n",
              "            + ' to learn more about interactive tables.';\n",
              "          element.innerHTML = '';\n",
              "          dataTable['output_type'] = 'display_data';\n",
              "          await google.colab.output.renderOutput(dataTable, element);\n",
              "          const docLink = document.createElement('div');\n",
              "          docLink.innerHTML = docLinkHtml;\n",
              "          element.appendChild(docLink);\n",
              "        }\n",
              "      </script>\n",
              "    </div>\n",
              "  </div>\n",
              "  "
            ]
          },
          "metadata": {},
          "execution_count": 70
        }
      ]
    },
    {
      "cell_type": "code",
      "source": [
        "participantes['nome_situacao_de_conclusao'].cat.categories"
      ],
      "metadata": {
        "id": "9HP0t9F_2Yai",
        "colab": {
          "base_uri": "https://localhost:8080/"
        },
        "outputId": "3482fe43-36c9-402a-cc6a-ef219d09127a"
      },
      "execution_count": null,
      "outputs": [
        {
          "output_type": "execute_result",
          "data": {
            "text/plain": [
              "Index(['Estou cursando e concluirei o Ensino Medio apos 2021',\n",
              "       'Estou cursando e concluirei o Ensino Medio em 2021',\n",
              "       'Ja conclui o Ensino Medio',\n",
              "       'Nao conclui e não estou cursando o Ensino Medio'],\n",
              "      dtype='object')"
            ]
          },
          "metadata": {},
          "execution_count": 71
        }
      ]
    },
    {
      "cell_type": "code",
      "source": [
        "participantes['code_situacao_de_conclusao'] = participantes['nome_situacao_de_conclusao'].cat.codes\n",
        "participantes.head()"
      ],
      "metadata": {
        "id": "k6ZOfHrX2_rz",
        "colab": {
          "base_uri": "https://localhost:8080/",
          "height": 285
        },
        "outputId": "9d53c520-b5f4-410c-f41b-535a4039863b"
      },
      "execution_count": null,
      "outputs": [
        {
          "output_type": "execute_result",
          "data": {
            "text/plain": [
              "             id faixa_etaria situacao_de_conclusao  ano_de_conclusao  \\\n",
              "0  210053865474            5                     1                 3   \n",
              "1  210052384164           12                     1                11   \n",
              "2  210052589243           13                     1                15   \n",
              "3  210052128335            3                     2                 0   \n",
              "4  210051353021            2                     2                 0   \n",
              "\n",
              "                          nome_situacao_de_conclusao  \\\n",
              "0                          Ja conclui o Ensino Medio   \n",
              "1                          Ja conclui o Ensino Medio   \n",
              "2                          Ja conclui o Ensino Medio   \n",
              "3  Estou cursando e concluirei o Ensino Medio em ...   \n",
              "4  Estou cursando e concluirei o Ensino Medio em ...   \n",
              "\n",
              "   code_situacao_de_conclusao  \n",
              "0                           2  \n",
              "1                           2  \n",
              "2                           2  \n",
              "3                           1  \n",
              "4                           1  "
            ],
            "text/html": [
              "\n",
              "  <div id=\"df-674138a9-c373-4363-b75d-b2481ac1788e\">\n",
              "    <div class=\"colab-df-container\">\n",
              "      <div>\n",
              "<style scoped>\n",
              "    .dataframe tbody tr th:only-of-type {\n",
              "        vertical-align: middle;\n",
              "    }\n",
              "\n",
              "    .dataframe tbody tr th {\n",
              "        vertical-align: top;\n",
              "    }\n",
              "\n",
              "    .dataframe thead th {\n",
              "        text-align: right;\n",
              "    }\n",
              "</style>\n",
              "<table border=\"1\" class=\"dataframe\">\n",
              "  <thead>\n",
              "    <tr style=\"text-align: right;\">\n",
              "      <th></th>\n",
              "      <th>id</th>\n",
              "      <th>faixa_etaria</th>\n",
              "      <th>situacao_de_conclusao</th>\n",
              "      <th>ano_de_conclusao</th>\n",
              "      <th>nome_situacao_de_conclusao</th>\n",
              "      <th>code_situacao_de_conclusao</th>\n",
              "    </tr>\n",
              "  </thead>\n",
              "  <tbody>\n",
              "    <tr>\n",
              "      <th>0</th>\n",
              "      <td>210053865474</td>\n",
              "      <td>5</td>\n",
              "      <td>1</td>\n",
              "      <td>3</td>\n",
              "      <td>Ja conclui o Ensino Medio</td>\n",
              "      <td>2</td>\n",
              "    </tr>\n",
              "    <tr>\n",
              "      <th>1</th>\n",
              "      <td>210052384164</td>\n",
              "      <td>12</td>\n",
              "      <td>1</td>\n",
              "      <td>11</td>\n",
              "      <td>Ja conclui o Ensino Medio</td>\n",
              "      <td>2</td>\n",
              "    </tr>\n",
              "    <tr>\n",
              "      <th>2</th>\n",
              "      <td>210052589243</td>\n",
              "      <td>13</td>\n",
              "      <td>1</td>\n",
              "      <td>15</td>\n",
              "      <td>Ja conclui o Ensino Medio</td>\n",
              "      <td>2</td>\n",
              "    </tr>\n",
              "    <tr>\n",
              "      <th>3</th>\n",
              "      <td>210052128335</td>\n",
              "      <td>3</td>\n",
              "      <td>2</td>\n",
              "      <td>0</td>\n",
              "      <td>Estou cursando e concluirei o Ensino Medio em ...</td>\n",
              "      <td>1</td>\n",
              "    </tr>\n",
              "    <tr>\n",
              "      <th>4</th>\n",
              "      <td>210051353021</td>\n",
              "      <td>2</td>\n",
              "      <td>2</td>\n",
              "      <td>0</td>\n",
              "      <td>Estou cursando e concluirei o Ensino Medio em ...</td>\n",
              "      <td>1</td>\n",
              "    </tr>\n",
              "  </tbody>\n",
              "</table>\n",
              "</div>\n",
              "      <button class=\"colab-df-convert\" onclick=\"convertToInteractive('df-674138a9-c373-4363-b75d-b2481ac1788e')\"\n",
              "              title=\"Convert this dataframe to an interactive table.\"\n",
              "              style=\"display:none;\">\n",
              "        \n",
              "  <svg xmlns=\"http://www.w3.org/2000/svg\" height=\"24px\"viewBox=\"0 0 24 24\"\n",
              "       width=\"24px\">\n",
              "    <path d=\"M0 0h24v24H0V0z\" fill=\"none\"/>\n",
              "    <path d=\"M18.56 5.44l.94 2.06.94-2.06 2.06-.94-2.06-.94-.94-2.06-.94 2.06-2.06.94zm-11 1L8.5 8.5l.94-2.06 2.06-.94-2.06-.94L8.5 2.5l-.94 2.06-2.06.94zm10 10l.94 2.06.94-2.06 2.06-.94-2.06-.94-.94-2.06-.94 2.06-2.06.94z\"/><path d=\"M17.41 7.96l-1.37-1.37c-.4-.4-.92-.59-1.43-.59-.52 0-1.04.2-1.43.59L10.3 9.45l-7.72 7.72c-.78.78-.78 2.05 0 2.83L4 21.41c.39.39.9.59 1.41.59.51 0 1.02-.2 1.41-.59l7.78-7.78 2.81-2.81c.8-.78.8-2.07 0-2.86zM5.41 20L4 18.59l7.72-7.72 1.47 1.35L5.41 20z\"/>\n",
              "  </svg>\n",
              "      </button>\n",
              "      \n",
              "  <style>\n",
              "    .colab-df-container {\n",
              "      display:flex;\n",
              "      flex-wrap:wrap;\n",
              "      gap: 12px;\n",
              "    }\n",
              "\n",
              "    .colab-df-convert {\n",
              "      background-color: #E8F0FE;\n",
              "      border: none;\n",
              "      border-radius: 50%;\n",
              "      cursor: pointer;\n",
              "      display: none;\n",
              "      fill: #1967D2;\n",
              "      height: 32px;\n",
              "      padding: 0 0 0 0;\n",
              "      width: 32px;\n",
              "    }\n",
              "\n",
              "    .colab-df-convert:hover {\n",
              "      background-color: #E2EBFA;\n",
              "      box-shadow: 0px 1px 2px rgba(60, 64, 67, 0.3), 0px 1px 3px 1px rgba(60, 64, 67, 0.15);\n",
              "      fill: #174EA6;\n",
              "    }\n",
              "\n",
              "    [theme=dark] .colab-df-convert {\n",
              "      background-color: #3B4455;\n",
              "      fill: #D2E3FC;\n",
              "    }\n",
              "\n",
              "    [theme=dark] .colab-df-convert:hover {\n",
              "      background-color: #434B5C;\n",
              "      box-shadow: 0px 1px 3px 1px rgba(0, 0, 0, 0.15);\n",
              "      filter: drop-shadow(0px 1px 2px rgba(0, 0, 0, 0.3));\n",
              "      fill: #FFFFFF;\n",
              "    }\n",
              "  </style>\n",
              "\n",
              "      <script>\n",
              "        const buttonEl =\n",
              "          document.querySelector('#df-674138a9-c373-4363-b75d-b2481ac1788e button.colab-df-convert');\n",
              "        buttonEl.style.display =\n",
              "          google.colab.kernel.accessAllowed ? 'block' : 'none';\n",
              "\n",
              "        async function convertToInteractive(key) {\n",
              "          const element = document.querySelector('#df-674138a9-c373-4363-b75d-b2481ac1788e');\n",
              "          const dataTable =\n",
              "            await google.colab.kernel.invokeFunction('convertToInteractive',\n",
              "                                                     [key], {});\n",
              "          if (!dataTable) return;\n",
              "\n",
              "          const docLinkHtml = 'Like what you see? Visit the ' +\n",
              "            '<a target=\"_blank\" href=https://colab.research.google.com/notebooks/data_table.ipynb>data table notebook</a>'\n",
              "            + ' to learn more about interactive tables.';\n",
              "          element.innerHTML = '';\n",
              "          dataTable['output_type'] = 'display_data';\n",
              "          await google.colab.output.renderOutput(dataTable, element);\n",
              "          const docLink = document.createElement('div');\n",
              "          docLink.innerHTML = docLinkHtml;\n",
              "          element.appendChild(docLink);\n",
              "        }\n",
              "      </script>\n",
              "    </div>\n",
              "  </div>\n",
              "  "
            ]
          },
          "metadata": {},
          "execution_count": 72
        }
      ]
    },
    {
      "cell_type": "markdown",
      "source": [
        "### Visualização geral dos nossos dados"
      ],
      "metadata": {
        "id": "_aPCNgXvvpDo"
      }
    },
    {
      "cell_type": "markdown",
      "source": [
        "#### Notas"
      ],
      "metadata": {
        "id": "dAcppXrh4lZN"
      }
    },
    {
      "cell_type": "code",
      "source": [
        "notas.describe()"
      ],
      "metadata": {
        "id": "aYGMVnlcO7WI",
        "colab": {
          "base_uri": "https://localhost:8080/",
          "height": 300
        },
        "outputId": "1ac85a63-69cc-4496-f431-f005a3225df5"
      },
      "execution_count": null,
      "outputs": [
        {
          "output_type": "execute_result",
          "data": {
            "text/plain": [
              "                 id  ciencias_naturais  ciencias_humanas  linguagem_codigo  \\\n",
              "count  2.999990e+05      232565.000000     242841.000000     242841.000000   \n",
              "mean   2.100527e+11         488.381383        521.076241        502.510050   \n",
              "std    9.979763e+05          80.815677         94.369505         78.177863   \n",
              "min    2.100510e+11           0.000000          0.000000          0.000000   \n",
              "25%    2.100519e+11         428.000000        447.700000        448.300000   \n",
              "50%    2.100527e+11         476.400000        521.800000        504.500000   \n",
              "75%    2.100536e+11         540.100000        588.700000        557.300000   \n",
              "max    2.100545e+11         867.100000        846.900000        794.200000   \n",
              "\n",
              "          matematica        redacao  \n",
              "count  232565.000000  242841.000000  \n",
              "mean      532.038919     646.189317  \n",
              "std       110.280714     189.255659  \n",
              "min         0.000000       0.000000  \n",
              "25%       442.700000     540.000000  \n",
              "50%       510.000000     640.000000  \n",
              "75%       607.800000     800.000000  \n",
              "max       953.100000    1000.000000  "
            ],
            "text/html": [
              "\n",
              "  <div id=\"df-88eb62b4-ca29-4c06-ad27-6696cc395ffa\">\n",
              "    <div class=\"colab-df-container\">\n",
              "      <div>\n",
              "<style scoped>\n",
              "    .dataframe tbody tr th:only-of-type {\n",
              "        vertical-align: middle;\n",
              "    }\n",
              "\n",
              "    .dataframe tbody tr th {\n",
              "        vertical-align: top;\n",
              "    }\n",
              "\n",
              "    .dataframe thead th {\n",
              "        text-align: right;\n",
              "    }\n",
              "</style>\n",
              "<table border=\"1\" class=\"dataframe\">\n",
              "  <thead>\n",
              "    <tr style=\"text-align: right;\">\n",
              "      <th></th>\n",
              "      <th>id</th>\n",
              "      <th>ciencias_naturais</th>\n",
              "      <th>ciencias_humanas</th>\n",
              "      <th>linguagem_codigo</th>\n",
              "      <th>matematica</th>\n",
              "      <th>redacao</th>\n",
              "    </tr>\n",
              "  </thead>\n",
              "  <tbody>\n",
              "    <tr>\n",
              "      <th>count</th>\n",
              "      <td>2.999990e+05</td>\n",
              "      <td>232565.000000</td>\n",
              "      <td>242841.000000</td>\n",
              "      <td>242841.000000</td>\n",
              "      <td>232565.000000</td>\n",
              "      <td>242841.000000</td>\n",
              "    </tr>\n",
              "    <tr>\n",
              "      <th>mean</th>\n",
              "      <td>2.100527e+11</td>\n",
              "      <td>488.381383</td>\n",
              "      <td>521.076241</td>\n",
              "      <td>502.510050</td>\n",
              "      <td>532.038919</td>\n",
              "      <td>646.189317</td>\n",
              "    </tr>\n",
              "    <tr>\n",
              "      <th>std</th>\n",
              "      <td>9.979763e+05</td>\n",
              "      <td>80.815677</td>\n",
              "      <td>94.369505</td>\n",
              "      <td>78.177863</td>\n",
              "      <td>110.280714</td>\n",
              "      <td>189.255659</td>\n",
              "    </tr>\n",
              "    <tr>\n",
              "      <th>min</th>\n",
              "      <td>2.100510e+11</td>\n",
              "      <td>0.000000</td>\n",
              "      <td>0.000000</td>\n",
              "      <td>0.000000</td>\n",
              "      <td>0.000000</td>\n",
              "      <td>0.000000</td>\n",
              "    </tr>\n",
              "    <tr>\n",
              "      <th>25%</th>\n",
              "      <td>2.100519e+11</td>\n",
              "      <td>428.000000</td>\n",
              "      <td>447.700000</td>\n",
              "      <td>448.300000</td>\n",
              "      <td>442.700000</td>\n",
              "      <td>540.000000</td>\n",
              "    </tr>\n",
              "    <tr>\n",
              "      <th>50%</th>\n",
              "      <td>2.100527e+11</td>\n",
              "      <td>476.400000</td>\n",
              "      <td>521.800000</td>\n",
              "      <td>504.500000</td>\n",
              "      <td>510.000000</td>\n",
              "      <td>640.000000</td>\n",
              "    </tr>\n",
              "    <tr>\n",
              "      <th>75%</th>\n",
              "      <td>2.100536e+11</td>\n",
              "      <td>540.100000</td>\n",
              "      <td>588.700000</td>\n",
              "      <td>557.300000</td>\n",
              "      <td>607.800000</td>\n",
              "      <td>800.000000</td>\n",
              "    </tr>\n",
              "    <tr>\n",
              "      <th>max</th>\n",
              "      <td>2.100545e+11</td>\n",
              "      <td>867.100000</td>\n",
              "      <td>846.900000</td>\n",
              "      <td>794.200000</td>\n",
              "      <td>953.100000</td>\n",
              "      <td>1000.000000</td>\n",
              "    </tr>\n",
              "  </tbody>\n",
              "</table>\n",
              "</div>\n",
              "      <button class=\"colab-df-convert\" onclick=\"convertToInteractive('df-88eb62b4-ca29-4c06-ad27-6696cc395ffa')\"\n",
              "              title=\"Convert this dataframe to an interactive table.\"\n",
              "              style=\"display:none;\">\n",
              "        \n",
              "  <svg xmlns=\"http://www.w3.org/2000/svg\" height=\"24px\"viewBox=\"0 0 24 24\"\n",
              "       width=\"24px\">\n",
              "    <path d=\"M0 0h24v24H0V0z\" fill=\"none\"/>\n",
              "    <path d=\"M18.56 5.44l.94 2.06.94-2.06 2.06-.94-2.06-.94-.94-2.06-.94 2.06-2.06.94zm-11 1L8.5 8.5l.94-2.06 2.06-.94-2.06-.94L8.5 2.5l-.94 2.06-2.06.94zm10 10l.94 2.06.94-2.06 2.06-.94-2.06-.94-.94-2.06-.94 2.06-2.06.94z\"/><path d=\"M17.41 7.96l-1.37-1.37c-.4-.4-.92-.59-1.43-.59-.52 0-1.04.2-1.43.59L10.3 9.45l-7.72 7.72c-.78.78-.78 2.05 0 2.83L4 21.41c.39.39.9.59 1.41.59.51 0 1.02-.2 1.41-.59l7.78-7.78 2.81-2.81c.8-.78.8-2.07 0-2.86zM5.41 20L4 18.59l7.72-7.72 1.47 1.35L5.41 20z\"/>\n",
              "  </svg>\n",
              "      </button>\n",
              "      \n",
              "  <style>\n",
              "    .colab-df-container {\n",
              "      display:flex;\n",
              "      flex-wrap:wrap;\n",
              "      gap: 12px;\n",
              "    }\n",
              "\n",
              "    .colab-df-convert {\n",
              "      background-color: #E8F0FE;\n",
              "      border: none;\n",
              "      border-radius: 50%;\n",
              "      cursor: pointer;\n",
              "      display: none;\n",
              "      fill: #1967D2;\n",
              "      height: 32px;\n",
              "      padding: 0 0 0 0;\n",
              "      width: 32px;\n",
              "    }\n",
              "\n",
              "    .colab-df-convert:hover {\n",
              "      background-color: #E2EBFA;\n",
              "      box-shadow: 0px 1px 2px rgba(60, 64, 67, 0.3), 0px 1px 3px 1px rgba(60, 64, 67, 0.15);\n",
              "      fill: #174EA6;\n",
              "    }\n",
              "\n",
              "    [theme=dark] .colab-df-convert {\n",
              "      background-color: #3B4455;\n",
              "      fill: #D2E3FC;\n",
              "    }\n",
              "\n",
              "    [theme=dark] .colab-df-convert:hover {\n",
              "      background-color: #434B5C;\n",
              "      box-shadow: 0px 1px 3px 1px rgba(0, 0, 0, 0.15);\n",
              "      filter: drop-shadow(0px 1px 2px rgba(0, 0, 0, 0.3));\n",
              "      fill: #FFFFFF;\n",
              "    }\n",
              "  </style>\n",
              "\n",
              "      <script>\n",
              "        const buttonEl =\n",
              "          document.querySelector('#df-88eb62b4-ca29-4c06-ad27-6696cc395ffa button.colab-df-convert');\n",
              "        buttonEl.style.display =\n",
              "          google.colab.kernel.accessAllowed ? 'block' : 'none';\n",
              "\n",
              "        async function convertToInteractive(key) {\n",
              "          const element = document.querySelector('#df-88eb62b4-ca29-4c06-ad27-6696cc395ffa');\n",
              "          const dataTable =\n",
              "            await google.colab.kernel.invokeFunction('convertToInteractive',\n",
              "                                                     [key], {});\n",
              "          if (!dataTable) return;\n",
              "\n",
              "          const docLinkHtml = 'Like what you see? Visit the ' +\n",
              "            '<a target=\"_blank\" href=https://colab.research.google.com/notebooks/data_table.ipynb>data table notebook</a>'\n",
              "            + ' to learn more about interactive tables.';\n",
              "          element.innerHTML = '';\n",
              "          dataTable['output_type'] = 'display_data';\n",
              "          await google.colab.output.renderOutput(dataTable, element);\n",
              "          const docLink = document.createElement('div');\n",
              "          docLink.innerHTML = docLinkHtml;\n",
              "          element.appendChild(docLink);\n",
              "        }\n",
              "      </script>\n",
              "    </div>\n",
              "  </div>\n",
              "  "
            ]
          },
          "metadata": {},
          "execution_count": 73
        }
      ]
    },
    {
      "cell_type": "markdown",
      "source": [
        "#### Participantes"
      ],
      "metadata": {
        "id": "n26Diy2k4fUB"
      }
    },
    {
      "cell_type": "code",
      "source": [
        "participantes.describe()"
      ],
      "metadata": {
        "id": "l4w9rTF1_MdM",
        "colab": {
          "base_uri": "https://localhost:8080/",
          "height": 300
        },
        "outputId": "22e465f9-4fbe-4c78-83e7-53d99d69606a"
      },
      "execution_count": null,
      "outputs": [
        {
          "output_type": "execute_result",
          "data": {
            "text/plain": [
              "                 id  ano_de_conclusao  code_situacao_de_conclusao\n",
              "count  2.999990e+05     299999.000000               299999.000000\n",
              "mean   2.100527e+11          1.549182                    1.321278\n",
              "std    9.979763e+05          3.224247                    0.655937\n",
              "min    2.100510e+11          0.000000                    0.000000\n",
              "25%    2.100519e+11          0.000000                    1.000000\n",
              "50%    2.100527e+11          0.000000                    1.000000\n",
              "75%    2.100536e+11          2.000000                    2.000000\n",
              "max    2.100545e+11         15.000000                    3.000000"
            ],
            "text/html": [
              "\n",
              "  <div id=\"df-d954db12-a4c3-4b74-bfc3-68073ef74505\">\n",
              "    <div class=\"colab-df-container\">\n",
              "      <div>\n",
              "<style scoped>\n",
              "    .dataframe tbody tr th:only-of-type {\n",
              "        vertical-align: middle;\n",
              "    }\n",
              "\n",
              "    .dataframe tbody tr th {\n",
              "        vertical-align: top;\n",
              "    }\n",
              "\n",
              "    .dataframe thead th {\n",
              "        text-align: right;\n",
              "    }\n",
              "</style>\n",
              "<table border=\"1\" class=\"dataframe\">\n",
              "  <thead>\n",
              "    <tr style=\"text-align: right;\">\n",
              "      <th></th>\n",
              "      <th>id</th>\n",
              "      <th>ano_de_conclusao</th>\n",
              "      <th>code_situacao_de_conclusao</th>\n",
              "    </tr>\n",
              "  </thead>\n",
              "  <tbody>\n",
              "    <tr>\n",
              "      <th>count</th>\n",
              "      <td>2.999990e+05</td>\n",
              "      <td>299999.000000</td>\n",
              "      <td>299999.000000</td>\n",
              "    </tr>\n",
              "    <tr>\n",
              "      <th>mean</th>\n",
              "      <td>2.100527e+11</td>\n",
              "      <td>1.549182</td>\n",
              "      <td>1.321278</td>\n",
              "    </tr>\n",
              "    <tr>\n",
              "      <th>std</th>\n",
              "      <td>9.979763e+05</td>\n",
              "      <td>3.224247</td>\n",
              "      <td>0.655937</td>\n",
              "    </tr>\n",
              "    <tr>\n",
              "      <th>min</th>\n",
              "      <td>2.100510e+11</td>\n",
              "      <td>0.000000</td>\n",
              "      <td>0.000000</td>\n",
              "    </tr>\n",
              "    <tr>\n",
              "      <th>25%</th>\n",
              "      <td>2.100519e+11</td>\n",
              "      <td>0.000000</td>\n",
              "      <td>1.000000</td>\n",
              "    </tr>\n",
              "    <tr>\n",
              "      <th>50%</th>\n",
              "      <td>2.100527e+11</td>\n",
              "      <td>0.000000</td>\n",
              "      <td>1.000000</td>\n",
              "    </tr>\n",
              "    <tr>\n",
              "      <th>75%</th>\n",
              "      <td>2.100536e+11</td>\n",
              "      <td>2.000000</td>\n",
              "      <td>2.000000</td>\n",
              "    </tr>\n",
              "    <tr>\n",
              "      <th>max</th>\n",
              "      <td>2.100545e+11</td>\n",
              "      <td>15.000000</td>\n",
              "      <td>3.000000</td>\n",
              "    </tr>\n",
              "  </tbody>\n",
              "</table>\n",
              "</div>\n",
              "      <button class=\"colab-df-convert\" onclick=\"convertToInteractive('df-d954db12-a4c3-4b74-bfc3-68073ef74505')\"\n",
              "              title=\"Convert this dataframe to an interactive table.\"\n",
              "              style=\"display:none;\">\n",
              "        \n",
              "  <svg xmlns=\"http://www.w3.org/2000/svg\" height=\"24px\"viewBox=\"0 0 24 24\"\n",
              "       width=\"24px\">\n",
              "    <path d=\"M0 0h24v24H0V0z\" fill=\"none\"/>\n",
              "    <path d=\"M18.56 5.44l.94 2.06.94-2.06 2.06-.94-2.06-.94-.94-2.06-.94 2.06-2.06.94zm-11 1L8.5 8.5l.94-2.06 2.06-.94-2.06-.94L8.5 2.5l-.94 2.06-2.06.94zm10 10l.94 2.06.94-2.06 2.06-.94-2.06-.94-.94-2.06-.94 2.06-2.06.94z\"/><path d=\"M17.41 7.96l-1.37-1.37c-.4-.4-.92-.59-1.43-.59-.52 0-1.04.2-1.43.59L10.3 9.45l-7.72 7.72c-.78.78-.78 2.05 0 2.83L4 21.41c.39.39.9.59 1.41.59.51 0 1.02-.2 1.41-.59l7.78-7.78 2.81-2.81c.8-.78.8-2.07 0-2.86zM5.41 20L4 18.59l7.72-7.72 1.47 1.35L5.41 20z\"/>\n",
              "  </svg>\n",
              "      </button>\n",
              "      \n",
              "  <style>\n",
              "    .colab-df-container {\n",
              "      display:flex;\n",
              "      flex-wrap:wrap;\n",
              "      gap: 12px;\n",
              "    }\n",
              "\n",
              "    .colab-df-convert {\n",
              "      background-color: #E8F0FE;\n",
              "      border: none;\n",
              "      border-radius: 50%;\n",
              "      cursor: pointer;\n",
              "      display: none;\n",
              "      fill: #1967D2;\n",
              "      height: 32px;\n",
              "      padding: 0 0 0 0;\n",
              "      width: 32px;\n",
              "    }\n",
              "\n",
              "    .colab-df-convert:hover {\n",
              "      background-color: #E2EBFA;\n",
              "      box-shadow: 0px 1px 2px rgba(60, 64, 67, 0.3), 0px 1px 3px 1px rgba(60, 64, 67, 0.15);\n",
              "      fill: #174EA6;\n",
              "    }\n",
              "\n",
              "    [theme=dark] .colab-df-convert {\n",
              "      background-color: #3B4455;\n",
              "      fill: #D2E3FC;\n",
              "    }\n",
              "\n",
              "    [theme=dark] .colab-df-convert:hover {\n",
              "      background-color: #434B5C;\n",
              "      box-shadow: 0px 1px 3px 1px rgba(0, 0, 0, 0.15);\n",
              "      filter: drop-shadow(0px 1px 2px rgba(0, 0, 0, 0.3));\n",
              "      fill: #FFFFFF;\n",
              "    }\n",
              "  </style>\n",
              "\n",
              "      <script>\n",
              "        const buttonEl =\n",
              "          document.querySelector('#df-d954db12-a4c3-4b74-bfc3-68073ef74505 button.colab-df-convert');\n",
              "        buttonEl.style.display =\n",
              "          google.colab.kernel.accessAllowed ? 'block' : 'none';\n",
              "\n",
              "        async function convertToInteractive(key) {\n",
              "          const element = document.querySelector('#df-d954db12-a4c3-4b74-bfc3-68073ef74505');\n",
              "          const dataTable =\n",
              "            await google.colab.kernel.invokeFunction('convertToInteractive',\n",
              "                                                     [key], {});\n",
              "          if (!dataTable) return;\n",
              "\n",
              "          const docLinkHtml = 'Like what you see? Visit the ' +\n",
              "            '<a target=\"_blank\" href=https://colab.research.google.com/notebooks/data_table.ipynb>data table notebook</a>'\n",
              "            + ' to learn more about interactive tables.';\n",
              "          element.innerHTML = '';\n",
              "          dataTable['output_type'] = 'display_data';\n",
              "          await google.colab.output.renderOutput(dataTable, element);\n",
              "          const docLink = document.createElement('div');\n",
              "          docLink.innerHTML = docLinkHtml;\n",
              "          element.appendChild(docLink);\n",
              "        }\n",
              "      </script>\n",
              "    </div>\n",
              "  </div>\n",
              "  "
            ]
          },
          "metadata": {},
          "execution_count": 74
        }
      ]
    },
    {
      "cell_type": "markdown",
      "source": [
        "### Detecção de dados ausentes\n",
        "Nesta seção, faremos um levantamento de quantas instâncias de dados possuem: ao menos 1 coluna nula, mais de 1 coluna nula, nenhuma coluna nula etc. Posteriormente também implementaremos técnicas para solver este tipo de problema, como inputação a partir da média, mediana, randômico até técnicas mais refinadas como KNN."
      ],
      "metadata": {
        "id": "JPPAeZYfxGRv"
      }
    },
    {
      "cell_type": "markdown",
      "source": [
        "#### Levantamento de instâncias que possuem ao menos uma coluna nula"
      ],
      "metadata": {
        "id": "06351zMO5Hw_"
      }
    },
    {
      "cell_type": "code",
      "source": [
        "print(participantes.isnull().sum())"
      ],
      "metadata": {
        "id": "rtumPuJZ3wrx",
        "colab": {
          "base_uri": "https://localhost:8080/"
        },
        "outputId": "3ca0580e-8127-4c7c-c5c2-8b44f980e103"
      },
      "execution_count": null,
      "outputs": [
        {
          "output_type": "stream",
          "name": "stdout",
          "text": [
            "id                            0\n",
            "faixa_etaria                  0\n",
            "situacao_de_conclusao         0\n",
            "ano_de_conclusao              0\n",
            "nome_situacao_de_conclusao    0\n",
            "code_situacao_de_conclusao    0\n",
            "dtype: int64\n"
          ]
        }
      ]
    },
    {
      "cell_type": "code",
      "source": [
        "print(notas.isnull().sum())"
      ],
      "metadata": {
        "id": "PyKWVIH7371a",
        "colab": {
          "base_uri": "https://localhost:8080/"
        },
        "outputId": "3bb9d19e-acd6-43a1-afa4-e77c425e492d"
      },
      "execution_count": null,
      "outputs": [
        {
          "output_type": "stream",
          "name": "stdout",
          "text": [
            "id                       0\n",
            "ciencias_naturais    67434\n",
            "ciencias_humanas     57158\n",
            "linguagem_codigo     57158\n",
            "matematica           67434\n",
            "redacao              57158\n",
            "dtype: int64\n"
          ]
        }
      ]
    },
    {
      "cell_type": "code",
      "source": [
        "notas_incompletas = notas[notas.isna().any(axis=1)]\n",
        "qtd_notas_incompletas = len(notas_incompletas)\n",
        "pct_notas_incompletas = (qtd_notas_incompletas/len(notas))*100\n",
        "print(f'{pct_notas_incompletas:.1f}% de nossos dados de notas possui algum valor nulo.')"
      ],
      "metadata": {
        "id": "tOCcEyAd8psc",
        "colab": {
          "base_uri": "https://localhost:8080/"
        },
        "outputId": "1a5e51cc-0896-4ef9-aa59-c4cb6642b71d"
      },
      "execution_count": null,
      "outputs": [
        {
          "output_type": "stream",
          "name": "stdout",
          "text": [
            "22.7% de nossos dados de notas possui algum valor nulo.\n"
          ]
        }
      ]
    },
    {
      "cell_type": "code",
      "source": [
        "# quantidade de instancias em notas\n",
        "len(notas)"
      ],
      "metadata": {
        "id": "IL9N-GoM5Qyq",
        "colab": {
          "base_uri": "https://localhost:8080/"
        },
        "outputId": "77ec207f-f35d-4c78-ced9-431585d78f87"
      },
      "execution_count": null,
      "outputs": [
        {
          "output_type": "execute_result",
          "data": {
            "text/plain": [
              "299999"
            ]
          },
          "metadata": {},
          "execution_count": 78
        }
      ]
    },
    {
      "cell_type": "markdown",
      "source": [
        "#### Removendo instancias com pelo menos 1 campo nulo"
      ],
      "metadata": {
        "id": "FQPsEHlK5t7m"
      }
    },
    {
      "cell_type": "code",
      "source": [
        "notas_removidas_1_dado_ausente = notas.dropna()\n",
        "print(len(notas_removidas_1_dado_ausente))"
      ],
      "metadata": {
        "id": "kASJF0hy497V",
        "colab": {
          "base_uri": "https://localhost:8080/"
        },
        "outputId": "39d07aec-8cdc-4780-f028-acd8524d8375"
      },
      "execution_count": null,
      "outputs": [
        {
          "output_type": "stream",
          "name": "stdout",
          "text": [
            "231965\n"
          ]
        }
      ]
    },
    {
      "cell_type": "code",
      "source": [
        "print(notas_removidas_1_dado_ausente.isnull().sum())"
      ],
      "metadata": {
        "id": "q6S0MYxG51q0",
        "colab": {
          "base_uri": "https://localhost:8080/"
        },
        "outputId": "13ed9bba-82be-4ef3-c4f4-d5195c71e422"
      },
      "execution_count": null,
      "outputs": [
        {
          "output_type": "stream",
          "name": "stdout",
          "text": [
            "id                   0\n",
            "ciencias_naturais    0\n",
            "ciencias_humanas     0\n",
            "linguagem_codigo     0\n",
            "matematica           0\n",
            "redacao              0\n",
            "dtype: int64\n"
          ]
        }
      ]
    },
    {
      "cell_type": "markdown",
      "source": [
        "#### Removendo colunas quase vazias com ao menos 60% de dados ausentes"
      ],
      "metadata": {
        "id": "WzdRq-3555f9"
      }
    },
    {
      "cell_type": "code",
      "source": [
        "notas_removidas_60porcentagem_dados_ausente = notas.dropna(thresh=0.6*len(notas), axis=1)\n",
        "len(notas_removidas_60porcentagem_dados_ausente)"
      ],
      "metadata": {
        "id": "3a3fDcek6iaP",
        "colab": {
          "base_uri": "https://localhost:8080/"
        },
        "outputId": "aed702f6-d85f-4854-c8d2-12af25ad569c"
      },
      "execution_count": null,
      "outputs": [
        {
          "output_type": "execute_result",
          "data": {
            "text/plain": [
              "299999"
            ]
          },
          "metadata": {},
          "execution_count": 81
        }
      ]
    },
    {
      "cell_type": "markdown",
      "source": [
        "### Inputamento de dados\n",
        "Aqui implementamos técnicas para solver o problema de dados faltantes, como inputação a partir da média, mediana, randômico até técnicas mais refinadas como KNN.\n"
      ],
      "metadata": {
        "id": "CYg2EG4v8DUR"
      }
    },
    {
      "cell_type": "markdown",
      "source": [
        "Para seguir com estas técnicas, apenas para caso de estudo usaremos uma versão ainda maisr reduzida de nosso dataset, apenas as primeiras 10 mil instâncias."
      ],
      "metadata": {
        "id": "kEylfvbXP0bV"
      }
    },
    {
      "cell_type": "code",
      "source": [
        "sample_notas = notas[:10000]\n",
        "sample_notas = sample_notas.drop(['id'], axis=1)"
      ],
      "metadata": {
        "id": "ofqN-i5VPgN8"
      },
      "execution_count": null,
      "outputs": []
    },
    {
      "cell_type": "markdown",
      "source": [
        "#### Utilizando média e mediana\n",
        "Usaremos as notas de **matemática** como exemplo para as seguintes aplicações. "
      ],
      "metadata": {
        "id": "Y4fXHWgH8PI2"
      }
    },
    {
      "cell_type": "code",
      "source": [
        "print(sample_notas['matematica'].mean())\n",
        "print(sample_notas['matematica'].median())"
      ],
      "metadata": {
        "id": "d1QAOxtl8HEf",
        "colab": {
          "base_uri": "https://localhost:8080/"
        },
        "outputId": "e77e4f6c-b731-45f3-a8d6-ed9ca3877332"
      },
      "execution_count": null,
      "outputs": [
        {
          "output_type": "stream",
          "name": "stdout",
          "text": [
            "528.0250546623794\n",
            "504.3\n"
          ]
        }
      ]
    },
    {
      "cell_type": "markdown",
      "source": [
        "Aqui implementamos o inputamento utilizando a média e moda das notas de matemática. Também utilizamos inputamento utilizando números randômicos."
      ],
      "metadata": {
        "id": "CoB4wZR36spx"
      }
    },
    {
      "cell_type": "code",
      "source": [
        "notas_inputamento_media = sample_notas.copy()\n",
        "notas_inputamento_mediana = sample_notas.copy()\n",
        "notas_inputamento_random = sample_notas.copy()\n",
        "\n",
        "notas_inputamento_media['matematica'].fillna(sample_notas['matematica'].mean(), inplace=True)\n",
        "\n",
        "notas_inputamento_mediana['matematica'].fillna(sample_notas['matematica'].median(), inplace=True)\n",
        "\n",
        "notas_inputamento_random['matematica'].fillna(random.uniform(sample_notas['matematica'].min(),sample_notas['matematica'].max()), inplace=True)\n",
        "\n",
        "print(notas_inputamento_media.isnull().sum())"
      ],
      "metadata": {
        "id": "epLHWQp88ga8",
        "colab": {
          "base_uri": "https://localhost:8080/"
        },
        "outputId": "01e1b476-bf15-44fb-e460-b8a7a667a1ba"
      },
      "execution_count": null,
      "outputs": [
        {
          "output_type": "stream",
          "name": "stdout",
          "text": [
            "ciencias_naturais    2225\n",
            "ciencias_humanas     1888\n",
            "linguagem_codigo     1888\n",
            "matematica              0\n",
            "redacao              1888\n",
            "dtype: int64\n"
          ]
        }
      ]
    },
    {
      "cell_type": "markdown",
      "source": [
        "Para completar estes preenchimentos, visualizamos as correlações entre as notas nos samples de dataset que: \n",
        "- Possuem todas as instâncias incompletar (`notas`)\n",
        "- Inputadas utilizando média (`notas_inputamento_media`),\n",
        "- Inputadas utilizando mediana (`notas_inputamento_mediana`)\n",
        "- E por fim as que foram inputadas utilizando numeros randômicos (`notas_inputamento_random`)."
      ],
      "metadata": {
        "id": "MjKHju_768Gb"
      }
    },
    {
      "cell_type": "code",
      "source": [
        "sample_notas.corr(method='spearman')"
      ],
      "metadata": {
        "id": "xiL0MMlL9ZQU",
        "colab": {
          "base_uri": "https://localhost:8080/",
          "height": 206
        },
        "outputId": "9f341c33-210f-4ac4-8399-dbe8d9f81027"
      },
      "execution_count": null,
      "outputs": [
        {
          "output_type": "execute_result",
          "data": {
            "text/plain": [
              "                   ciencias_naturais  ciencias_humanas  linguagem_codigo  \\\n",
              "ciencias_naturais           1.000000          0.658360          0.649132   \n",
              "ciencias_humanas            0.658360          1.000000          0.771203   \n",
              "linguagem_codigo            0.649132          0.771203          1.000000   \n",
              "matematica                  0.578017          0.598386          0.612864   \n",
              "redacao                     0.487862          0.550143          0.556312   \n",
              "\n",
              "                   matematica   redacao  \n",
              "ciencias_naturais    0.578017  0.487862  \n",
              "ciencias_humanas     0.598386  0.550143  \n",
              "linguagem_codigo     0.612864  0.556312  \n",
              "matematica           1.000000  0.517486  \n",
              "redacao              0.517486  1.000000  "
            ],
            "text/html": [
              "\n",
              "  <div id=\"df-ebc90597-3810-482f-8947-32f2c6a7a63d\">\n",
              "    <div class=\"colab-df-container\">\n",
              "      <div>\n",
              "<style scoped>\n",
              "    .dataframe tbody tr th:only-of-type {\n",
              "        vertical-align: middle;\n",
              "    }\n",
              "\n",
              "    .dataframe tbody tr th {\n",
              "        vertical-align: top;\n",
              "    }\n",
              "\n",
              "    .dataframe thead th {\n",
              "        text-align: right;\n",
              "    }\n",
              "</style>\n",
              "<table border=\"1\" class=\"dataframe\">\n",
              "  <thead>\n",
              "    <tr style=\"text-align: right;\">\n",
              "      <th></th>\n",
              "      <th>ciencias_naturais</th>\n",
              "      <th>ciencias_humanas</th>\n",
              "      <th>linguagem_codigo</th>\n",
              "      <th>matematica</th>\n",
              "      <th>redacao</th>\n",
              "    </tr>\n",
              "  </thead>\n",
              "  <tbody>\n",
              "    <tr>\n",
              "      <th>ciencias_naturais</th>\n",
              "      <td>1.000000</td>\n",
              "      <td>0.658360</td>\n",
              "      <td>0.649132</td>\n",
              "      <td>0.578017</td>\n",
              "      <td>0.487862</td>\n",
              "    </tr>\n",
              "    <tr>\n",
              "      <th>ciencias_humanas</th>\n",
              "      <td>0.658360</td>\n",
              "      <td>1.000000</td>\n",
              "      <td>0.771203</td>\n",
              "      <td>0.598386</td>\n",
              "      <td>0.550143</td>\n",
              "    </tr>\n",
              "    <tr>\n",
              "      <th>linguagem_codigo</th>\n",
              "      <td>0.649132</td>\n",
              "      <td>0.771203</td>\n",
              "      <td>1.000000</td>\n",
              "      <td>0.612864</td>\n",
              "      <td>0.556312</td>\n",
              "    </tr>\n",
              "    <tr>\n",
              "      <th>matematica</th>\n",
              "      <td>0.578017</td>\n",
              "      <td>0.598386</td>\n",
              "      <td>0.612864</td>\n",
              "      <td>1.000000</td>\n",
              "      <td>0.517486</td>\n",
              "    </tr>\n",
              "    <tr>\n",
              "      <th>redacao</th>\n",
              "      <td>0.487862</td>\n",
              "      <td>0.550143</td>\n",
              "      <td>0.556312</td>\n",
              "      <td>0.517486</td>\n",
              "      <td>1.000000</td>\n",
              "    </tr>\n",
              "  </tbody>\n",
              "</table>\n",
              "</div>\n",
              "      <button class=\"colab-df-convert\" onclick=\"convertToInteractive('df-ebc90597-3810-482f-8947-32f2c6a7a63d')\"\n",
              "              title=\"Convert this dataframe to an interactive table.\"\n",
              "              style=\"display:none;\">\n",
              "        \n",
              "  <svg xmlns=\"http://www.w3.org/2000/svg\" height=\"24px\"viewBox=\"0 0 24 24\"\n",
              "       width=\"24px\">\n",
              "    <path d=\"M0 0h24v24H0V0z\" fill=\"none\"/>\n",
              "    <path d=\"M18.56 5.44l.94 2.06.94-2.06 2.06-.94-2.06-.94-.94-2.06-.94 2.06-2.06.94zm-11 1L8.5 8.5l.94-2.06 2.06-.94-2.06-.94L8.5 2.5l-.94 2.06-2.06.94zm10 10l.94 2.06.94-2.06 2.06-.94-2.06-.94-.94-2.06-.94 2.06-2.06.94z\"/><path d=\"M17.41 7.96l-1.37-1.37c-.4-.4-.92-.59-1.43-.59-.52 0-1.04.2-1.43.59L10.3 9.45l-7.72 7.72c-.78.78-.78 2.05 0 2.83L4 21.41c.39.39.9.59 1.41.59.51 0 1.02-.2 1.41-.59l7.78-7.78 2.81-2.81c.8-.78.8-2.07 0-2.86zM5.41 20L4 18.59l7.72-7.72 1.47 1.35L5.41 20z\"/>\n",
              "  </svg>\n",
              "      </button>\n",
              "      \n",
              "  <style>\n",
              "    .colab-df-container {\n",
              "      display:flex;\n",
              "      flex-wrap:wrap;\n",
              "      gap: 12px;\n",
              "    }\n",
              "\n",
              "    .colab-df-convert {\n",
              "      background-color: #E8F0FE;\n",
              "      border: none;\n",
              "      border-radius: 50%;\n",
              "      cursor: pointer;\n",
              "      display: none;\n",
              "      fill: #1967D2;\n",
              "      height: 32px;\n",
              "      padding: 0 0 0 0;\n",
              "      width: 32px;\n",
              "    }\n",
              "\n",
              "    .colab-df-convert:hover {\n",
              "      background-color: #E2EBFA;\n",
              "      box-shadow: 0px 1px 2px rgba(60, 64, 67, 0.3), 0px 1px 3px 1px rgba(60, 64, 67, 0.15);\n",
              "      fill: #174EA6;\n",
              "    }\n",
              "\n",
              "    [theme=dark] .colab-df-convert {\n",
              "      background-color: #3B4455;\n",
              "      fill: #D2E3FC;\n",
              "    }\n",
              "\n",
              "    [theme=dark] .colab-df-convert:hover {\n",
              "      background-color: #434B5C;\n",
              "      box-shadow: 0px 1px 3px 1px rgba(0, 0, 0, 0.15);\n",
              "      filter: drop-shadow(0px 1px 2px rgba(0, 0, 0, 0.3));\n",
              "      fill: #FFFFFF;\n",
              "    }\n",
              "  </style>\n",
              "\n",
              "      <script>\n",
              "        const buttonEl =\n",
              "          document.querySelector('#df-ebc90597-3810-482f-8947-32f2c6a7a63d button.colab-df-convert');\n",
              "        buttonEl.style.display =\n",
              "          google.colab.kernel.accessAllowed ? 'block' : 'none';\n",
              "\n",
              "        async function convertToInteractive(key) {\n",
              "          const element = document.querySelector('#df-ebc90597-3810-482f-8947-32f2c6a7a63d');\n",
              "          const dataTable =\n",
              "            await google.colab.kernel.invokeFunction('convertToInteractive',\n",
              "                                                     [key], {});\n",
              "          if (!dataTable) return;\n",
              "\n",
              "          const docLinkHtml = 'Like what you see? Visit the ' +\n",
              "            '<a target=\"_blank\" href=https://colab.research.google.com/notebooks/data_table.ipynb>data table notebook</a>'\n",
              "            + ' to learn more about interactive tables.';\n",
              "          element.innerHTML = '';\n",
              "          dataTable['output_type'] = 'display_data';\n",
              "          await google.colab.output.renderOutput(dataTable, element);\n",
              "          const docLink = document.createElement('div');\n",
              "          docLink.innerHTML = docLinkHtml;\n",
              "          element.appendChild(docLink);\n",
              "        }\n",
              "      </script>\n",
              "    </div>\n",
              "  </div>\n",
              "  "
            ]
          },
          "metadata": {},
          "execution_count": 85
        }
      ]
    },
    {
      "cell_type": "code",
      "source": [
        "notas_inputamento_media.corr(method='spearman')"
      ],
      "metadata": {
        "id": "f6XMKE-l9d4u",
        "colab": {
          "base_uri": "https://localhost:8080/",
          "height": 206
        },
        "outputId": "e6147fe3-d0f8-4137-a76a-cc15f6326273"
      },
      "execution_count": null,
      "outputs": [
        {
          "output_type": "execute_result",
          "data": {
            "text/plain": [
              "                   ciencias_naturais  ciencias_humanas  linguagem_codigo  \\\n",
              "ciencias_naturais           1.000000          0.658360          0.649132   \n",
              "ciencias_humanas            0.658360          1.000000          0.771203   \n",
              "linguagem_codigo            0.649132          0.771203          1.000000   \n",
              "matematica                  0.578017          0.575157          0.591321   \n",
              "redacao                     0.487862          0.550143          0.556312   \n",
              "\n",
              "                   matematica   redacao  \n",
              "ciencias_naturais    0.578017  0.487862  \n",
              "ciencias_humanas     0.575157  0.550143  \n",
              "linguagem_codigo     0.591321  0.556312  \n",
              "matematica           1.000000  0.492817  \n",
              "redacao              0.492817  1.000000  "
            ],
            "text/html": [
              "\n",
              "  <div id=\"df-a4f21599-bcc4-40aa-8871-ac57432577b6\">\n",
              "    <div class=\"colab-df-container\">\n",
              "      <div>\n",
              "<style scoped>\n",
              "    .dataframe tbody tr th:only-of-type {\n",
              "        vertical-align: middle;\n",
              "    }\n",
              "\n",
              "    .dataframe tbody tr th {\n",
              "        vertical-align: top;\n",
              "    }\n",
              "\n",
              "    .dataframe thead th {\n",
              "        text-align: right;\n",
              "    }\n",
              "</style>\n",
              "<table border=\"1\" class=\"dataframe\">\n",
              "  <thead>\n",
              "    <tr style=\"text-align: right;\">\n",
              "      <th></th>\n",
              "      <th>ciencias_naturais</th>\n",
              "      <th>ciencias_humanas</th>\n",
              "      <th>linguagem_codigo</th>\n",
              "      <th>matematica</th>\n",
              "      <th>redacao</th>\n",
              "    </tr>\n",
              "  </thead>\n",
              "  <tbody>\n",
              "    <tr>\n",
              "      <th>ciencias_naturais</th>\n",
              "      <td>1.000000</td>\n",
              "      <td>0.658360</td>\n",
              "      <td>0.649132</td>\n",
              "      <td>0.578017</td>\n",
              "      <td>0.487862</td>\n",
              "    </tr>\n",
              "    <tr>\n",
              "      <th>ciencias_humanas</th>\n",
              "      <td>0.658360</td>\n",
              "      <td>1.000000</td>\n",
              "      <td>0.771203</td>\n",
              "      <td>0.575157</td>\n",
              "      <td>0.550143</td>\n",
              "    </tr>\n",
              "    <tr>\n",
              "      <th>linguagem_codigo</th>\n",
              "      <td>0.649132</td>\n",
              "      <td>0.771203</td>\n",
              "      <td>1.000000</td>\n",
              "      <td>0.591321</td>\n",
              "      <td>0.556312</td>\n",
              "    </tr>\n",
              "    <tr>\n",
              "      <th>matematica</th>\n",
              "      <td>0.578017</td>\n",
              "      <td>0.575157</td>\n",
              "      <td>0.591321</td>\n",
              "      <td>1.000000</td>\n",
              "      <td>0.492817</td>\n",
              "    </tr>\n",
              "    <tr>\n",
              "      <th>redacao</th>\n",
              "      <td>0.487862</td>\n",
              "      <td>0.550143</td>\n",
              "      <td>0.556312</td>\n",
              "      <td>0.492817</td>\n",
              "      <td>1.000000</td>\n",
              "    </tr>\n",
              "  </tbody>\n",
              "</table>\n",
              "</div>\n",
              "      <button class=\"colab-df-convert\" onclick=\"convertToInteractive('df-a4f21599-bcc4-40aa-8871-ac57432577b6')\"\n",
              "              title=\"Convert this dataframe to an interactive table.\"\n",
              "              style=\"display:none;\">\n",
              "        \n",
              "  <svg xmlns=\"http://www.w3.org/2000/svg\" height=\"24px\"viewBox=\"0 0 24 24\"\n",
              "       width=\"24px\">\n",
              "    <path d=\"M0 0h24v24H0V0z\" fill=\"none\"/>\n",
              "    <path d=\"M18.56 5.44l.94 2.06.94-2.06 2.06-.94-2.06-.94-.94-2.06-.94 2.06-2.06.94zm-11 1L8.5 8.5l.94-2.06 2.06-.94-2.06-.94L8.5 2.5l-.94 2.06-2.06.94zm10 10l.94 2.06.94-2.06 2.06-.94-2.06-.94-.94-2.06-.94 2.06-2.06.94z\"/><path d=\"M17.41 7.96l-1.37-1.37c-.4-.4-.92-.59-1.43-.59-.52 0-1.04.2-1.43.59L10.3 9.45l-7.72 7.72c-.78.78-.78 2.05 0 2.83L4 21.41c.39.39.9.59 1.41.59.51 0 1.02-.2 1.41-.59l7.78-7.78 2.81-2.81c.8-.78.8-2.07 0-2.86zM5.41 20L4 18.59l7.72-7.72 1.47 1.35L5.41 20z\"/>\n",
              "  </svg>\n",
              "      </button>\n",
              "      \n",
              "  <style>\n",
              "    .colab-df-container {\n",
              "      display:flex;\n",
              "      flex-wrap:wrap;\n",
              "      gap: 12px;\n",
              "    }\n",
              "\n",
              "    .colab-df-convert {\n",
              "      background-color: #E8F0FE;\n",
              "      border: none;\n",
              "      border-radius: 50%;\n",
              "      cursor: pointer;\n",
              "      display: none;\n",
              "      fill: #1967D2;\n",
              "      height: 32px;\n",
              "      padding: 0 0 0 0;\n",
              "      width: 32px;\n",
              "    }\n",
              "\n",
              "    .colab-df-convert:hover {\n",
              "      background-color: #E2EBFA;\n",
              "      box-shadow: 0px 1px 2px rgba(60, 64, 67, 0.3), 0px 1px 3px 1px rgba(60, 64, 67, 0.15);\n",
              "      fill: #174EA6;\n",
              "    }\n",
              "\n",
              "    [theme=dark] .colab-df-convert {\n",
              "      background-color: #3B4455;\n",
              "      fill: #D2E3FC;\n",
              "    }\n",
              "\n",
              "    [theme=dark] .colab-df-convert:hover {\n",
              "      background-color: #434B5C;\n",
              "      box-shadow: 0px 1px 3px 1px rgba(0, 0, 0, 0.15);\n",
              "      filter: drop-shadow(0px 1px 2px rgba(0, 0, 0, 0.3));\n",
              "      fill: #FFFFFF;\n",
              "    }\n",
              "  </style>\n",
              "\n",
              "      <script>\n",
              "        const buttonEl =\n",
              "          document.querySelector('#df-a4f21599-bcc4-40aa-8871-ac57432577b6 button.colab-df-convert');\n",
              "        buttonEl.style.display =\n",
              "          google.colab.kernel.accessAllowed ? 'block' : 'none';\n",
              "\n",
              "        async function convertToInteractive(key) {\n",
              "          const element = document.querySelector('#df-a4f21599-bcc4-40aa-8871-ac57432577b6');\n",
              "          const dataTable =\n",
              "            await google.colab.kernel.invokeFunction('convertToInteractive',\n",
              "                                                     [key], {});\n",
              "          if (!dataTable) return;\n",
              "\n",
              "          const docLinkHtml = 'Like what you see? Visit the ' +\n",
              "            '<a target=\"_blank\" href=https://colab.research.google.com/notebooks/data_table.ipynb>data table notebook</a>'\n",
              "            + ' to learn more about interactive tables.';\n",
              "          element.innerHTML = '';\n",
              "          dataTable['output_type'] = 'display_data';\n",
              "          await google.colab.output.renderOutput(dataTable, element);\n",
              "          const docLink = document.createElement('div');\n",
              "          docLink.innerHTML = docLinkHtml;\n",
              "          element.appendChild(docLink);\n",
              "        }\n",
              "      </script>\n",
              "    </div>\n",
              "  </div>\n",
              "  "
            ]
          },
          "metadata": {},
          "execution_count": 86
        }
      ]
    },
    {
      "cell_type": "code",
      "source": [
        "notas_inputamento_mediana.corr(method='spearman')"
      ],
      "metadata": {
        "id": "Xw7sYfmb97gk",
        "colab": {
          "base_uri": "https://localhost:8080/",
          "height": 206
        },
        "outputId": "89d8c41a-21c7-444a-cdf6-33bb06afe31a"
      },
      "execution_count": null,
      "outputs": [
        {
          "output_type": "execute_result",
          "data": {
            "text/plain": [
              "                   ciencias_naturais  ciencias_humanas  linguagem_codigo  \\\n",
              "ciencias_naturais           1.000000          0.658360          0.649132   \n",
              "ciencias_humanas            0.658360          1.000000          0.771203   \n",
              "linguagem_codigo            0.649132          0.771203          1.000000   \n",
              "matematica                  0.578017          0.580305          0.595671   \n",
              "redacao                     0.487862          0.550143          0.556312   \n",
              "\n",
              "                   matematica   redacao  \n",
              "ciencias_naturais    0.578017  0.487862  \n",
              "ciencias_humanas     0.580305  0.550143  \n",
              "linguagem_codigo     0.595671  0.556312  \n",
              "matematica           1.000000  0.499857  \n",
              "redacao              0.499857  1.000000  "
            ],
            "text/html": [
              "\n",
              "  <div id=\"df-afeec2ba-0ce5-4a9b-9bae-899cd9d74f88\">\n",
              "    <div class=\"colab-df-container\">\n",
              "      <div>\n",
              "<style scoped>\n",
              "    .dataframe tbody tr th:only-of-type {\n",
              "        vertical-align: middle;\n",
              "    }\n",
              "\n",
              "    .dataframe tbody tr th {\n",
              "        vertical-align: top;\n",
              "    }\n",
              "\n",
              "    .dataframe thead th {\n",
              "        text-align: right;\n",
              "    }\n",
              "</style>\n",
              "<table border=\"1\" class=\"dataframe\">\n",
              "  <thead>\n",
              "    <tr style=\"text-align: right;\">\n",
              "      <th></th>\n",
              "      <th>ciencias_naturais</th>\n",
              "      <th>ciencias_humanas</th>\n",
              "      <th>linguagem_codigo</th>\n",
              "      <th>matematica</th>\n",
              "      <th>redacao</th>\n",
              "    </tr>\n",
              "  </thead>\n",
              "  <tbody>\n",
              "    <tr>\n",
              "      <th>ciencias_naturais</th>\n",
              "      <td>1.000000</td>\n",
              "      <td>0.658360</td>\n",
              "      <td>0.649132</td>\n",
              "      <td>0.578017</td>\n",
              "      <td>0.487862</td>\n",
              "    </tr>\n",
              "    <tr>\n",
              "      <th>ciencias_humanas</th>\n",
              "      <td>0.658360</td>\n",
              "      <td>1.000000</td>\n",
              "      <td>0.771203</td>\n",
              "      <td>0.580305</td>\n",
              "      <td>0.550143</td>\n",
              "    </tr>\n",
              "    <tr>\n",
              "      <th>linguagem_codigo</th>\n",
              "      <td>0.649132</td>\n",
              "      <td>0.771203</td>\n",
              "      <td>1.000000</td>\n",
              "      <td>0.595671</td>\n",
              "      <td>0.556312</td>\n",
              "    </tr>\n",
              "    <tr>\n",
              "      <th>matematica</th>\n",
              "      <td>0.578017</td>\n",
              "      <td>0.580305</td>\n",
              "      <td>0.595671</td>\n",
              "      <td>1.000000</td>\n",
              "      <td>0.499857</td>\n",
              "    </tr>\n",
              "    <tr>\n",
              "      <th>redacao</th>\n",
              "      <td>0.487862</td>\n",
              "      <td>0.550143</td>\n",
              "      <td>0.556312</td>\n",
              "      <td>0.499857</td>\n",
              "      <td>1.000000</td>\n",
              "    </tr>\n",
              "  </tbody>\n",
              "</table>\n",
              "</div>\n",
              "      <button class=\"colab-df-convert\" onclick=\"convertToInteractive('df-afeec2ba-0ce5-4a9b-9bae-899cd9d74f88')\"\n",
              "              title=\"Convert this dataframe to an interactive table.\"\n",
              "              style=\"display:none;\">\n",
              "        \n",
              "  <svg xmlns=\"http://www.w3.org/2000/svg\" height=\"24px\"viewBox=\"0 0 24 24\"\n",
              "       width=\"24px\">\n",
              "    <path d=\"M0 0h24v24H0V0z\" fill=\"none\"/>\n",
              "    <path d=\"M18.56 5.44l.94 2.06.94-2.06 2.06-.94-2.06-.94-.94-2.06-.94 2.06-2.06.94zm-11 1L8.5 8.5l.94-2.06 2.06-.94-2.06-.94L8.5 2.5l-.94 2.06-2.06.94zm10 10l.94 2.06.94-2.06 2.06-.94-2.06-.94-.94-2.06-.94 2.06-2.06.94z\"/><path d=\"M17.41 7.96l-1.37-1.37c-.4-.4-.92-.59-1.43-.59-.52 0-1.04.2-1.43.59L10.3 9.45l-7.72 7.72c-.78.78-.78 2.05 0 2.83L4 21.41c.39.39.9.59 1.41.59.51 0 1.02-.2 1.41-.59l7.78-7.78 2.81-2.81c.8-.78.8-2.07 0-2.86zM5.41 20L4 18.59l7.72-7.72 1.47 1.35L5.41 20z\"/>\n",
              "  </svg>\n",
              "      </button>\n",
              "      \n",
              "  <style>\n",
              "    .colab-df-container {\n",
              "      display:flex;\n",
              "      flex-wrap:wrap;\n",
              "      gap: 12px;\n",
              "    }\n",
              "\n",
              "    .colab-df-convert {\n",
              "      background-color: #E8F0FE;\n",
              "      border: none;\n",
              "      border-radius: 50%;\n",
              "      cursor: pointer;\n",
              "      display: none;\n",
              "      fill: #1967D2;\n",
              "      height: 32px;\n",
              "      padding: 0 0 0 0;\n",
              "      width: 32px;\n",
              "    }\n",
              "\n",
              "    .colab-df-convert:hover {\n",
              "      background-color: #E2EBFA;\n",
              "      box-shadow: 0px 1px 2px rgba(60, 64, 67, 0.3), 0px 1px 3px 1px rgba(60, 64, 67, 0.15);\n",
              "      fill: #174EA6;\n",
              "    }\n",
              "\n",
              "    [theme=dark] .colab-df-convert {\n",
              "      background-color: #3B4455;\n",
              "      fill: #D2E3FC;\n",
              "    }\n",
              "\n",
              "    [theme=dark] .colab-df-convert:hover {\n",
              "      background-color: #434B5C;\n",
              "      box-shadow: 0px 1px 3px 1px rgba(0, 0, 0, 0.15);\n",
              "      filter: drop-shadow(0px 1px 2px rgba(0, 0, 0, 0.3));\n",
              "      fill: #FFFFFF;\n",
              "    }\n",
              "  </style>\n",
              "\n",
              "      <script>\n",
              "        const buttonEl =\n",
              "          document.querySelector('#df-afeec2ba-0ce5-4a9b-9bae-899cd9d74f88 button.colab-df-convert');\n",
              "        buttonEl.style.display =\n",
              "          google.colab.kernel.accessAllowed ? 'block' : 'none';\n",
              "\n",
              "        async function convertToInteractive(key) {\n",
              "          const element = document.querySelector('#df-afeec2ba-0ce5-4a9b-9bae-899cd9d74f88');\n",
              "          const dataTable =\n",
              "            await google.colab.kernel.invokeFunction('convertToInteractive',\n",
              "                                                     [key], {});\n",
              "          if (!dataTable) return;\n",
              "\n",
              "          const docLinkHtml = 'Like what you see? Visit the ' +\n",
              "            '<a target=\"_blank\" href=https://colab.research.google.com/notebooks/data_table.ipynb>data table notebook</a>'\n",
              "            + ' to learn more about interactive tables.';\n",
              "          element.innerHTML = '';\n",
              "          dataTable['output_type'] = 'display_data';\n",
              "          await google.colab.output.renderOutput(dataTable, element);\n",
              "          const docLink = document.createElement('div');\n",
              "          docLink.innerHTML = docLinkHtml;\n",
              "          element.appendChild(docLink);\n",
              "        }\n",
              "      </script>\n",
              "    </div>\n",
              "  </div>\n",
              "  "
            ]
          },
          "metadata": {},
          "execution_count": 87
        }
      ]
    },
    {
      "cell_type": "code",
      "source": [
        "notas_inputamento_random.corr(method='spearman')"
      ],
      "metadata": {
        "id": "T1Sc46A0-ld-",
        "colab": {
          "base_uri": "https://localhost:8080/",
          "height": 206
        },
        "outputId": "c7700918-71d7-4cee-d2fb-d59dcb88cf93"
      },
      "execution_count": null,
      "outputs": [
        {
          "output_type": "execute_result",
          "data": {
            "text/plain": [
              "                   ciencias_naturais  ciencias_humanas  linguagem_codigo  \\\n",
              "ciencias_naturais           1.000000          0.658360          0.649132   \n",
              "ciencias_humanas            0.658360          1.000000          0.771203   \n",
              "linguagem_codigo            0.649132          0.771203          1.000000   \n",
              "matematica                  0.578017          0.500817          0.519996   \n",
              "redacao                     0.487862          0.550143          0.556312   \n",
              "\n",
              "                   matematica   redacao  \n",
              "ciencias_naturais    0.578017  0.487862  \n",
              "ciencias_humanas     0.500817  0.550143  \n",
              "linguagem_codigo     0.519996  0.556312  \n",
              "matematica           1.000000  0.413467  \n",
              "redacao              0.413467  1.000000  "
            ],
            "text/html": [
              "\n",
              "  <div id=\"df-b8c41271-69e0-4dab-a56a-06b95fbf9374\">\n",
              "    <div class=\"colab-df-container\">\n",
              "      <div>\n",
              "<style scoped>\n",
              "    .dataframe tbody tr th:only-of-type {\n",
              "        vertical-align: middle;\n",
              "    }\n",
              "\n",
              "    .dataframe tbody tr th {\n",
              "        vertical-align: top;\n",
              "    }\n",
              "\n",
              "    .dataframe thead th {\n",
              "        text-align: right;\n",
              "    }\n",
              "</style>\n",
              "<table border=\"1\" class=\"dataframe\">\n",
              "  <thead>\n",
              "    <tr style=\"text-align: right;\">\n",
              "      <th></th>\n",
              "      <th>ciencias_naturais</th>\n",
              "      <th>ciencias_humanas</th>\n",
              "      <th>linguagem_codigo</th>\n",
              "      <th>matematica</th>\n",
              "      <th>redacao</th>\n",
              "    </tr>\n",
              "  </thead>\n",
              "  <tbody>\n",
              "    <tr>\n",
              "      <th>ciencias_naturais</th>\n",
              "      <td>1.000000</td>\n",
              "      <td>0.658360</td>\n",
              "      <td>0.649132</td>\n",
              "      <td>0.578017</td>\n",
              "      <td>0.487862</td>\n",
              "    </tr>\n",
              "    <tr>\n",
              "      <th>ciencias_humanas</th>\n",
              "      <td>0.658360</td>\n",
              "      <td>1.000000</td>\n",
              "      <td>0.771203</td>\n",
              "      <td>0.500817</td>\n",
              "      <td>0.550143</td>\n",
              "    </tr>\n",
              "    <tr>\n",
              "      <th>linguagem_codigo</th>\n",
              "      <td>0.649132</td>\n",
              "      <td>0.771203</td>\n",
              "      <td>1.000000</td>\n",
              "      <td>0.519996</td>\n",
              "      <td>0.556312</td>\n",
              "    </tr>\n",
              "    <tr>\n",
              "      <th>matematica</th>\n",
              "      <td>0.578017</td>\n",
              "      <td>0.500817</td>\n",
              "      <td>0.519996</td>\n",
              "      <td>1.000000</td>\n",
              "      <td>0.413467</td>\n",
              "    </tr>\n",
              "    <tr>\n",
              "      <th>redacao</th>\n",
              "      <td>0.487862</td>\n",
              "      <td>0.550143</td>\n",
              "      <td>0.556312</td>\n",
              "      <td>0.413467</td>\n",
              "      <td>1.000000</td>\n",
              "    </tr>\n",
              "  </tbody>\n",
              "</table>\n",
              "</div>\n",
              "      <button class=\"colab-df-convert\" onclick=\"convertToInteractive('df-b8c41271-69e0-4dab-a56a-06b95fbf9374')\"\n",
              "              title=\"Convert this dataframe to an interactive table.\"\n",
              "              style=\"display:none;\">\n",
              "        \n",
              "  <svg xmlns=\"http://www.w3.org/2000/svg\" height=\"24px\"viewBox=\"0 0 24 24\"\n",
              "       width=\"24px\">\n",
              "    <path d=\"M0 0h24v24H0V0z\" fill=\"none\"/>\n",
              "    <path d=\"M18.56 5.44l.94 2.06.94-2.06 2.06-.94-2.06-.94-.94-2.06-.94 2.06-2.06.94zm-11 1L8.5 8.5l.94-2.06 2.06-.94-2.06-.94L8.5 2.5l-.94 2.06-2.06.94zm10 10l.94 2.06.94-2.06 2.06-.94-2.06-.94-.94-2.06-.94 2.06-2.06.94z\"/><path d=\"M17.41 7.96l-1.37-1.37c-.4-.4-.92-.59-1.43-.59-.52 0-1.04.2-1.43.59L10.3 9.45l-7.72 7.72c-.78.78-.78 2.05 0 2.83L4 21.41c.39.39.9.59 1.41.59.51 0 1.02-.2 1.41-.59l7.78-7.78 2.81-2.81c.8-.78.8-2.07 0-2.86zM5.41 20L4 18.59l7.72-7.72 1.47 1.35L5.41 20z\"/>\n",
              "  </svg>\n",
              "      </button>\n",
              "      \n",
              "  <style>\n",
              "    .colab-df-container {\n",
              "      display:flex;\n",
              "      flex-wrap:wrap;\n",
              "      gap: 12px;\n",
              "    }\n",
              "\n",
              "    .colab-df-convert {\n",
              "      background-color: #E8F0FE;\n",
              "      border: none;\n",
              "      border-radius: 50%;\n",
              "      cursor: pointer;\n",
              "      display: none;\n",
              "      fill: #1967D2;\n",
              "      height: 32px;\n",
              "      padding: 0 0 0 0;\n",
              "      width: 32px;\n",
              "    }\n",
              "\n",
              "    .colab-df-convert:hover {\n",
              "      background-color: #E2EBFA;\n",
              "      box-shadow: 0px 1px 2px rgba(60, 64, 67, 0.3), 0px 1px 3px 1px rgba(60, 64, 67, 0.15);\n",
              "      fill: #174EA6;\n",
              "    }\n",
              "\n",
              "    [theme=dark] .colab-df-convert {\n",
              "      background-color: #3B4455;\n",
              "      fill: #D2E3FC;\n",
              "    }\n",
              "\n",
              "    [theme=dark] .colab-df-convert:hover {\n",
              "      background-color: #434B5C;\n",
              "      box-shadow: 0px 1px 3px 1px rgba(0, 0, 0, 0.15);\n",
              "      filter: drop-shadow(0px 1px 2px rgba(0, 0, 0, 0.3));\n",
              "      fill: #FFFFFF;\n",
              "    }\n",
              "  </style>\n",
              "\n",
              "      <script>\n",
              "        const buttonEl =\n",
              "          document.querySelector('#df-b8c41271-69e0-4dab-a56a-06b95fbf9374 button.colab-df-convert');\n",
              "        buttonEl.style.display =\n",
              "          google.colab.kernel.accessAllowed ? 'block' : 'none';\n",
              "\n",
              "        async function convertToInteractive(key) {\n",
              "          const element = document.querySelector('#df-b8c41271-69e0-4dab-a56a-06b95fbf9374');\n",
              "          const dataTable =\n",
              "            await google.colab.kernel.invokeFunction('convertToInteractive',\n",
              "                                                     [key], {});\n",
              "          if (!dataTable) return;\n",
              "\n",
              "          const docLinkHtml = 'Like what you see? Visit the ' +\n",
              "            '<a target=\"_blank\" href=https://colab.research.google.com/notebooks/data_table.ipynb>data table notebook</a>'\n",
              "            + ' to learn more about interactive tables.';\n",
              "          element.innerHTML = '';\n",
              "          dataTable['output_type'] = 'display_data';\n",
              "          await google.colab.output.renderOutput(dataTable, element);\n",
              "          const docLink = document.createElement('div');\n",
              "          docLink.innerHTML = docLinkHtml;\n",
              "          element.appendChild(docLink);\n",
              "        }\n",
              "      </script>\n",
              "    </div>\n",
              "  </div>\n",
              "  "
            ]
          },
          "metadata": {},
          "execution_count": 88
        }
      ]
    },
    {
      "cell_type": "markdown",
      "source": [
        "#### Utilizando KNN"
      ],
      "metadata": {
        "id": "wzOM1A3B-z3K"
      }
    },
    {
      "cell_type": "code",
      "source": [
        "imputer = KNNImputer(n_neighbors=3)"
      ],
      "metadata": {
        "id": "diXxpEbKOyuS"
      },
      "execution_count": null,
      "outputs": []
    },
    {
      "cell_type": "code",
      "source": [
        "notas_imputacao_knn = imputer.fit_transform(sample_notas)\n",
        "notas_imputacao_knn = pd.DataFrame(notas_imputacao_knn, columns=colunas_notas)"
      ],
      "metadata": {
        "id": "ax5l3G8r_Rc9"
      },
      "execution_count": null,
      "outputs": []
    },
    {
      "cell_type": "code",
      "source": [
        "print(notas_imputacao_knn.isnull().sum())"
      ],
      "metadata": {
        "colab": {
          "base_uri": "https://localhost:8080/"
        },
        "id": "X7wLsAyUPC1O",
        "outputId": "4fecffe6-75a8-4784-fb13-f4daea44092a"
      },
      "execution_count": null,
      "outputs": [
        {
          "output_type": "stream",
          "name": "stdout",
          "text": [
            "ciencias_naturais    0\n",
            "ciencias_humanas     0\n",
            "linguagem_codigo     0\n",
            "matematica           0\n",
            "redacao              0\n",
            "dtype: int64\n"
          ]
        }
      ]
    },
    {
      "cell_type": "markdown",
      "source": [
        "#### Conclusão\n",
        "Podemos perceber com clareza que os inputamentos utilizando média e mediana foram bem sucedidos, mantendo as correlações próximas a intervalos aceitáveis. Já o inputamento utilizando números randômicos podemos perceber discrepâncias relevantes, o que ja era esperado pela ineficácia deste método.\n",
        "\n",
        "Por fim, percebemos com destaque o inputamento utilizando KNN pela menor taxa de desvio padrão alcançada."
      ],
      "metadata": {
        "id": "eRd9MDuB7ohJ"
      }
    },
    {
      "cell_type": "code",
      "source": [
        "fig, ax = plt.subplots(figsize = (15,4))\n",
        "ax.plot(sample_notas.std(), label = \"Notas incompletas\")\n",
        "ax.plot(notas_inputamento_media.std(), label = \"Notas inputamento média\")\n",
        "ax.plot(notas_inputamento_mediana.std(), label = \"Notas inputamento mediana\")\n",
        "ax.plot(notas_inputamento_random.std(), label = \"Notas inputamento randômico\")\n",
        "ax.plot(notas_imputacao_knn.std(), label = \"Notas inputamento KNN\")\n",
        "\n",
        "plt.legend()\n",
        "plt.show()"
      ],
      "metadata": {
        "colab": {
          "base_uri": "https://localhost:8080/",
          "height": 266
        },
        "id": "QdjBc6KHTCQY",
        "outputId": "4e1954ff-56a9-49d3-dd1f-67dd23a9e9aa"
      },
      "execution_count": null,
      "outputs": [
        {
          "output_type": "display_data",
          "data": {
            "text/plain": [
              "<Figure size 1080x288 with 1 Axes>"
            ],
            "image/png": "[encoded data removed]"
          },
          "metadata": {
            "needs_background": "light"
          }
        }
      ]
    },
    {
      "cell_type": "markdown",
      "source": [
        "### Detecção de Outliers\n",
        "Como pudemos visualizar dentro nossos boxplots, possuímos uma quantidade significante de pontos fora da curva, e estes tendem a gerar ruídos e tendenciar nossas análises. Para resolver tal problema, nesta seção aplicaremos técnicas como ZScore, ZScore Robusto e Tukey para remoção destas instâncias, e avaliaremos sua eficácia."
      ],
      "metadata": {
        "id": "XXQnwspk_aMy"
      }
    },
    {
      "cell_type": "markdown",
      "source": [
        "#### Correlação entre humanas e linguagens\n",
        "Para aplicar tais técnicas, escolheremos uma amostra de nosso dataset, utilizaremos as notas de linguagens e de humanas."
      ],
      "metadata": {
        "id": "g42Vwlxs_9z_"
      }
    },
    {
      "cell_type": "markdown",
      "source": [
        "Aqui podemos observar um conjunto de pontos fora da curva, presentes no ponto 0 do eixo X e Y, que deslocam o nosso gráfico."
      ],
      "metadata": {
        "id": "2h-f76a3AYDe"
      }
    },
    {
      "cell_type": "code",
      "source": [
        "notas_completas = notas.dropna()\n",
        "humanas_linguagens = notas_completas[['id', 'linguagem_codigo', 'ciencias_humanas']]\n",
        "humanas_linguagens.plot(kind='scatter', x='ciencias_humanas', y='linguagem_codigo')"
      ],
      "metadata": {
        "id": "zWD_PadXDHfB",
        "outputId": "a478b488-6000-4b03-8054-f263501cfa65",
        "colab": {
          "base_uri": "https://localhost:8080/",
          "height": 298
        }
      },
      "execution_count": null,
      "outputs": [
        {
          "output_type": "execute_result",
          "data": {
            "text/plain": [
              "<matplotlib.axes._subplots.AxesSubplot at 0x7ff883b84c10>"
            ]
          },
          "metadata": {},
          "execution_count": 93
        },
        {
          "output_type": "display_data",
          "data": {
            "text/plain": [
              "<Figure size 432x288 with 1 Axes>"
            ],
            "image/png": "[encoded data removed]"
          },
          "metadata": {
            "needs_background": "light"
          }
        }
      ]
    },
    {
      "cell_type": "markdown",
      "source": [
        "A primeira limpeza que será feita, será a remoção destes dados que possuem 0 em uma ou em outra nota."
      ],
      "metadata": {
        "id": "UdqtdgUNAmBZ"
      }
    },
    {
      "cell_type": "code",
      "source": [
        "humanas_linguagens_sem_outliers = humanas_linguagens[humanas_linguagens['linguagem_codigo'] > 0]\n",
        "humanas_linguagens_sem_outliers = humanas_linguagens[humanas_linguagens['ciencias_humanas'] > 0]\n",
        "humanas_linguagens_sem_outliers.plot(kind='scatter', x='ciencias_humanas', y='linguagem_codigo')"
      ],
      "metadata": {
        "id": "vOvINXlFGVYi",
        "outputId": "70dc7bd1-969c-4791-95a1-9d4a20fb9070",
        "colab": {
          "base_uri": "https://localhost:8080/",
          "height": 298
        }
      },
      "execution_count": null,
      "outputs": [
        {
          "output_type": "execute_result",
          "data": {
            "text/plain": [
              "<matplotlib.axes._subplots.AxesSubplot at 0x7ff87ed17810>"
            ]
          },
          "metadata": {},
          "execution_count": 94
        },
        {
          "output_type": "display_data",
          "data": {
            "text/plain": [
              "<Figure size 432x288 with 1 Axes>"
            ],
            "image/png": "[encoded data removed]"
          },
          "metadata": {
            "needs_background": "light"
          }
        }
      ]
    },
    {
      "cell_type": "markdown",
      "source": [
        "#### ZScore\n",
        "Aqui aplicamos a ténica do ZScore para detectar os últimos outliers restantes e remove-los de nosso dataset"
      ],
      "metadata": {
        "id": "N7OTydYEAy4x"
      }
    },
    {
      "cell_type": "code",
      "source": [
        "humanas_linguagens_outliers_zscore = humanas_linguagens_sem_outliers[(stats.zscore(humanas_linguagens) > 3).all(axis=1)]\n",
        "humanas_linguagens_sem_outliers = humanas_linguagens.drop(humanas_linguagens_outliers_zscore.index)\n",
        "len(humanas_linguagens_outliers_zscore)"
      ],
      "metadata": {
        "colab": {
          "base_uri": "https://localhost:8080/"
        },
        "id": "SODcOQqGAw4U",
        "outputId": "d052c437-b10b-473f-a494-bf2a14362d56"
      },
      "execution_count": null,
      "outputs": [
        {
          "output_type": "stream",
          "name": "stderr",
          "text": [
            "/usr/local/lib/python3.7/dist-packages/ipykernel_launcher.py:1: UserWarning: Boolean Series key will be reindexed to match DataFrame index.\n",
            "  \"\"\"Entry point for launching an IPython kernel.\n"
          ]
        },
        {
          "output_type": "execute_result",
          "data": {
            "text/plain": [
              "0"
            ]
          },
          "metadata": {},
          "execution_count": 95
        }
      ]
    },
    {
      "cell_type": "markdown",
      "source": [
        "### Visualizações"
      ],
      "metadata": {
        "id": "_2oSqBi4xaMG"
      }
    },
    {
      "cell_type": "markdown",
      "source": [
        "#### Mínimo, Máximo, Média e outliers\n",
        "Neste podemos observar métricas como min, média, max e outliers de cada nota presente em nosso dataset."
      ],
      "metadata": {
        "id": "U7T4YQLP-pKR"
      }
    },
    {
      "cell_type": "code",
      "source": [
        "figure, axis = plt.subplots(2, 3, figsize=(15, 10))\n",
        "\n",
        "redacao = notas_completas['redacao']\n",
        "linguagem_codigo = notas_completas['linguagem_codigo']\n",
        "ciencias_humanas = notas_completas['ciencias_humanas']\n",
        "ciencias_naturais = notas_completas['ciencias_naturais']\n",
        "matematica = notas_completas['matematica']\n",
        "\n",
        "figure.delaxes(axis[1,2])\n",
        "\n",
        "axis[0, 0].boxplot(redacao)\n",
        "axis[0, 0].set_title(\"Redação\")\n",
        "  \n",
        "axis[0, 1].boxplot(linguagem_codigo)\n",
        "axis[0, 1].set_title(\"Linguagens\")\n",
        "  \n",
        "axis[0, 2].boxplot(ciencias_humanas)\n",
        "axis[0, 2].set_title(\"Ciências Humanas\")\n",
        "  \n",
        "axis[1, 0].boxplot(ciencias_naturais)\n",
        "axis[1, 0].set_title(\"Ciências Naturais\")\n",
        "\n",
        "axis[1, 1].boxplot(matematica)\n",
        "axis[1, 1].set_title(\"Matemática\")\n",
        "  \n",
        "\n",
        "plt.show()\n"
      ],
      "metadata": {
        "id": "0BS-sk9LEo8Y",
        "outputId": "0061686f-577a-424f-d3e8-23715c993aa1",
        "colab": {
          "base_uri": "https://localhost:8080/"
        }
      },
      "execution_count": null,
      "outputs": [
        {
          "output_type": "display_data",
          "data": {
            "text/plain": [
              "<Figure size 1080x720 with 5 Axes>"
            ],
            "image/png": "[encoded data removed]"
          },
          "metadata": {
            "needs_background": "light"
          }
        }
      ]
    },
    {
      "cell_type": "markdown",
      "source": [
        "Aqui, cruzamos os dados de participantes com os dados de notas de humanas e linguagens"
      ],
      "metadata": {
        "id": "dxEcFRxHBmfx"
      }
    },
    {
      "cell_type": "code",
      "source": [
        "participantes_humanas_linguagem = participantes[participantes.id.isin(humanas_linguagens_sem_outliers['id'])]\n",
        "participantes_humanas_linguagem.groupby('faixa_etaria').head()"
      ],
      "metadata": {
        "id": "A386_zIlVWnO",
        "outputId": "4076308e-5887-424d-bb28-4e6613eec53c",
        "colab": {
          "base_uri": "https://localhost:8080/"
        }
      },
      "execution_count": null,
      "outputs": [
        {
          "output_type": "execute_result",
          "data": {
            "text/plain": [
              "                  id faixa_etaria situacao_de_conclusao  ano_de_conclusao  \\\n",
              "1       210052384164           12                     1                11   \n",
              "3       210052128335            3                     2                 0   \n",
              "4       210051353021            2                     2                 0   \n",
              "8       210053417016            8                     2                 0   \n",
              "9       210051128744            4                     2                 0   \n",
              "...              ...          ...                   ...               ...   \n",
              "23028   210051848498           19                     1                 0   \n",
              "27874   210052809724           20                     1                 0   \n",
              "56882   210054121659           20                     1                15   \n",
              "96605   210051067629           20                     1                 9   \n",
              "109914  210054377190           20                     1                 0   \n",
              "\n",
              "                               nome_situacao_de_conclusao  \\\n",
              "1                               Ja conclui o Ensino Medio   \n",
              "3       Estou cursando e concluirei o Ensino Medio em ...   \n",
              "4       Estou cursando e concluirei o Ensino Medio em ...   \n",
              "8       Estou cursando e concluirei o Ensino Medio em ...   \n",
              "9       Estou cursando e concluirei o Ensino Medio em ...   \n",
              "...                                                   ...   \n",
              "23028                           Ja conclui o Ensino Medio   \n",
              "27874                           Ja conclui o Ensino Medio   \n",
              "56882                           Ja conclui o Ensino Medio   \n",
              "96605                           Ja conclui o Ensino Medio   \n",
              "109914                          Ja conclui o Ensino Medio   \n",
              "\n",
              "        code_situacao_de_conclusao  \n",
              "1                                2  \n",
              "3                                1  \n",
              "4                                1  \n",
              "8                                1  \n",
              "9                                1  \n",
              "...                            ...  \n",
              "23028                            2  \n",
              "27874                            2  \n",
              "56882                            2  \n",
              "96605                            2  \n",
              "109914                           2  \n",
              "\n",
              "[100 rows x 6 columns]"
            ],
            "text/html": [
              "\n",
              "  <div id=\"df-24aa2354-ad4d-4f52-b2be-4a6e01e3aefe\">\n",
              "    <div class=\"colab-df-container\">\n",
              "      <div>\n",
              "<style scoped>\n",
              "    .dataframe tbody tr th:only-of-type {\n",
              "        vertical-align: middle;\n",
              "    }\n",
              "\n",
              "    .dataframe tbody tr th {\n",
              "        vertical-align: top;\n",
              "    }\n",
              "\n",
              "    .dataframe thead th {\n",
              "        text-align: right;\n",
              "    }\n",
              "</style>\n",
              "<table border=\"1\" class=\"dataframe\">\n",
              "  <thead>\n",
              "    <tr style=\"text-align: right;\">\n",
              "      <th></th>\n",
              "      <th>id</th>\n",
              "      <th>faixa_etaria</th>\n",
              "      <th>situacao_de_conclusao</th>\n",
              "      <th>ano_de_conclusao</th>\n",
              "      <th>nome_situacao_de_conclusao</th>\n",
              "      <th>code_situacao_de_conclusao</th>\n",
              "    </tr>\n",
              "  </thead>\n",
              "  <tbody>\n",
              "    <tr>\n",
              "      <th>1</th>\n",
              "      <td>210052384164</td>\n",
              "      <td>12</td>\n",
              "      <td>1</td>\n",
              "      <td>11</td>\n",
              "      <td>Ja conclui o Ensino Medio</td>\n",
              "      <td>2</td>\n",
              "    </tr>\n",
              "    <tr>\n",
              "      <th>3</th>\n",
              "      <td>210052128335</td>\n",
              "      <td>3</td>\n",
              "      <td>2</td>\n",
              "      <td>0</td>\n",
              "      <td>Estou cursando e concluirei o Ensino Medio em ...</td>\n",
              "      <td>1</td>\n",
              "    </tr>\n",
              "    <tr>\n",
              "      <th>4</th>\n",
              "      <td>210051353021</td>\n",
              "      <td>2</td>\n",
              "      <td>2</td>\n",
              "      <td>0</td>\n",
              "      <td>Estou cursando e concluirei o Ensino Medio em ...</td>\n",
              "      <td>1</td>\n",
              "    </tr>\n",
              "    <tr>\n",
              "      <th>8</th>\n",
              "      <td>210053417016</td>\n",
              "      <td>8</td>\n",
              "      <td>2</td>\n",
              "      <td>0</td>\n",
              "      <td>Estou cursando e concluirei o Ensino Medio em ...</td>\n",
              "      <td>1</td>\n",
              "    </tr>\n",
              "    <tr>\n",
              "      <th>9</th>\n",
              "      <td>210051128744</td>\n",
              "      <td>4</td>\n",
              "      <td>2</td>\n",
              "      <td>0</td>\n",
              "      <td>Estou cursando e concluirei o Ensino Medio em ...</td>\n",
              "      <td>1</td>\n",
              "    </tr>\n",
              "    <tr>\n",
              "      <th>...</th>\n",
              "      <td>...</td>\n",
              "      <td>...</td>\n",
              "      <td>...</td>\n",
              "      <td>...</td>\n",
              "      <td>...</td>\n",
              "      <td>...</td>\n",
              "    </tr>\n",
              "    <tr>\n",
              "      <th>23028</th>\n",
              "      <td>210051848498</td>\n",
              "      <td>19</td>\n",
              "      <td>1</td>\n",
              "      <td>0</td>\n",
              "      <td>Ja conclui o Ensino Medio</td>\n",
              "      <td>2</td>\n",
              "    </tr>\n",
              "    <tr>\n",
              "      <th>27874</th>\n",
              "      <td>210052809724</td>\n",
              "      <td>20</td>\n",
              "      <td>1</td>\n",
              "      <td>0</td>\n",
              "      <td>Ja conclui o Ensino Medio</td>\n",
              "      <td>2</td>\n",
              "    </tr>\n",
              "    <tr>\n",
              "      <th>56882</th>\n",
              "      <td>210054121659</td>\n",
              "      <td>20</td>\n",
              "      <td>1</td>\n",
              "      <td>15</td>\n",
              "      <td>Ja conclui o Ensino Medio</td>\n",
              "      <td>2</td>\n",
              "    </tr>\n",
              "    <tr>\n",
              "      <th>96605</th>\n",
              "      <td>210051067629</td>\n",
              "      <td>20</td>\n",
              "      <td>1</td>\n",
              "      <td>9</td>\n",
              "      <td>Ja conclui o Ensino Medio</td>\n",
              "      <td>2</td>\n",
              "    </tr>\n",
              "    <tr>\n",
              "      <th>109914</th>\n",
              "      <td>210054377190</td>\n",
              "      <td>20</td>\n",
              "      <td>1</td>\n",
              "      <td>0</td>\n",
              "      <td>Ja conclui o Ensino Medio</td>\n",
              "      <td>2</td>\n",
              "    </tr>\n",
              "  </tbody>\n",
              "</table>\n",
              "<p>100 rows × 6 columns</p>\n",
              "</div>\n",
              "      <button class=\"colab-df-convert\" onclick=\"convertToInteractive('df-24aa2354-ad4d-4f52-b2be-4a6e01e3aefe')\"\n",
              "              title=\"Convert this dataframe to an interactive table.\"\n",
              "              style=\"display:none;\">\n",
              "        \n",
              "  <svg xmlns=\"http://www.w3.org/2000/svg\" height=\"24px\"viewBox=\"0 0 24 24\"\n",
              "       width=\"24px\">\n",
              "    <path d=\"M0 0h24v24H0V0z\" fill=\"none\"/>\n",
              "    <path d=\"M18.56 5.44l.94 2.06.94-2.06 2.06-.94-2.06-.94-.94-2.06-.94 2.06-2.06.94zm-11 1L8.5 8.5l.94-2.06 2.06-.94-2.06-.94L8.5 2.5l-.94 2.06-2.06.94zm10 10l.94 2.06.94-2.06 2.06-.94-2.06-.94-.94-2.06-.94 2.06-2.06.94z\"/><path d=\"M17.41 7.96l-1.37-1.37c-.4-.4-.92-.59-1.43-.59-.52 0-1.04.2-1.43.59L10.3 9.45l-7.72 7.72c-.78.78-.78 2.05 0 2.83L4 21.41c.39.39.9.59 1.41.59.51 0 1.02-.2 1.41-.59l7.78-7.78 2.81-2.81c.8-.78.8-2.07 0-2.86zM5.41 20L4 18.59l7.72-7.72 1.47 1.35L5.41 20z\"/>\n",
              "  </svg>\n",
              "      </button>\n",
              "      \n",
              "  <style>\n",
              "    .colab-df-container {\n",
              "      display:flex;\n",
              "      flex-wrap:wrap;\n",
              "      gap: 12px;\n",
              "    }\n",
              "\n",
              "    .colab-df-convert {\n",
              "      background-color: #E8F0FE;\n",
              "      border: none;\n",
              "      border-radius: 50%;\n",
              "      cursor: pointer;\n",
              "      display: none;\n",
              "      fill: #1967D2;\n",
              "      height: 32px;\n",
              "      padding: 0 0 0 0;\n",
              "      width: 32px;\n",
              "    }\n",
              "\n",
              "    .colab-df-convert:hover {\n",
              "      background-color: #E2EBFA;\n",
              "      box-shadow: 0px 1px 2px rgba(60, 64, 67, 0.3), 0px 1px 3px 1px rgba(60, 64, 67, 0.15);\n",
              "      fill: #174EA6;\n",
              "    }\n",
              "\n",
              "    [theme=dark] .colab-df-convert {\n",
              "      background-color: #3B4455;\n",
              "      fill: #D2E3FC;\n",
              "    }\n",
              "\n",
              "    [theme=dark] .colab-df-convert:hover {\n",
              "      background-color: #434B5C;\n",
              "      box-shadow: 0px 1px 3px 1px rgba(0, 0, 0, 0.15);\n",
              "      filter: drop-shadow(0px 1px 2px rgba(0, 0, 0, 0.3));\n",
              "      fill: #FFFFFF;\n",
              "    }\n",
              "  </style>\n",
              "\n",
              "      <script>\n",
              "        const buttonEl =\n",
              "          document.querySelector('#df-24aa2354-ad4d-4f52-b2be-4a6e01e3aefe button.colab-df-convert');\n",
              "        buttonEl.style.display =\n",
              "          google.colab.kernel.accessAllowed ? 'block' : 'none';\n",
              "\n",
              "        async function convertToInteractive(key) {\n",
              "          const element = document.querySelector('#df-24aa2354-ad4d-4f52-b2be-4a6e01e3aefe');\n",
              "          const dataTable =\n",
              "            await google.colab.kernel.invokeFunction('convertToInteractive',\n",
              "                                                     [key], {});\n",
              "          if (!dataTable) return;\n",
              "\n",
              "          const docLinkHtml = 'Like what you see? Visit the ' +\n",
              "            '<a target=\"_blank\" href=https://colab.research.google.com/notebooks/data_table.ipynb>data table notebook</a>'\n",
              "            + ' to learn more about interactive tables.';\n",
              "          element.innerHTML = '';\n",
              "          dataTable['output_type'] = 'display_data';\n",
              "          await google.colab.output.renderOutput(dataTable, element);\n",
              "          const docLink = document.createElement('div');\n",
              "          docLink.innerHTML = docLinkHtml;\n",
              "          element.appendChild(docLink);\n",
              "        }\n",
              "      </script>\n",
              "    </div>\n",
              "  </div>\n",
              "  "
            ]
          },
          "metadata": {},
          "execution_count": 97
        }
      ]
    },
    {
      "cell_type": "markdown",
      "source": [
        "#### Faixa etária dos participantes"
      ],
      "metadata": {
        "id": "DJLpkkLAB8ZB"
      }
    },
    {
      "cell_type": "markdown",
      "source": [
        "Existe um número significativo de pessoas entre 17 e \n",
        "21 anos que realizaram a prova que não zeraram ciencias humanas e nem linguagens."
      ],
      "metadata": {
        "id": "FmsAUmL6IvPz"
      }
    },
    {
      "cell_type": "code",
      "source": [
        "xticks = ['Menor de 17 anos', '17 anos', '18 anos', '19 anos', '20 anos', '21 anos', '22 anos', '23 anos', '24 anos', '25 anos', 'Entre 26 e 30 anos', 'Entre 31 e 35 anos', 'Entre 36 e 40 anos', 'Entre 41 e 45 anos', 'Entre 46 e 50 anos', 'Entre 51 e 55 anos', 'Entre 56 e 60 anos', 'Entre 61 e 65 anos', 'Entre 66 e 70 anos', 'Maior de 70 anos']\n",
        "participantes_humanas_linguagem_agrupado = participantes_humanas_linguagem.groupby('faixa_etaria')['id'].count()\n",
        "\n",
        "fig, ax = plt.subplots(figsize = (10,4))\n",
        "\n",
        "ax.bar(xticks, participantes_humanas_linguagem_agrupado.values)\n",
        "\n",
        "ax.set_xticklabels(xticks, rotation=65)\n",
        "ax.set_xlabel('Faixa etária')\n",
        "ax.set_ylabel('Quantidade de alunos')\n",
        "\n",
        "plt.show()"
      ],
      "metadata": {
        "id": "Q6el3ryeWUQ3",
        "outputId": "7d40115b-e692-4a9e-e140-45a90b3727ac",
        "colab": {
          "base_uri": "https://localhost:8080/",
          "height": 359
        }
      },
      "execution_count": null,
      "outputs": [
        {
          "output_type": "display_data",
          "data": {
            "text/plain": [
              "<Figure size 720x288 with 1 Axes>"
            ],
            "image/png": "[encoded data removed]"
          },
          "metadata": {
            "needs_background": "light"
          }
        }
      ]
    },
    {
      "cell_type": "markdown",
      "source": [
        "Existe um número significativo de pessoas que vão concluir o ensino médio no ano que realizaram a prova que possuem 18 anos que não zeraram ciencias humanas e nem linguagens"
      ],
      "metadata": {
        "id": "EctLNfkhIT0-"
      }
    },
    {
      "cell_type": "code",
      "source": [
        "\n",
        "xticks= ['Já concluí o Ensino Médio', 'Estou cursando e concluirei o Ensino Médio em 2021', 'Estou cursando e concluirei o Ensino Médio após 2021', 'Não concluí e não estou cursando o Ensino Médio']\n",
        "participantes_humanas_linguagem_agrupado_sit_de_concl = participantes_humanas_linguagem.groupby('situacao_de_conclusao')['id'].count()\n",
        "\n",
        "fig, ax = plt.subplots(figsize = (10,4))\n",
        "\n",
        "ax.bar(xticks, participantes_humanas_linguagem_agrupado_sit_de_concl.values)\n",
        "\n",
        "ax.set_xticklabels(xticks, rotation=65)\n",
        "ax.set_xlabel('Faixa etária')\n",
        "ax.set_ylabel('Quantidade de alunos')\n",
        "\n",
        "plt.show()"
      ],
      "metadata": {
        "id": "vy3j3FQvgenn",
        "outputId": "ef9b894c-1f9c-405c-b415-894daf992b87",
        "colab": {
          "base_uri": "https://localhost:8080/",
          "height": 521
        }
      },
      "execution_count": null,
      "outputs": [
        {
          "output_type": "display_data",
          "data": {
            "text/plain": [
              "<Figure size 720x288 with 1 Axes>"
            ],
            "image/png": "[encoded data removed]"
          },
          "metadata": {
            "needs_background": "light"
          }
        }
      ]
    },
    {
      "cell_type": "markdown",
      "source": [
        "## Testes de hipótese\n"
      ],
      "metadata": {
        "id": "jrvDuysI3imL"
      }
    },
    {
      "cell_type": "markdown",
      "source": [
        "Aqui nós faremos o teste de hipóteses a respeito dos grupos de situações de participantes do enem e suas notas de matemática.\n",
        "\n",
        "Iremos adotar como valor crítico 0.05 (5%).\n",
        "\n",
        "Como a ideia é pegar os grupos de situação de conclusão do ensino médio e suas notas de matemáticas, então teremos grupos não pareados.\n",
        "\n",
        "Os grupos são \"já conclui o ensino médio\", \"estou cursando e concluirei em 2021\", \"estou cursando e concluirei após 2021\", \"não conclui e não estou cursando o ensino médio\". "
      ],
      "metadata": {
        "id": "X2yZSXMzjTA0"
      }
    },
    {
      "cell_type": "code",
      "source": [
        "# unindo as tabelas de participantes com notas\n",
        "sample_notas = notas[:10000]\n",
        "sample_participantes = participantes[:10000]\n",
        "notas_com_paticipantes = pd.concat([sample_participantes, sample_notas], axis=1)\n",
        "notas_com_paticipantes.head()"
      ],
      "metadata": {
        "colab": {
          "base_uri": "https://localhost:8080/",
          "height": 305
        },
        "id": "0HBXgqmYDd7t",
        "outputId": "35e15ab6-a88b-4349-f464-a8ae2eb48cbd"
      },
      "execution_count": null,
      "outputs": [
        {
          "output_type": "execute_result",
          "data": {
            "text/plain": [
              "             id faixa_etaria situacao_de_conclusao  ano_de_conclusao  \\\n",
              "0  210053865474            5                     1                 3   \n",
              "1  210052384164           12                     1                11   \n",
              "2  210052589243           13                     1                15   \n",
              "3  210052128335            3                     2                 0   \n",
              "4  210051353021            2                     2                 0   \n",
              "\n",
              "                          nome_situacao_de_conclusao  \\\n",
              "0                          Ja conclui o Ensino Medio   \n",
              "1                          Ja conclui o Ensino Medio   \n",
              "2                          Ja conclui o Ensino Medio   \n",
              "3  Estou cursando e concluirei o Ensino Medio em ...   \n",
              "4  Estou cursando e concluirei o Ensino Medio em ...   \n",
              "\n",
              "   code_situacao_de_conclusao            id  ciencias_naturais  \\\n",
              "0                           2  210053865474                NaN   \n",
              "1                           2  210052384164              505.9   \n",
              "2                           2  210052589243                NaN   \n",
              "3                           1  210052128335              580.7   \n",
              "4                           1  210051353021              497.7   \n",
              "\n",
              "   ciencias_humanas  linguagem_codigo  matematica  redacao  \n",
              "0             574.6             472.6         NaN    760.0  \n",
              "1             551.8             498.3       461.5    560.0  \n",
              "2               NaN               NaN         NaN      NaN  \n",
              "3             678.9             638.9       659.5    780.0  \n",
              "4             532.4             457.6       582.6    780.0  "
            ],
            "text/html": [
              "\n",
              "  <div id=\"df-9b275f9b-cd67-4b0b-a44c-17eed99688f7\">\n",
              "    <div class=\"colab-df-container\">\n",
              "      <div>\n",
              "<style scoped>\n",
              "    .dataframe tbody tr th:only-of-type {\n",
              "        vertical-align: middle;\n",
              "    }\n",
              "\n",
              "    .dataframe tbody tr th {\n",
              "        vertical-align: top;\n",
              "    }\n",
              "\n",
              "    .dataframe thead th {\n",
              "        text-align: right;\n",
              "    }\n",
              "</style>\n",
              "<table border=\"1\" class=\"dataframe\">\n",
              "  <thead>\n",
              "    <tr style=\"text-align: right;\">\n",
              "      <th></th>\n",
              "      <th>id</th>\n",
              "      <th>faixa_etaria</th>\n",
              "      <th>situacao_de_conclusao</th>\n",
              "      <th>ano_de_conclusao</th>\n",
              "      <th>nome_situacao_de_conclusao</th>\n",
              "      <th>code_situacao_de_conclusao</th>\n",
              "      <th>id</th>\n",
              "      <th>ciencias_naturais</th>\n",
              "      <th>ciencias_humanas</th>\n",
              "      <th>linguagem_codigo</th>\n",
              "      <th>matematica</th>\n",
              "      <th>redacao</th>\n",
              "    </tr>\n",
              "  </thead>\n",
              "  <tbody>\n",
              "    <tr>\n",
              "      <th>0</th>\n",
              "      <td>210053865474</td>\n",
              "      <td>5</td>\n",
              "      <td>1</td>\n",
              "      <td>3</td>\n",
              "      <td>Ja conclui o Ensino Medio</td>\n",
              "      <td>2</td>\n",
              "      <td>210053865474</td>\n",
              "      <td>NaN</td>\n",
              "      <td>574.6</td>\n",
              "      <td>472.6</td>\n",
              "      <td>NaN</td>\n",
              "      <td>760.0</td>\n",
              "    </tr>\n",
              "    <tr>\n",
              "      <th>1</th>\n",
              "      <td>210052384164</td>\n",
              "      <td>12</td>\n",
              "      <td>1</td>\n",
              "      <td>11</td>\n",
              "      <td>Ja conclui o Ensino Medio</td>\n",
              "      <td>2</td>\n",
              "      <td>210052384164</td>\n",
              "      <td>505.9</td>\n",
              "      <td>551.8</td>\n",
              "      <td>498.3</td>\n",
              "      <td>461.5</td>\n",
              "      <td>560.0</td>\n",
              "    </tr>\n",
              "    <tr>\n",
              "      <th>2</th>\n",
              "      <td>210052589243</td>\n",
              "      <td>13</td>\n",
              "      <td>1</td>\n",
              "      <td>15</td>\n",
              "      <td>Ja conclui o Ensino Medio</td>\n",
              "      <td>2</td>\n",
              "      <td>210052589243</td>\n",
              "      <td>NaN</td>\n",
              "      <td>NaN</td>\n",
              "      <td>NaN</td>\n",
              "      <td>NaN</td>\n",
              "      <td>NaN</td>\n",
              "    </tr>\n",
              "    <tr>\n",
              "      <th>3</th>\n",
              "      <td>210052128335</td>\n",
              "      <td>3</td>\n",
              "      <td>2</td>\n",
              "      <td>0</td>\n",
              "      <td>Estou cursando e concluirei o Ensino Medio em ...</td>\n",
              "      <td>1</td>\n",
              "      <td>210052128335</td>\n",
              "      <td>580.7</td>\n",
              "      <td>678.9</td>\n",
              "      <td>638.9</td>\n",
              "      <td>659.5</td>\n",
              "      <td>780.0</td>\n",
              "    </tr>\n",
              "    <tr>\n",
              "      <th>4</th>\n",
              "      <td>210051353021</td>\n",
              "      <td>2</td>\n",
              "      <td>2</td>\n",
              "      <td>0</td>\n",
              "      <td>Estou cursando e concluirei o Ensino Medio em ...</td>\n",
              "      <td>1</td>\n",
              "      <td>210051353021</td>\n",
              "      <td>497.7</td>\n",
              "      <td>532.4</td>\n",
              "      <td>457.6</td>\n",
              "      <td>582.6</td>\n",
              "      <td>780.0</td>\n",
              "    </tr>\n",
              "  </tbody>\n",
              "</table>\n",
              "</div>\n",
              "      <button class=\"colab-df-convert\" onclick=\"convertToInteractive('df-9b275f9b-cd67-4b0b-a44c-17eed99688f7')\"\n",
              "              title=\"Convert this dataframe to an interactive table.\"\n",
              "              style=\"display:none;\">\n",
              "        \n",
              "  <svg xmlns=\"http://www.w3.org/2000/svg\" height=\"24px\"viewBox=\"0 0 24 24\"\n",
              "       width=\"24px\">\n",
              "    <path d=\"M0 0h24v24H0V0z\" fill=\"none\"/>\n",
              "    <path d=\"M18.56 5.44l.94 2.06.94-2.06 2.06-.94-2.06-.94-.94-2.06-.94 2.06-2.06.94zm-11 1L8.5 8.5l.94-2.06 2.06-.94-2.06-.94L8.5 2.5l-.94 2.06-2.06.94zm10 10l.94 2.06.94-2.06 2.06-.94-2.06-.94-.94-2.06-.94 2.06-2.06.94z\"/><path d=\"M17.41 7.96l-1.37-1.37c-.4-.4-.92-.59-1.43-.59-.52 0-1.04.2-1.43.59L10.3 9.45l-7.72 7.72c-.78.78-.78 2.05 0 2.83L4 21.41c.39.39.9.59 1.41.59.51 0 1.02-.2 1.41-.59l7.78-7.78 2.81-2.81c.8-.78.8-2.07 0-2.86zM5.41 20L4 18.59l7.72-7.72 1.47 1.35L5.41 20z\"/>\n",
              "  </svg>\n",
              "      </button>\n",
              "      \n",
              "  <style>\n",
              "    .colab-df-container {\n",
              "      display:flex;\n",
              "      flex-wrap:wrap;\n",
              "      gap: 12px;\n",
              "    }\n",
              "\n",
              "    .colab-df-convert {\n",
              "      background-color: #E8F0FE;\n",
              "      border: none;\n",
              "      border-radius: 50%;\n",
              "      cursor: pointer;\n",
              "      display: none;\n",
              "      fill: #1967D2;\n",
              "      height: 32px;\n",
              "      padding: 0 0 0 0;\n",
              "      width: 32px;\n",
              "    }\n",
              "\n",
              "    .colab-df-convert:hover {\n",
              "      background-color: #E2EBFA;\n",
              "      box-shadow: 0px 1px 2px rgba(60, 64, 67, 0.3), 0px 1px 3px 1px rgba(60, 64, 67, 0.15);\n",
              "      fill: #174EA6;\n",
              "    }\n",
              "\n",
              "    [theme=dark] .colab-df-convert {\n",
              "      background-color: #3B4455;\n",
              "      fill: #D2E3FC;\n",
              "    }\n",
              "\n",
              "    [theme=dark] .colab-df-convert:hover {\n",
              "      background-color: #434B5C;\n",
              "      box-shadow: 0px 1px 3px 1px rgba(0, 0, 0, 0.15);\n",
              "      filter: drop-shadow(0px 1px 2px rgba(0, 0, 0, 0.3));\n",
              "      fill: #FFFFFF;\n",
              "    }\n",
              "  </style>\n",
              "\n",
              "      <script>\n",
              "        const buttonEl =\n",
              "          document.querySelector('#df-9b275f9b-cd67-4b0b-a44c-17eed99688f7 button.colab-df-convert');\n",
              "        buttonEl.style.display =\n",
              "          google.colab.kernel.accessAllowed ? 'block' : 'none';\n",
              "\n",
              "        async function convertToInteractive(key) {\n",
              "          const element = document.querySelector('#df-9b275f9b-cd67-4b0b-a44c-17eed99688f7');\n",
              "          const dataTable =\n",
              "            await google.colab.kernel.invokeFunction('convertToInteractive',\n",
              "                                                     [key], {});\n",
              "          if (!dataTable) return;\n",
              "\n",
              "          const docLinkHtml = 'Like what you see? Visit the ' +\n",
              "            '<a target=\"_blank\" href=https://colab.research.google.com/notebooks/data_table.ipynb>data table notebook</a>'\n",
              "            + ' to learn more about interactive tables.';\n",
              "          element.innerHTML = '';\n",
              "          dataTable['output_type'] = 'display_data';\n",
              "          await google.colab.output.renderOutput(dataTable, element);\n",
              "          const docLink = document.createElement('div');\n",
              "          docLink.innerHTML = docLinkHtml;\n",
              "          element.appendChild(docLink);\n",
              "        }\n",
              "      </script>\n",
              "    </div>\n",
              "  </div>\n",
              "  "
            ]
          },
          "metadata": {},
          "execution_count": 100
        }
      ]
    },
    {
      "cell_type": "code",
      "source": [
        "# pegando só as colunas em questão\n",
        "notas_hipotese = notas_com_paticipantes[['situacao_de_conclusao', 'matematica']]\n",
        "notas_hipotese.head()"
      ],
      "metadata": {
        "colab": {
          "base_uri": "https://localhost:8080/",
          "height": 206
        },
        "id": "w0yeY1DhEz_B",
        "outputId": "a24978cc-2429-4f4d-f316-e2becda1cd7e"
      },
      "execution_count": null,
      "outputs": [
        {
          "output_type": "execute_result",
          "data": {
            "text/plain": [
              "  situacao_de_conclusao  matematica\n",
              "0                     1         NaN\n",
              "1                     1       461.5\n",
              "2                     1         NaN\n",
              "3                     2       659.5\n",
              "4                     2       582.6"
            ],
            "text/html": [
              "\n",
              "  <div id=\"df-65b0be80-d870-48d6-9f2d-d8c53258d1c1\">\n",
              "    <div class=\"colab-df-container\">\n",
              "      <div>\n",
              "<style scoped>\n",
              "    .dataframe tbody tr th:only-of-type {\n",
              "        vertical-align: middle;\n",
              "    }\n",
              "\n",
              "    .dataframe tbody tr th {\n",
              "        vertical-align: top;\n",
              "    }\n",
              "\n",
              "    .dataframe thead th {\n",
              "        text-align: right;\n",
              "    }\n",
              "</style>\n",
              "<table border=\"1\" class=\"dataframe\">\n",
              "  <thead>\n",
              "    <tr style=\"text-align: right;\">\n",
              "      <th></th>\n",
              "      <th>situacao_de_conclusao</th>\n",
              "      <th>matematica</th>\n",
              "    </tr>\n",
              "  </thead>\n",
              "  <tbody>\n",
              "    <tr>\n",
              "      <th>0</th>\n",
              "      <td>1</td>\n",
              "      <td>NaN</td>\n",
              "    </tr>\n",
              "    <tr>\n",
              "      <th>1</th>\n",
              "      <td>1</td>\n",
              "      <td>461.5</td>\n",
              "    </tr>\n",
              "    <tr>\n",
              "      <th>2</th>\n",
              "      <td>1</td>\n",
              "      <td>NaN</td>\n",
              "    </tr>\n",
              "    <tr>\n",
              "      <th>3</th>\n",
              "      <td>2</td>\n",
              "      <td>659.5</td>\n",
              "    </tr>\n",
              "    <tr>\n",
              "      <th>4</th>\n",
              "      <td>2</td>\n",
              "      <td>582.6</td>\n",
              "    </tr>\n",
              "  </tbody>\n",
              "</table>\n",
              "</div>\n",
              "      <button class=\"colab-df-convert\" onclick=\"convertToInteractive('df-65b0be80-d870-48d6-9f2d-d8c53258d1c1')\"\n",
              "              title=\"Convert this dataframe to an interactive table.\"\n",
              "              style=\"display:none;\">\n",
              "        \n",
              "  <svg xmlns=\"http://www.w3.org/2000/svg\" height=\"24px\"viewBox=\"0 0 24 24\"\n",
              "       width=\"24px\">\n",
              "    <path d=\"M0 0h24v24H0V0z\" fill=\"none\"/>\n",
              "    <path d=\"M18.56 5.44l.94 2.06.94-2.06 2.06-.94-2.06-.94-.94-2.06-.94 2.06-2.06.94zm-11 1L8.5 8.5l.94-2.06 2.06-.94-2.06-.94L8.5 2.5l-.94 2.06-2.06.94zm10 10l.94 2.06.94-2.06 2.06-.94-2.06-.94-.94-2.06-.94 2.06-2.06.94z\"/><path d=\"M17.41 7.96l-1.37-1.37c-.4-.4-.92-.59-1.43-.59-.52 0-1.04.2-1.43.59L10.3 9.45l-7.72 7.72c-.78.78-.78 2.05 0 2.83L4 21.41c.39.39.9.59 1.41.59.51 0 1.02-.2 1.41-.59l7.78-7.78 2.81-2.81c.8-.78.8-2.07 0-2.86zM5.41 20L4 18.59l7.72-7.72 1.47 1.35L5.41 20z\"/>\n",
              "  </svg>\n",
              "      </button>\n",
              "      \n",
              "  <style>\n",
              "    .colab-df-container {\n",
              "      display:flex;\n",
              "      flex-wrap:wrap;\n",
              "      gap: 12px;\n",
              "    }\n",
              "\n",
              "    .colab-df-convert {\n",
              "      background-color: #E8F0FE;\n",
              "      border: none;\n",
              "      border-radius: 50%;\n",
              "      cursor: pointer;\n",
              "      display: none;\n",
              "      fill: #1967D2;\n",
              "      height: 32px;\n",
              "      padding: 0 0 0 0;\n",
              "      width: 32px;\n",
              "    }\n",
              "\n",
              "    .colab-df-convert:hover {\n",
              "      background-color: #E2EBFA;\n",
              "      box-shadow: 0px 1px 2px rgba(60, 64, 67, 0.3), 0px 1px 3px 1px rgba(60, 64, 67, 0.15);\n",
              "      fill: #174EA6;\n",
              "    }\n",
              "\n",
              "    [theme=dark] .colab-df-convert {\n",
              "      background-color: #3B4455;\n",
              "      fill: #D2E3FC;\n",
              "    }\n",
              "\n",
              "    [theme=dark] .colab-df-convert:hover {\n",
              "      background-color: #434B5C;\n",
              "      box-shadow: 0px 1px 3px 1px rgba(0, 0, 0, 0.15);\n",
              "      filter: drop-shadow(0px 1px 2px rgba(0, 0, 0, 0.3));\n",
              "      fill: #FFFFFF;\n",
              "    }\n",
              "  </style>\n",
              "\n",
              "      <script>\n",
              "        const buttonEl =\n",
              "          document.querySelector('#df-65b0be80-d870-48d6-9f2d-d8c53258d1c1 button.colab-df-convert');\n",
              "        buttonEl.style.display =\n",
              "          google.colab.kernel.accessAllowed ? 'block' : 'none';\n",
              "\n",
              "        async function convertToInteractive(key) {\n",
              "          const element = document.querySelector('#df-65b0be80-d870-48d6-9f2d-d8c53258d1c1');\n",
              "          const dataTable =\n",
              "            await google.colab.kernel.invokeFunction('convertToInteractive',\n",
              "                                                     [key], {});\n",
              "          if (!dataTable) return;\n",
              "\n",
              "          const docLinkHtml = 'Like what you see? Visit the ' +\n",
              "            '<a target=\"_blank\" href=https://colab.research.google.com/notebooks/data_table.ipynb>data table notebook</a>'\n",
              "            + ' to learn more about interactive tables.';\n",
              "          element.innerHTML = '';\n",
              "          dataTable['output_type'] = 'display_data';\n",
              "          await google.colab.output.renderOutput(dataTable, element);\n",
              "          const docLink = document.createElement('div');\n",
              "          docLink.innerHTML = docLinkHtml;\n",
              "          element.appendChild(docLink);\n",
              "        }\n",
              "      </script>\n",
              "    </div>\n",
              "  </div>\n",
              "  "
            ]
          },
          "metadata": {},
          "execution_count": 101
        }
      ]
    },
    {
      "cell_type": "code",
      "source": [
        "# verificando os tipos das colunas (por isso no describe a seguir não aparece a \n",
        "# situação de conlusão mesmo este sendo números também)\n",
        "notas_hipotese.dtypes"
      ],
      "metadata": {
        "colab": {
          "base_uri": "https://localhost:8080/"
        },
        "id": "kp-7TLDpH-6y",
        "outputId": "4e3cd4c0-bea7-468c-db7a-83831dad961b"
      },
      "execution_count": null,
      "outputs": [
        {
          "output_type": "execute_result",
          "data": {
            "text/plain": [
              "situacao_de_conclusao    category\n",
              "matematica                float64\n",
              "dtype: object"
            ]
          },
          "metadata": {},
          "execution_count": 102
        }
      ]
    },
    {
      "cell_type": "code",
      "source": [
        "notas_hipotese.describe()"
      ],
      "metadata": {
        "colab": {
          "base_uri": "https://localhost:8080/",
          "height": 300
        },
        "id": "nIQt8pFdFEmT",
        "outputId": "963be513-17c5-47b1-f10f-194bda109f99"
      },
      "execution_count": null,
      "outputs": [
        {
          "output_type": "execute_result",
          "data": {
            "text/plain": [
              "        matematica\n",
              "count  7775.000000\n",
              "mean    528.025055\n",
              "std     109.291264\n",
              "min       0.000000\n",
              "25%     440.400000\n",
              "50%     504.300000\n",
              "75%     599.600000\n",
              "max     944.100000"
            ],
            "text/html": [
              "\n",
              "  <div id=\"df-4125bff1-4ccb-41c0-b79b-13b096e83a1e\">\n",
              "    <div class=\"colab-df-container\">\n",
              "      <div>\n",
              "<style scoped>\n",
              "    .dataframe tbody tr th:only-of-type {\n",
              "        vertical-align: middle;\n",
              "    }\n",
              "\n",
              "    .dataframe tbody tr th {\n",
              "        vertical-align: top;\n",
              "    }\n",
              "\n",
              "    .dataframe thead th {\n",
              "        text-align: right;\n",
              "    }\n",
              "</style>\n",
              "<table border=\"1\" class=\"dataframe\">\n",
              "  <thead>\n",
              "    <tr style=\"text-align: right;\">\n",
              "      <th></th>\n",
              "      <th>matematica</th>\n",
              "    </tr>\n",
              "  </thead>\n",
              "  <tbody>\n",
              "    <tr>\n",
              "      <th>count</th>\n",
              "      <td>7775.000000</td>\n",
              "    </tr>\n",
              "    <tr>\n",
              "      <th>mean</th>\n",
              "      <td>528.025055</td>\n",
              "    </tr>\n",
              "    <tr>\n",
              "      <th>std</th>\n",
              "      <td>109.291264</td>\n",
              "    </tr>\n",
              "    <tr>\n",
              "      <th>min</th>\n",
              "      <td>0.000000</td>\n",
              "    </tr>\n",
              "    <tr>\n",
              "      <th>25%</th>\n",
              "      <td>440.400000</td>\n",
              "    </tr>\n",
              "    <tr>\n",
              "      <th>50%</th>\n",
              "      <td>504.300000</td>\n",
              "    </tr>\n",
              "    <tr>\n",
              "      <th>75%</th>\n",
              "      <td>599.600000</td>\n",
              "    </tr>\n",
              "    <tr>\n",
              "      <th>max</th>\n",
              "      <td>944.100000</td>\n",
              "    </tr>\n",
              "  </tbody>\n",
              "</table>\n",
              "</div>\n",
              "      <button class=\"colab-df-convert\" onclick=\"convertToInteractive('df-4125bff1-4ccb-41c0-b79b-13b096e83a1e')\"\n",
              "              title=\"Convert this dataframe to an interactive table.\"\n",
              "              style=\"display:none;\">\n",
              "        \n",
              "  <svg xmlns=\"http://www.w3.org/2000/svg\" height=\"24px\"viewBox=\"0 0 24 24\"\n",
              "       width=\"24px\">\n",
              "    <path d=\"M0 0h24v24H0V0z\" fill=\"none\"/>\n",
              "    <path d=\"M18.56 5.44l.94 2.06.94-2.06 2.06-.94-2.06-.94-.94-2.06-.94 2.06-2.06.94zm-11 1L8.5 8.5l.94-2.06 2.06-.94-2.06-.94L8.5 2.5l-.94 2.06-2.06.94zm10 10l.94 2.06.94-2.06 2.06-.94-2.06-.94-.94-2.06-.94 2.06-2.06.94z\"/><path d=\"M17.41 7.96l-1.37-1.37c-.4-.4-.92-.59-1.43-.59-.52 0-1.04.2-1.43.59L10.3 9.45l-7.72 7.72c-.78.78-.78 2.05 0 2.83L4 21.41c.39.39.9.59 1.41.59.51 0 1.02-.2 1.41-.59l7.78-7.78 2.81-2.81c.8-.78.8-2.07 0-2.86zM5.41 20L4 18.59l7.72-7.72 1.47 1.35L5.41 20z\"/>\n",
              "  </svg>\n",
              "      </button>\n",
              "      \n",
              "  <style>\n",
              "    .colab-df-container {\n",
              "      display:flex;\n",
              "      flex-wrap:wrap;\n",
              "      gap: 12px;\n",
              "    }\n",
              "\n",
              "    .colab-df-convert {\n",
              "      background-color: #E8F0FE;\n",
              "      border: none;\n",
              "      border-radius: 50%;\n",
              "      cursor: pointer;\n",
              "      display: none;\n",
              "      fill: #1967D2;\n",
              "      height: 32px;\n",
              "      padding: 0 0 0 0;\n",
              "      width: 32px;\n",
              "    }\n",
              "\n",
              "    .colab-df-convert:hover {\n",
              "      background-color: #E2EBFA;\n",
              "      box-shadow: 0px 1px 2px rgba(60, 64, 67, 0.3), 0px 1px 3px 1px rgba(60, 64, 67, 0.15);\n",
              "      fill: #174EA6;\n",
              "    }\n",
              "\n",
              "    [theme=dark] .colab-df-convert {\n",
              "      background-color: #3B4455;\n",
              "      fill: #D2E3FC;\n",
              "    }\n",
              "\n",
              "    [theme=dark] .colab-df-convert:hover {\n",
              "      background-color: #434B5C;\n",
              "      box-shadow: 0px 1px 3px 1px rgba(0, 0, 0, 0.15);\n",
              "      filter: drop-shadow(0px 1px 2px rgba(0, 0, 0, 0.3));\n",
              "      fill: #FFFFFF;\n",
              "    }\n",
              "  </style>\n",
              "\n",
              "      <script>\n",
              "        const buttonEl =\n",
              "          document.querySelector('#df-4125bff1-4ccb-41c0-b79b-13b096e83a1e button.colab-df-convert');\n",
              "        buttonEl.style.display =\n",
              "          google.colab.kernel.accessAllowed ? 'block' : 'none';\n",
              "\n",
              "        async function convertToInteractive(key) {\n",
              "          const element = document.querySelector('#df-4125bff1-4ccb-41c0-b79b-13b096e83a1e');\n",
              "          const dataTable =\n",
              "            await google.colab.kernel.invokeFunction('convertToInteractive',\n",
              "                                                     [key], {});\n",
              "          if (!dataTable) return;\n",
              "\n",
              "          const docLinkHtml = 'Like what you see? Visit the ' +\n",
              "            '<a target=\"_blank\" href=https://colab.research.google.com/notebooks/data_table.ipynb>data table notebook</a>'\n",
              "            + ' to learn more about interactive tables.';\n",
              "          element.innerHTML = '';\n",
              "          dataTable['output_type'] = 'display_data';\n",
              "          await google.colab.output.renderOutput(dataTable, element);\n",
              "          const docLink = document.createElement('div');\n",
              "          docLink.innerHTML = docLinkHtml;\n",
              "          element.appendChild(docLink);\n",
              "        }\n",
              "      </script>\n",
              "    </div>\n",
              "  </div>\n",
              "  "
            ]
          },
          "metadata": {},
          "execution_count": 103
        }
      ]
    },
    {
      "cell_type": "code",
      "source": [
        "notas_hipotese.shape"
      ],
      "metadata": {
        "colab": {
          "base_uri": "https://localhost:8080/"
        },
        "id": "jifzEqU6HlZM",
        "outputId": "72bad422-df6d-4218-ae9b-fedef2683604"
      },
      "execution_count": null,
      "outputs": [
        {
          "output_type": "execute_result",
          "data": {
            "text/plain": [
              "(10000, 2)"
            ]
          },
          "metadata": {},
          "execution_count": 104
        }
      ]
    },
    {
      "cell_type": "markdown",
      "source": [
        "Quantidade de notas matemáticas nulas:"
      ],
      "metadata": {
        "id": "dQiPfFeNV0jp"
      }
    },
    {
      "cell_type": "code",
      "source": [
        "print(notas_hipotese.isnull().sum())"
      ],
      "metadata": {
        "colab": {
          "base_uri": "https://localhost:8080/"
        },
        "id": "6P2RvYDyHfo_",
        "outputId": "3525922b-8636-48bf-86ef-f623b869dde4"
      },
      "execution_count": null,
      "outputs": [
        {
          "output_type": "stream",
          "name": "stdout",
          "text": [
            "situacao_de_conclusao       0\n",
            "matematica               2225\n",
            "dtype: int64\n"
          ]
        }
      ]
    },
    {
      "cell_type": "markdown",
      "source": [
        "Primeiro passo inputamos com o knn que é o que tem a melhor performance:"
      ],
      "metadata": {
        "id": "ErR5vmRqVxzZ"
      }
    },
    {
      "cell_type": "code",
      "source": [
        "imputer = KNNImputer(n_neighbors=3)\n",
        "notas_hipotese_imputacao_knn = imputer.fit_transform(notas_hipotese)\n",
        "notas_hipotese_imputacao_knn = pd.DataFrame(notas_hipotese_imputacao_knn, columns=['situacao_de_conclusao', 'matematica'])"
      ],
      "metadata": {
        "id": "CSBSRxm3BNdU"
      },
      "execution_count": null,
      "outputs": []
    },
    {
      "cell_type": "code",
      "source": [
        "notas_hipotese_imputacao_knn.head"
      ],
      "metadata": {
        "colab": {
          "base_uri": "https://localhost:8080/"
        },
        "id": "iAQD-e9HObti",
        "outputId": "3092e3d7-3fb1-45ce-bf57-7188b6622b3b"
      },
      "execution_count": null,
      "outputs": [
        {
          "output_type": "execute_result",
          "data": {
            "text/plain": [
              "<bound method NDFrame.head of       situacao_de_conclusao  matematica\n",
              "0                       1.0       589.3\n",
              "1                       1.0       461.5\n",
              "2                       1.0       589.3\n",
              "3                       2.0       659.5\n",
              "4                       2.0       582.6\n",
              "...                     ...         ...\n",
              "9995                    1.0       468.8\n",
              "9996                    1.0       412.5\n",
              "9997                    1.0       735.0\n",
              "9998                    3.0       523.4\n",
              "9999                    2.0       464.4\n",
              "\n",
              "[10000 rows x 2 columns]>"
            ]
          },
          "metadata": {},
          "execution_count": 107
        }
      ]
    },
    {
      "cell_type": "markdown",
      "source": [
        "Agora removemos os outliers"
      ],
      "metadata": {
        "id": "PTuJ1cAqVIYf"
      }
    },
    {
      "cell_type": "code",
      "source": [
        "print(f\"quantidade de participantes com notas zero: {len(notas_hipotese_imputacao_knn[notas_hipotese_imputacao_knn['matematica'] == 0.0])}\")\n",
        "notas_hipotese_sem_outliers = notas_hipotese_imputacao_knn[notas_hipotese_imputacao_knn['matematica'] > 0.0]\n",
        "print(f'total do nosso dataframe sem os participantes com nota zero: {len(notas_hipotese_sem_outliers)}')"
      ],
      "metadata": {
        "colab": {
          "base_uri": "https://localhost:8080/"
        },
        "id": "inYflKXmIbyI",
        "outputId": "4e7413a5-2697-4360-98f2-8de89fa800ee"
      },
      "execution_count": null,
      "outputs": [
        {
          "output_type": "stream",
          "name": "stdout",
          "text": [
            "quantidade de participantes com notas zero: 1\n",
            "total do nosso dataframe sem os participantes com nota zero: 9999\n"
          ]
        }
      ]
    },
    {
      "cell_type": "code",
      "source": [
        "notas_hipotese_outliers_zscore = notas_hipotese_sem_outliers[(stats.zscore(notas_hipotese_sem_outliers) > 2).all(axis=1)]\n",
        "notas_hipotese = notas_hipotese_sem_outliers.drop(notas_hipotese_outliers_zscore.index)\n",
        "print(f'total do nosso dataframe aplicado o zscore: {len(notas_hipotese)}')"
      ],
      "metadata": {
        "colab": {
          "base_uri": "https://localhost:8080/"
        },
        "id": "-vsUUoVVLF7I",
        "outputId": "97ad8b56-5035-4aa0-9037-aa4556a5ccbe"
      },
      "execution_count": null,
      "outputs": [
        {
          "output_type": "stream",
          "name": "stdout",
          "text": [
            "total do nosso dataframe aplicado o zscore: 9984\n"
          ]
        }
      ]
    },
    {
      "cell_type": "code",
      "source": [
        "notas_hipotese.head()"
      ],
      "metadata": {
        "colab": {
          "base_uri": "https://localhost:8080/",
          "height": 206
        },
        "id": "SIr8LLnpSJ3P",
        "outputId": "a5af5ca4-3a40-4acd-ae1d-e1aaf1b73e3d"
      },
      "execution_count": null,
      "outputs": [
        {
          "output_type": "execute_result",
          "data": {
            "text/plain": [
              "   situacao_de_conclusao  matematica\n",
              "0                    1.0       589.3\n",
              "1                    1.0       461.5\n",
              "2                    1.0       589.3\n",
              "3                    2.0       659.5\n",
              "4                    2.0       582.6"
            ],
            "text/html": [
              "\n",
              "  <div id=\"df-c5b56dc4-750e-468d-8605-37fd8bac4bed\">\n",
              "    <div class=\"colab-df-container\">\n",
              "      <div>\n",
              "<style scoped>\n",
              "    .dataframe tbody tr th:only-of-type {\n",
              "        vertical-align: middle;\n",
              "    }\n",
              "\n",
              "    .dataframe tbody tr th {\n",
              "        vertical-align: top;\n",
              "    }\n",
              "\n",
              "    .dataframe thead th {\n",
              "        text-align: right;\n",
              "    }\n",
              "</style>\n",
              "<table border=\"1\" class=\"dataframe\">\n",
              "  <thead>\n",
              "    <tr style=\"text-align: right;\">\n",
              "      <th></th>\n",
              "      <th>situacao_de_conclusao</th>\n",
              "      <th>matematica</th>\n",
              "    </tr>\n",
              "  </thead>\n",
              "  <tbody>\n",
              "    <tr>\n",
              "      <th>0</th>\n",
              "      <td>1.0</td>\n",
              "      <td>589.3</td>\n",
              "    </tr>\n",
              "    <tr>\n",
              "      <th>1</th>\n",
              "      <td>1.0</td>\n",
              "      <td>461.5</td>\n",
              "    </tr>\n",
              "    <tr>\n",
              "      <th>2</th>\n",
              "      <td>1.0</td>\n",
              "      <td>589.3</td>\n",
              "    </tr>\n",
              "    <tr>\n",
              "      <th>3</th>\n",
              "      <td>2.0</td>\n",
              "      <td>659.5</td>\n",
              "    </tr>\n",
              "    <tr>\n",
              "      <th>4</th>\n",
              "      <td>2.0</td>\n",
              "      <td>582.6</td>\n",
              "    </tr>\n",
              "  </tbody>\n",
              "</table>\n",
              "</div>\n",
              "      <button class=\"colab-df-convert\" onclick=\"convertToInteractive('df-c5b56dc4-750e-468d-8605-37fd8bac4bed')\"\n",
              "              title=\"Convert this dataframe to an interactive table.\"\n",
              "              style=\"display:none;\">\n",
              "        \n",
              "  <svg xmlns=\"http://www.w3.org/2000/svg\" height=\"24px\"viewBox=\"0 0 24 24\"\n",
              "       width=\"24px\">\n",
              "    <path d=\"M0 0h24v24H0V0z\" fill=\"none\"/>\n",
              "    <path d=\"M18.56 5.44l.94 2.06.94-2.06 2.06-.94-2.06-.94-.94-2.06-.94 2.06-2.06.94zm-11 1L8.5 8.5l.94-2.06 2.06-.94-2.06-.94L8.5 2.5l-.94 2.06-2.06.94zm10 10l.94 2.06.94-2.06 2.06-.94-2.06-.94-.94-2.06-.94 2.06-2.06.94z\"/><path d=\"M17.41 7.96l-1.37-1.37c-.4-.4-.92-.59-1.43-.59-.52 0-1.04.2-1.43.59L10.3 9.45l-7.72 7.72c-.78.78-.78 2.05 0 2.83L4 21.41c.39.39.9.59 1.41.59.51 0 1.02-.2 1.41-.59l7.78-7.78 2.81-2.81c.8-.78.8-2.07 0-2.86zM5.41 20L4 18.59l7.72-7.72 1.47 1.35L5.41 20z\"/>\n",
              "  </svg>\n",
              "      </button>\n",
              "      \n",
              "  <style>\n",
              "    .colab-df-container {\n",
              "      display:flex;\n",
              "      flex-wrap:wrap;\n",
              "      gap: 12px;\n",
              "    }\n",
              "\n",
              "    .colab-df-convert {\n",
              "      background-color: #E8F0FE;\n",
              "      border: none;\n",
              "      border-radius: 50%;\n",
              "      cursor: pointer;\n",
              "      display: none;\n",
              "      fill: #1967D2;\n",
              "      height: 32px;\n",
              "      padding: 0 0 0 0;\n",
              "      width: 32px;\n",
              "    }\n",
              "\n",
              "    .colab-df-convert:hover {\n",
              "      background-color: #E2EBFA;\n",
              "      box-shadow: 0px 1px 2px rgba(60, 64, 67, 0.3), 0px 1px 3px 1px rgba(60, 64, 67, 0.15);\n",
              "      fill: #174EA6;\n",
              "    }\n",
              "\n",
              "    [theme=dark] .colab-df-convert {\n",
              "      background-color: #3B4455;\n",
              "      fill: #D2E3FC;\n",
              "    }\n",
              "\n",
              "    [theme=dark] .colab-df-convert:hover {\n",
              "      background-color: #434B5C;\n",
              "      box-shadow: 0px 1px 3px 1px rgba(0, 0, 0, 0.15);\n",
              "      filter: drop-shadow(0px 1px 2px rgba(0, 0, 0, 0.3));\n",
              "      fill: #FFFFFF;\n",
              "    }\n",
              "  </style>\n",
              "\n",
              "      <script>\n",
              "        const buttonEl =\n",
              "          document.querySelector('#df-c5b56dc4-750e-468d-8605-37fd8bac4bed button.colab-df-convert');\n",
              "        buttonEl.style.display =\n",
              "          google.colab.kernel.accessAllowed ? 'block' : 'none';\n",
              "\n",
              "        async function convertToInteractive(key) {\n",
              "          const element = document.querySelector('#df-c5b56dc4-750e-468d-8605-37fd8bac4bed');\n",
              "          const dataTable =\n",
              "            await google.colab.kernel.invokeFunction('convertToInteractive',\n",
              "                                                     [key], {});\n",
              "          if (!dataTable) return;\n",
              "\n",
              "          const docLinkHtml = 'Like what you see? Visit the ' +\n",
              "            '<a target=\"_blank\" href=https://colab.research.google.com/notebooks/data_table.ipynb>data table notebook</a>'\n",
              "            + ' to learn more about interactive tables.';\n",
              "          element.innerHTML = '';\n",
              "          dataTable['output_type'] = 'display_data';\n",
              "          await google.colab.output.renderOutput(dataTable, element);\n",
              "          const docLink = document.createElement('div');\n",
              "          docLink.innerHTML = docLinkHtml;\n",
              "          element.appendChild(docLink);\n",
              "        }\n",
              "      </script>\n",
              "    </div>\n",
              "  </div>\n",
              "  "
            ]
          },
          "metadata": {},
          "execution_count": 110
        }
      ]
    },
    {
      "cell_type": "code",
      "source": [
        "# pegamos apenas os participantes cujo a situação é \"já conclui o ensino médio\"\n",
        "concluiu_matematica_2021 = notas_hipotese[notas_hipotese['situacao_de_conclusao'] == 1.0]['matematica']\n",
        "concluiu_matematica_2021.plot(kind='hist')"
      ],
      "metadata": {
        "colab": {
          "base_uri": "https://localhost:8080/",
          "height": 285
        },
        "id": "Frru4Ay-Mifd",
        "outputId": "a94c4458-e646-4fb0-c6a6-1d56cc7e05de"
      },
      "execution_count": null,
      "outputs": [
        {
          "output_type": "execute_result",
          "data": {
            "text/plain": [
              "<matplotlib.axes._subplots.AxesSubplot at 0x7ff87b7fedd0>"
            ]
          },
          "metadata": {},
          "execution_count": 111
        },
        {
          "output_type": "display_data",
          "data": {
            "text/plain": [
              "<Figure size 432x288 with 1 Axes>"
            ],
            "image/png": "[encoded data removed]"
          },
          "metadata": {
            "needs_background": "light"
          }
        }
      ]
    },
    {
      "cell_type": "markdown",
      "source": [
        "Através do histograma vemos que ele tende a se apróximar de uma distribuição normal."
      ],
      "metadata": {
        "id": "QdSbAeKvVE4R"
      }
    },
    {
      "cell_type": "markdown",
      "source": [
        "Aqui fazemos o primeiro teste de hipótese. A **hipótese nula** é que o as notas de matemáticas de quem já concluiu o ensino médio se aproxima de uma distribuição normal, já a **hipótese alternativa** é que não se aproxima de uma distribuição normal.\n",
        "\n",
        "Se o resultado é superior à 0.05 então podemos rejeitar a hipótese nula, nesse caso, se aproxima de uma distribuição normal."
      ],
      "metadata": {
        "id": "6fsDbQyQUZNw"
      }
    },
    {
      "cell_type": "code",
      "source": [
        "stats.shapiro(concluiu_matematica_2021)"
      ],
      "metadata": {
        "colab": {
          "base_uri": "https://localhost:8080/"
        },
        "id": "eBopx07aNoX9",
        "outputId": "4bfa796c-df2b-4902-a2b4-0e1753e80877"
      },
      "execution_count": null,
      "outputs": [
        {
          "output_type": "execute_result",
          "data": {
            "text/plain": [
              "ShapiroResult(statistic=0.9499668478965759, pvalue=8.187379989975866e-38)"
            ]
          },
          "metadata": {},
          "execution_count": 112
        }
      ]
    },
    {
      "cell_type": "markdown",
      "source": [
        "Faremos a mesma coisa para os próximos tipos de situação"
      ],
      "metadata": {
        "id": "lwj_XBlOzy0h"
      }
    },
    {
      "cell_type": "code",
      "source": [
        "# pegamos apenas os participantes cujo a situação é \"estou cursando e concluirei em 2021\"\n",
        "ira_concluir_matematica_2021 = notas_hipotese[notas_hipotese['situacao_de_conclusao'] == 2.0]['matematica']\n",
        "ira_concluir_matematica_2021.plot(kind='hist')"
      ],
      "metadata": {
        "colab": {
          "base_uri": "https://localhost:8080/",
          "height": 283
        },
        "id": "yCdFiYdSNcO8",
        "outputId": "8120252e-86a3-4548-f890-60c4fc961ad7"
      },
      "execution_count": null,
      "outputs": [
        {
          "output_type": "execute_result",
          "data": {
            "text/plain": [
              "<matplotlib.axes._subplots.AxesSubplot at 0x7ff883e47a10>"
            ]
          },
          "metadata": {},
          "execution_count": 113
        },
        {
          "output_type": "display_data",
          "data": {
            "text/plain": [
              "<Figure size 432x288 with 1 Axes>"
            ],
            "image/png": "[encoded data removed]"
          },
          "metadata": {
            "needs_background": "light"
          }
        }
      ]
    },
    {
      "cell_type": "code",
      "source": [
        "stats.shapiro(ira_concluir_matematica_2021)"
      ],
      "metadata": {
        "colab": {
          "base_uri": "https://localhost:8080/"
        },
        "id": "Tf4c4u6KNtAv",
        "outputId": "93327d15-7d9e-42c1-b123-ac2be7b93904"
      },
      "execution_count": null,
      "outputs": [
        {
          "output_type": "execute_result",
          "data": {
            "text/plain": [
              "ShapiroResult(statistic=0.9636797904968262, pvalue=1.5845448733618235e-31)"
            ]
          },
          "metadata": {},
          "execution_count": 114
        }
      ]
    },
    {
      "cell_type": "markdown",
      "source": [
        "Como pode ver, se aproxima de uma normal"
      ],
      "metadata": {
        "id": "kw00T8tVU0NV"
      }
    },
    {
      "cell_type": "code",
      "source": [
        "# pegamos apenas os participantes cujo a situação é \"estou cursando e concluirei após 2021\"\n",
        "ira_concluir_matematica_pos_2021 = notas_hipotese[notas_hipotese['situacao_de_conclusao'] == 3.0]['matematica']\n",
        "ira_concluir_matematica_pos_2021.plot(kind='hist')"
      ],
      "metadata": {
        "colab": {
          "base_uri": "https://localhost:8080/",
          "height": 283
        },
        "id": "lQbO49_KdLRV",
        "outputId": "e88311ca-b29b-4faa-898e-c77dcb91e393"
      },
      "execution_count": null,
      "outputs": [
        {
          "output_type": "execute_result",
          "data": {
            "text/plain": [
              "<matplotlib.axes._subplots.AxesSubplot at 0x7ff87b8e8610>"
            ]
          },
          "metadata": {},
          "execution_count": 115
        },
        {
          "output_type": "display_data",
          "data": {
            "text/plain": [
              "<Figure size 432x288 with 1 Axes>"
            ],
            "image/png": "[encoded data removed]"
          },
          "metadata": {
            "needs_background": "light"
          }
        }
      ]
    },
    {
      "cell_type": "code",
      "source": [
        "stats.shapiro(ira_concluir_matematica_pos_2021)"
      ],
      "metadata": {
        "colab": {
          "base_uri": "https://localhost:8080/"
        },
        "id": "pMJe01V9dK9d",
        "outputId": "1d46bd5a-7b96-4090-b448-dc38945696d0"
      },
      "execution_count": null,
      "outputs": [
        {
          "output_type": "execute_result",
          "data": {
            "text/plain": [
              "ShapiroResult(statistic=0.9628955721855164, pvalue=1.3413600200191944e-13)"
            ]
          },
          "metadata": {},
          "execution_count": 116
        }
      ]
    },
    {
      "cell_type": "markdown",
      "source": [
        "Como pode ver, novamente, se aproxima de uma normal"
      ],
      "metadata": {
        "id": "vAfutZ8VU5r5"
      }
    },
    {
      "cell_type": "code",
      "source": [
        "# pegamos apenas os participantes cujo a situação é \"não concluí e não estou cursando o ensino médio\"\n",
        "nao_cursa_em_matematica = notas_hipotese[notas_hipotese['situacao_de_conclusao'] == 4.0]['matematica']\n",
        "nao_cursa_em_matematica.plot(kind='hist')"
      ],
      "metadata": {
        "colab": {
          "base_uri": "https://localhost:8080/",
          "height": 283
        },
        "id": "NctdLHMQdO-x",
        "outputId": "dad9c941-fefe-4e56-e9a6-57e5dc2fccaf"
      },
      "execution_count": null,
      "outputs": [
        {
          "output_type": "execute_result",
          "data": {
            "text/plain": [
              "<matplotlib.axes._subplots.AxesSubplot at 0x7ff87bc13c90>"
            ]
          },
          "metadata": {},
          "execution_count": 117
        },
        {
          "output_type": "display_data",
          "data": {
            "text/plain": [
              "<Figure size 432x288 with 1 Axes>"
            ],
            "image/png": "[encoded data removed]"
          },
          "metadata": {
            "needs_background": "light"
          }
        }
      ]
    },
    {
      "cell_type": "code",
      "source": [
        "stats.shapiro(nao_cursa_em_matematica)"
      ],
      "metadata": {
        "colab": {
          "base_uri": "https://localhost:8080/"
        },
        "id": "RkPAMC0PdO3N",
        "outputId": "69c8b22c-5872-4f1c-c203-c526ecc24515"
      },
      "execution_count": null,
      "outputs": [
        {
          "output_type": "execute_result",
          "data": {
            "text/plain": [
              "ShapiroResult(statistic=0.9320076107978821, pvalue=0.10810405761003494)"
            ]
          },
          "metadata": {},
          "execution_count": 118
        }
      ]
    },
    {
      "cell_type": "markdown",
      "source": [
        "Se aproxima também de uma normal"
      ],
      "metadata": {
        "id": "jZZAjEJ6U87m"
      }
    },
    {
      "cell_type": "markdown",
      "source": [
        "Sabemos que todos os testes de hipóteses anteriores mostraram que a distribuição segue a distribuição normal e por se tratarem de grupos diferentes poderemos utilizar agora o teste de hipótese ttest."
      ],
      "metadata": {
        "id": "SCtZkRqL0f6K"
      }
    },
    {
      "cell_type": "markdown",
      "source": [
        "A hipótese nula é que nota de matemática de quem já concluiu o ensino médio é igual as notas de matemática de quem vai concluir em 2021 e a hipótese alternativa é que seja diferente."
      ],
      "metadata": {
        "id": "VQxc5ZWvVUvp"
      }
    },
    {
      "cell_type": "code",
      "source": [
        "stats.ttest_ind(concluiu_matematica_2021, ira_concluir_matematica_2021)"
      ],
      "metadata": {
        "colab": {
          "base_uri": "https://localhost:8080/"
        },
        "id": "S1uESqAuSnN0",
        "outputId": "b345d0dc-47f7-41b0-b2c0-807582cb7b1c"
      },
      "execution_count": null,
      "outputs": [
        {
          "output_type": "execute_result",
          "data": {
            "text/plain": [
              "Ttest_indResult(statistic=12.558131499185762, pvalue=7.090723088702822e-36)"
            ]
          },
          "metadata": {},
          "execution_count": 119
        }
      ]
    },
    {
      "cell_type": "markdown",
      "source": [
        "Nessa amostra podemos concluir que a hipótese nula é verdadeira."
      ],
      "metadata": {
        "id": "X_2OS_KxVZnC"
      }
    },
    {
      "cell_type": "code",
      "source": [
        "sns.boxplot(data=[concluiu_matematica_2021, ira_concluir_matematica_2021])"
      ],
      "metadata": {
        "colab": {
          "base_uri": "https://localhost:8080/",
          "height": 283
        },
        "id": "zzfHlk7oTjG9",
        "outputId": "e5bb351f-821d-4804-f4b7-a4daa9d901a7"
      },
      "execution_count": null,
      "outputs": [
        {
          "output_type": "execute_result",
          "data": {
            "text/plain": [
              "<matplotlib.axes._subplots.AxesSubplot at 0x7ff87bade550>"
            ]
          },
          "metadata": {},
          "execution_count": 120
        },
        {
          "output_type": "display_data",
          "data": {
            "text/plain": [
              "<Figure size 432x288 with 1 Axes>"
            ],
            "image/png": "[encoded data removed]"
          },
          "metadata": {
            "needs_background": "light"
          }
        }
      ]
    },
    {
      "cell_type": "markdown",
      "source": [
        "A hipótese nula é que nota de matemática de quem já concluiu o ensino médio é igual as notas de matemática de quem vai concluir após 2021 e a hipótese alternativa é que seja diferente."
      ],
      "metadata": {
        "id": "-Mp4iJp2Vctz"
      }
    },
    {
      "cell_type": "code",
      "source": [
        "stats.ttest_ind(concluiu_matematica_2021, ira_concluir_matematica_pos_2021)"
      ],
      "metadata": {
        "colab": {
          "base_uri": "https://localhost:8080/"
        },
        "id": "Ly0d-S0OeICj",
        "outputId": "b989fac0-8558-4773-e941-e5cd829a4206"
      },
      "execution_count": null,
      "outputs": [
        {
          "output_type": "execute_result",
          "data": {
            "text/plain": [
              "Ttest_indResult(statistic=7.422865855535903, pvalue=1.3153290312613213e-13)"
            ]
          },
          "metadata": {},
          "execution_count": 121
        }
      ]
    },
    {
      "cell_type": "markdown",
      "source": [
        "Nessa amostra podemos concluir que a hipótese nula é verdadeira."
      ],
      "metadata": {
        "id": "gFg3roKzVfqO"
      }
    },
    {
      "cell_type": "code",
      "source": [
        "sns.boxplot(data=[concluiu_matematica_2021, ira_concluir_matematica_pos_2021])"
      ],
      "metadata": {
        "colab": {
          "base_uri": "https://localhost:8080/",
          "height": 283
        },
        "id": "JCwLLbT0eUuU",
        "outputId": "3c597492-6048-47fa-ce50-32ba1c6921de"
      },
      "execution_count": null,
      "outputs": [
        {
          "output_type": "execute_result",
          "data": {
            "text/plain": [
              "<matplotlib.axes._subplots.AxesSubplot at 0x7ff8822fc510>"
            ]
          },
          "metadata": {},
          "execution_count": 122
        },
        {
          "output_type": "display_data",
          "data": {
            "text/plain": [
              "<Figure size 432x288 with 1 Axes>"
            ],
            "image/png": "[encoded data removed]"
          },
          "metadata": {
            "needs_background": "light"
          }
        }
      ]
    },
    {
      "cell_type": "markdown",
      "source": [
        "A hipótese nula é que nota de matemática de quem já concluiu o ensino médio é igual as notas de matemática de quem concluiu e não cursa o ensino médio 2021 e a hipótese alternativa é que seja diferente."
      ],
      "metadata": {
        "id": "Zx8cisAYVlqZ"
      }
    },
    {
      "cell_type": "code",
      "source": [
        "stats.ttest_ind(concluiu_matematica_2021, nao_cursa_em_matematica)"
      ],
      "metadata": {
        "colab": {
          "base_uri": "https://localhost:8080/"
        },
        "id": "97FfK6nceIdx",
        "outputId": "a78554e6-09b2-4368-d247-381bbb51dd2c"
      },
      "execution_count": null,
      "outputs": [
        {
          "output_type": "execute_result",
          "data": {
            "text/plain": [
              "Ttest_indResult(statistic=3.1405544652235946, pvalue=0.001696372677140016)"
            ]
          },
          "metadata": {},
          "execution_count": 123
        }
      ]
    },
    {
      "cell_type": "markdown",
      "source": [
        "Nessa amostra podemos concluir que a hipótese nula é rejeitada."
      ],
      "metadata": {
        "id": "zq4e7rfhVpnb"
      }
    },
    {
      "cell_type": "code",
      "source": [
        "sns.boxplot(data=[concluiu_matematica_2021, nao_cursa_em_matematica])"
      ],
      "metadata": {
        "colab": {
          "base_uri": "https://localhost:8080/",
          "height": 283
        },
        "id": "XSeHowSzU-zd",
        "outputId": "ea2bc1cd-9731-4897-9668-e6f64a59593a"
      },
      "execution_count": null,
      "outputs": [
        {
          "output_type": "execute_result",
          "data": {
            "text/plain": [
              "<matplotlib.axes._subplots.AxesSubplot at 0x7ff87bc3aed0>"
            ]
          },
          "metadata": {},
          "execution_count": 124
        },
        {
          "output_type": "display_data",
          "data": {
            "text/plain": [
              "<Figure size 432x288 with 1 Axes>"
            ],
            "image/png": "[encoded data removed]"
          },
          "metadata": {
            "needs_background": "light"
          }
        }
      ]
    }
  ]
}