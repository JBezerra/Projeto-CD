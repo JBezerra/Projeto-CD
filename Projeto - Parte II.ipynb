{
  "cells": [
    {
      "cell_type": "markdown",
      "metadata": {
        "id": "DRXs7uY88Wsx"
      },
      "source": [
        "![](https://upload.wikimedia.org/wikipedia/pt/8/80/Enem_logo.png)\n",
        "# Projeto Tópicos Avançados em GDI - ENEM 2021\n",
        "Neste projeto, desenvolvemos modelos de regressão de dados utilizando a base de dados do [ENEM 2021](https://www.gov.br/inep/pt-br/acesso-a-informacao/dados-abertos/microdados/enem)."
      ]
    },
    {
      "cell_type": "code",
      "source": [
        "# from google.colab import drive\n",
        "# drive.mount('/content/drive')\n",
        "f = open(\"./sample_data/README.md\", \"r\")\n",
        "print(f.read())"
      ],
      "metadata": {
        "colab": {
          "base_uri": "https://localhost:8080/"
        },
        "id": "koAOhhmWXZ1r",
        "outputId": "79cfb434-f259-49cf-e39f-46214abf9b7e"
      },
      "execution_count": null,
      "outputs": [
        {
          "output_type": "stream",
          "name": "stdout",
          "text": [
            "This directory includes a few sample datasets to get you started.\n",
            "\n",
            "*   `california_housing_data*.csv` is California housing data from the 1990 US\n",
            "    Census; more information is available at:\n",
            "    https://developers.google.com/machine-learning/crash-course/california-housing-data-description\n",
            "\n",
            "*   `mnist_*.csv` is a small sample of the\n",
            "    [MNIST database](https://en.wikipedia.org/wiki/MNIST_database), which is\n",
            "    described at: http://yann.lecun.com/exdb/mnist/\n",
            "\n",
            "*   `anscombe.json` contains a copy of\n",
            "    [Anscombe's quartet](https://en.wikipedia.org/wiki/Anscombe%27s_quartet); it\n",
            "    was originally described in\n",
            "\n",
            "    Anscombe, F. J. (1973). 'Graphs in Statistical Analysis'. American\n",
            "    Statistician. 27 (1): 17-21. JSTOR 2682899.\n",
            "\n",
            "    and our copy was prepared by the\n",
            "    [vega_datasets library](https://github.com/altair-viz/vega_datasets/blob/4f67bdaad10f45e3549984e17e1b3088c731503d/vega_datasets/_data/anscombe.json).\n",
            "\n"
          ]
        }
      ]
    },
    {
      "cell_type": "markdown",
      "metadata": {
        "id": "x4NqoXOhtMv8"
      },
      "source": [
        "## Instalação de ferramentas\n",
        "Nesta seção, instalamos todas as dependências necessárias para o funcionamento de nossa regress˜åo.\n"
      ]
    },
    {
      "cell_type": "code",
      "execution_count": null,
      "metadata": {
        "colab": {
          "base_uri": "https://localhost:8080/"
        },
        "id": "IBP-7xnrGP4z",
        "outputId": "2b768523-a83b-4d79-b874-d208fd20284d"
      },
      "outputs": [
        {
          "output_type": "stream",
          "name": "stdout",
          "text": [
            "Looking in indexes: https://pypi.org/simple, https://us-python.pkg.dev/colab-wheels/public/simple/\n",
            "Requirement already satisfied: mlflow in /usr/local/lib/python3.7/dist-packages (1.29.0)\n",
            "Requirement already satisfied: gunicorn<21 in /usr/local/lib/python3.7/dist-packages (from mlflow) (20.1.0)\n",
            "Requirement already satisfied: click<9,>=7.0 in /usr/local/lib/python3.7/dist-packages (from mlflow) (7.1.2)\n",
            "Requirement already satisfied: protobuf<5,>=3.12.0 in /usr/local/lib/python3.7/dist-packages (from mlflow) (3.17.3)\n",
            "Requirement already satisfied: Flask<3 in /usr/local/lib/python3.7/dist-packages (from mlflow) (1.1.4)\n",
            "Requirement already satisfied: pyyaml<7,>=5.1 in /usr/local/lib/python3.7/dist-packages (from mlflow) (6.0)\n",
            "Requirement already satisfied: requests<3,>=2.17.3 in /usr/local/lib/python3.7/dist-packages (from mlflow) (2.28.1)\n",
            "Requirement already satisfied: sqlparse<1,>=0.4.0 in /usr/local/lib/python3.7/dist-packages (from mlflow) (0.4.2)\n",
            "Requirement already satisfied: cloudpickle<3 in /usr/local/lib/python3.7/dist-packages (from mlflow) (1.5.0)\n",
            "Requirement already satisfied: docker<7,>=4.0.0 in /usr/local/lib/python3.7/dist-packages (from mlflow) (6.0.0)\n",
            "Requirement already satisfied: querystring-parser<2 in /usr/local/lib/python3.7/dist-packages (from mlflow) (1.2.4)\n",
            "Requirement already satisfied: sqlalchemy<2,>=1.4.0 in /usr/local/lib/python3.7/dist-packages (from mlflow) (1.4.41)\n",
            "Requirement already satisfied: alembic<2 in /usr/local/lib/python3.7/dist-packages (from mlflow) (1.8.1)\n",
            "Requirement already satisfied: prometheus-flask-exporter<1 in /usr/local/lib/python3.7/dist-packages (from mlflow) (0.20.3)\n",
            "Requirement already satisfied: importlib-metadata!=4.7.0,<5,>=3.7.0 in /usr/local/lib/python3.7/dist-packages (from mlflow) (4.12.0)\n",
            "Requirement already satisfied: gitpython<4,>=2.1.0 in /usr/local/lib/python3.7/dist-packages (from mlflow) (3.1.27)\n",
            "Requirement already satisfied: scipy<2 in /usr/local/lib/python3.7/dist-packages (from mlflow) (1.7.3)\n",
            "Requirement already satisfied: numpy<2 in /usr/local/lib/python3.7/dist-packages (from mlflow) (1.21.6)\n",
            "Requirement already satisfied: packaging<22 in /usr/local/lib/python3.7/dist-packages (from mlflow) (21.3)\n",
            "Requirement already satisfied: pandas<2 in /usr/local/lib/python3.7/dist-packages (from mlflow) (1.3.5)\n",
            "Requirement already satisfied: databricks-cli<1,>=0.8.7 in /usr/local/lib/python3.7/dist-packages (from mlflow) (0.17.3)\n",
            "Requirement already satisfied: pytz<2023 in /usr/local/lib/python3.7/dist-packages (from mlflow) (2022.2.1)\n",
            "Requirement already satisfied: entrypoints<1 in /usr/local/lib/python3.7/dist-packages (from mlflow) (0.4)\n",
            "Requirement already satisfied: Mako in /usr/local/lib/python3.7/dist-packages (from alembic<2->mlflow) (1.2.3)\n",
            "Requirement already satisfied: importlib-resources in /usr/local/lib/python3.7/dist-packages (from alembic<2->mlflow) (5.9.0)\n",
            "Requirement already satisfied: pyjwt>=1.7.0 in /usr/local/lib/python3.7/dist-packages (from databricks-cli<1,>=0.8.7->mlflow) (2.5.0)\n",
            "Requirement already satisfied: oauthlib>=3.1.0 in /usr/local/lib/python3.7/dist-packages (from databricks-cli<1,>=0.8.7->mlflow) (3.2.0)\n",
            "Requirement already satisfied: tabulate>=0.7.7 in /usr/local/lib/python3.7/dist-packages (from databricks-cli<1,>=0.8.7->mlflow) (0.8.10)\n",
            "Requirement already satisfied: six>=1.10.0 in /usr/local/lib/python3.7/dist-packages (from databricks-cli<1,>=0.8.7->mlflow) (1.15.0)\n",
            "Requirement already satisfied: websocket-client>=0.32.0 in /usr/local/lib/python3.7/dist-packages (from docker<7,>=4.0.0->mlflow) (1.4.1)\n",
            "Requirement already satisfied: urllib3>=1.26.0 in /usr/local/lib/python3.7/dist-packages (from docker<7,>=4.0.0->mlflow) (1.26.12)\n",
            "Requirement already satisfied: itsdangerous<2.0,>=0.24 in /usr/local/lib/python3.7/dist-packages (from Flask<3->mlflow) (1.1.0)\n",
            "Requirement already satisfied: Werkzeug<2.0,>=0.15 in /usr/local/lib/python3.7/dist-packages (from Flask<3->mlflow) (1.0.1)\n",
            "Requirement already satisfied: Jinja2<3.0,>=2.10.1 in /usr/local/lib/python3.7/dist-packages (from Flask<3->mlflow) (2.11.3)\n",
            "Requirement already satisfied: gitdb<5,>=4.0.1 in /usr/local/lib/python3.7/dist-packages (from gitpython<4,>=2.1.0->mlflow) (4.0.9)\n",
            "Requirement already satisfied: typing-extensions>=3.7.4.3 in /usr/local/lib/python3.7/dist-packages (from gitpython<4,>=2.1.0->mlflow) (4.1.1)\n",
            "Requirement already satisfied: smmap<6,>=3.0.1 in /usr/local/lib/python3.7/dist-packages (from gitdb<5,>=4.0.1->gitpython<4,>=2.1.0->mlflow) (5.0.0)\n",
            "Requirement already satisfied: setuptools>=3.0 in /usr/local/lib/python3.7/dist-packages (from gunicorn<21->mlflow) (57.4.0)\n",
            "Requirement already satisfied: zipp>=0.5 in /usr/local/lib/python3.7/dist-packages (from importlib-metadata!=4.7.0,<5,>=3.7.0->mlflow) (3.8.1)\n",
            "Requirement already satisfied: MarkupSafe>=0.23 in /usr/local/lib/python3.7/dist-packages (from Jinja2<3.0,>=2.10.1->Flask<3->mlflow) (2.0.1)\n",
            "Requirement already satisfied: pyparsing!=3.0.5,>=2.0.2 in /usr/local/lib/python3.7/dist-packages (from packaging<22->mlflow) (3.0.9)\n",
            "Requirement already satisfied: python-dateutil>=2.7.3 in /usr/local/lib/python3.7/dist-packages (from pandas<2->mlflow) (2.8.2)\n",
            "Requirement already satisfied: prometheus-client in /usr/local/lib/python3.7/dist-packages (from prometheus-flask-exporter<1->mlflow) (0.14.1)\n",
            "Requirement already satisfied: idna<4,>=2.5 in /usr/local/lib/python3.7/dist-packages (from requests<3,>=2.17.3->mlflow) (2.10)\n",
            "Requirement already satisfied: certifi>=2017.4.17 in /usr/local/lib/python3.7/dist-packages (from requests<3,>=2.17.3->mlflow) (2022.6.15)\n",
            "Requirement already satisfied: charset-normalizer<3,>=2 in /usr/local/lib/python3.7/dist-packages (from requests<3,>=2.17.3->mlflow) (2.1.1)\n",
            "Requirement already satisfied: greenlet!=0.4.17 in /usr/local/lib/python3.7/dist-packages (from sqlalchemy<2,>=1.4.0->mlflow) (1.1.3)\n",
            "Looking in indexes: https://pypi.org/simple, https://us-python.pkg.dev/colab-wheels/public/simple/\n",
            "Requirement already satisfied: optuna in /usr/local/lib/python3.7/dist-packages (3.0.2)\n",
            "Requirement already satisfied: tqdm in /usr/local/lib/python3.7/dist-packages (from optuna) (4.64.1)\n",
            "Requirement already satisfied: packaging>=20.0 in /usr/local/lib/python3.7/dist-packages (from optuna) (21.3)\n",
            "Requirement already satisfied: scipy<1.9.0,>=1.7.0 in /usr/local/lib/python3.7/dist-packages (from optuna) (1.7.3)\n",
            "Requirement already satisfied: cmaes>=0.8.2 in /usr/local/lib/python3.7/dist-packages (from optuna) (0.8.2)\n",
            "Requirement already satisfied: sqlalchemy>=1.3.0 in /usr/local/lib/python3.7/dist-packages (from optuna) (1.4.41)\n",
            "Requirement already satisfied: PyYAML in /usr/local/lib/python3.7/dist-packages (from optuna) (6.0)\n",
            "Requirement already satisfied: colorlog in /usr/local/lib/python3.7/dist-packages (from optuna) (6.7.0)\n",
            "Requirement already satisfied: alembic>=1.5.0 in /usr/local/lib/python3.7/dist-packages (from optuna) (1.8.1)\n",
            "Requirement already satisfied: numpy in /usr/local/lib/python3.7/dist-packages (from optuna) (1.21.6)\n",
            "Requirement already satisfied: cliff in /usr/local/lib/python3.7/dist-packages (from optuna) (3.10.1)\n",
            "Requirement already satisfied: importlib-metadata in /usr/local/lib/python3.7/dist-packages (from alembic>=1.5.0->optuna) (4.12.0)\n",
            "Requirement already satisfied: importlib-resources in /usr/local/lib/python3.7/dist-packages (from alembic>=1.5.0->optuna) (5.9.0)\n",
            "Requirement already satisfied: Mako in /usr/local/lib/python3.7/dist-packages (from alembic>=1.5.0->optuna) (1.2.3)\n",
            "Requirement already satisfied: pyparsing!=3.0.5,>=2.0.2 in /usr/local/lib/python3.7/dist-packages (from packaging>=20.0->optuna) (3.0.9)\n",
            "Requirement already satisfied: greenlet!=0.4.17 in /usr/local/lib/python3.7/dist-packages (from sqlalchemy>=1.3.0->optuna) (1.1.3)\n",
            "Requirement already satisfied: stevedore>=2.0.1 in /usr/local/lib/python3.7/dist-packages (from cliff->optuna) (3.5.0)\n",
            "Requirement already satisfied: cmd2>=1.0.0 in /usr/local/lib/python3.7/dist-packages (from cliff->optuna) (2.4.2)\n",
            "Requirement already satisfied: autopage>=0.4.0 in /usr/local/lib/python3.7/dist-packages (from cliff->optuna) (0.5.1)\n",
            "Requirement already satisfied: pbr!=2.1.0,>=2.0.0 in /usr/local/lib/python3.7/dist-packages (from cliff->optuna) (5.10.0)\n",
            "Requirement already satisfied: PrettyTable>=0.7.2 in /usr/local/lib/python3.7/dist-packages (from cliff->optuna) (3.4.1)\n",
            "Requirement already satisfied: typing-extensions in /usr/local/lib/python3.7/dist-packages (from cmd2>=1.0.0->cliff->optuna) (4.1.1)\n",
            "Requirement already satisfied: pyperclip>=1.6 in /usr/local/lib/python3.7/dist-packages (from cmd2>=1.0.0->cliff->optuna) (1.8.2)\n",
            "Requirement already satisfied: wcwidth>=0.1.7 in /usr/local/lib/python3.7/dist-packages (from cmd2>=1.0.0->cliff->optuna) (0.2.5)\n",
            "Requirement already satisfied: attrs>=16.3.0 in /usr/local/lib/python3.7/dist-packages (from cmd2>=1.0.0->cliff->optuna) (22.1.0)\n",
            "Requirement already satisfied: zipp>=0.5 in /usr/local/lib/python3.7/dist-packages (from importlib-metadata->alembic>=1.5.0->optuna) (3.8.1)\n",
            "Requirement already satisfied: MarkupSafe>=0.9.2 in /usr/local/lib/python3.7/dist-packages (from Mako->alembic>=1.5.0->optuna) (2.0.1)\n",
            "Looking in indexes: https://pypi.org/simple, https://us-python.pkg.dev/colab-wheels/public/simple/\n",
            "Requirement already satisfied: sklearn in /usr/local/lib/python3.7/dist-packages (0.0)\n",
            "Requirement already satisfied: scikit-learn in /usr/local/lib/python3.7/dist-packages (from sklearn) (0.24.2)\n",
            "Requirement already satisfied: numpy>=1.13.3 in /usr/local/lib/python3.7/dist-packages (from scikit-learn->sklearn) (1.21.6)\n",
            "Requirement already satisfied: threadpoolctl>=2.0.0 in /usr/local/lib/python3.7/dist-packages (from scikit-learn->sklearn) (3.1.0)\n",
            "Requirement already satisfied: joblib>=0.11 in /usr/local/lib/python3.7/dist-packages (from scikit-learn->sklearn) (1.1.0)\n",
            "Requirement already satisfied: scipy>=0.19.1 in /usr/local/lib/python3.7/dist-packages (from scikit-learn->sklearn) (1.7.3)\n",
            "Looking in indexes: https://pypi.org/simple, https://us-python.pkg.dev/colab-wheels/public/simple/\n",
            "Requirement already satisfied: auto-sklearn in /usr/local/lib/python3.7/dist-packages (0.15.0)\n",
            "Requirement already satisfied: scikit-learn<0.25.0,>=0.24.0 in /usr/local/lib/python3.7/dist-packages (from auto-sklearn) (0.24.2)\n",
            "Requirement already satisfied: scipy>=1.7.0 in /usr/local/lib/python3.7/dist-packages (from auto-sklearn) (1.7.3)\n",
            "Requirement already satisfied: pandas>=1.0 in /usr/local/lib/python3.7/dist-packages (from auto-sklearn) (1.3.5)\n",
            "Requirement already satisfied: pynisher<0.7,>=0.6.3 in /usr/local/lib/python3.7/dist-packages (from auto-sklearn) (0.6.4)\n",
            "Requirement already satisfied: pyrfr<0.9,>=0.8.1 in /usr/local/lib/python3.7/dist-packages (from auto-sklearn) (0.8.3)\n",
            "Requirement already satisfied: ConfigSpace<0.5,>=0.4.21 in /usr/local/lib/python3.7/dist-packages (from auto-sklearn) (0.4.21)\n",
            "Requirement already satisfied: threadpoolctl in /usr/local/lib/python3.7/dist-packages (from auto-sklearn) (3.1.0)\n",
            "Requirement already satisfied: numpy>=1.9.0 in /usr/local/lib/python3.7/dist-packages (from auto-sklearn) (1.21.6)\n",
            "Requirement already satisfied: pyyaml in /usr/local/lib/python3.7/dist-packages (from auto-sklearn) (6.0)\n",
            "Requirement already satisfied: joblib in /usr/local/lib/python3.7/dist-packages (from auto-sklearn) (1.1.0)\n",
            "Requirement already satisfied: dask>=2021.12 in /usr/local/lib/python3.7/dist-packages (from auto-sklearn) (2022.2.0)\n",
            "Requirement already satisfied: smac<1.3,>=1.2 in /usr/local/lib/python3.7/dist-packages (from auto-sklearn) (1.2)\n",
            "Requirement already satisfied: distro in /usr/local/lib/python3.7/dist-packages (from auto-sklearn) (1.7.0)\n",
            "Requirement already satisfied: liac-arff in /usr/local/lib/python3.7/dist-packages (from auto-sklearn) (2.5.0)\n",
            "Requirement already satisfied: setuptools in /usr/local/lib/python3.7/dist-packages (from auto-sklearn) (57.4.0)\n",
            "Requirement already satisfied: typing-extensions in /usr/local/lib/python3.7/dist-packages (from auto-sklearn) (4.1.1)\n",
            "Requirement already satisfied: distributed>=2012.12 in /usr/local/lib/python3.7/dist-packages (from auto-sklearn) (2022.2.0)\n",
            "Requirement already satisfied: pyparsing in /usr/local/lib/python3.7/dist-packages (from ConfigSpace<0.5,>=0.4.21->auto-sklearn) (3.0.9)\n",
            "Requirement already satisfied: cython in /usr/local/lib/python3.7/dist-packages (from ConfigSpace<0.5,>=0.4.21->auto-sklearn) (0.29.32)\n",
            "Requirement already satisfied: packaging>=20.0 in /usr/local/lib/python3.7/dist-packages (from dask>=2021.12->auto-sklearn) (21.3)\n",
            "Requirement already satisfied: fsspec>=0.6.0 in /usr/local/lib/python3.7/dist-packages (from dask>=2021.12->auto-sklearn) (2022.8.2)\n",
            "Requirement already satisfied: partd>=0.3.10 in /usr/local/lib/python3.7/dist-packages (from dask>=2021.12->auto-sklearn) (1.3.0)\n",
            "Requirement already satisfied: cloudpickle>=1.1.1 in /usr/local/lib/python3.7/dist-packages (from dask>=2021.12->auto-sklearn) (1.5.0)\n",
            "Requirement already satisfied: toolz>=0.8.2 in /usr/local/lib/python3.7/dist-packages (from dask>=2021.12->auto-sklearn) (0.12.0)\n",
            "Requirement already satisfied: tornado>=5 in /usr/local/lib/python3.7/dist-packages (from distributed>=2012.12->auto-sklearn) (5.1.1)\n",
            "Requirement already satisfied: click>=6.6 in /usr/local/lib/python3.7/dist-packages (from distributed>=2012.12->auto-sklearn) (7.1.2)\n",
            "Requirement already satisfied: tblib>=1.6.0 in /usr/local/lib/python3.7/dist-packages (from distributed>=2012.12->auto-sklearn) (1.7.0)\n",
            "Requirement already satisfied: zict>=0.1.3 in /usr/local/lib/python3.7/dist-packages (from distributed>=2012.12->auto-sklearn) (2.2.0)\n",
            "Requirement already satisfied: psutil>=5.0 in /usr/local/lib/python3.7/dist-packages (from distributed>=2012.12->auto-sklearn) (5.4.8)\n",
            "Requirement already satisfied: msgpack>=0.6.0 in /usr/local/lib/python3.7/dist-packages (from distributed>=2012.12->auto-sklearn) (1.0.4)\n",
            "Requirement already satisfied: sortedcontainers!=2.0.0,!=2.0.1 in /usr/local/lib/python3.7/dist-packages (from distributed>=2012.12->auto-sklearn) (2.4.0)\n",
            "Requirement already satisfied: jinja2 in /usr/local/lib/python3.7/dist-packages (from distributed>=2012.12->auto-sklearn) (2.11.3)\n",
            "Requirement already satisfied: python-dateutil>=2.7.3 in /usr/local/lib/python3.7/dist-packages (from pandas>=1.0->auto-sklearn) (2.8.2)\n",
            "Requirement already satisfied: pytz>=2017.3 in /usr/local/lib/python3.7/dist-packages (from pandas>=1.0->auto-sklearn) (2022.2.1)\n",
            "Requirement already satisfied: locket in /usr/local/lib/python3.7/dist-packages (from partd>=0.3.10->dask>=2021.12->auto-sklearn) (1.0.0)\n",
            "Requirement already satisfied: six>=1.5 in /usr/local/lib/python3.7/dist-packages (from python-dateutil>=2.7.3->pandas>=1.0->auto-sklearn) (1.15.0)\n",
            "Requirement already satisfied: emcee>=3.0.0 in /usr/local/lib/python3.7/dist-packages (from smac<1.3,>=1.2->auto-sklearn) (3.1.3)\n",
            "Requirement already satisfied: heapdict in /usr/local/lib/python3.7/dist-packages (from zict>=0.1.3->distributed>=2012.12->auto-sklearn) (1.0.1)\n",
            "Requirement already satisfied: MarkupSafe>=0.23 in /usr/local/lib/python3.7/dist-packages (from jinja2->distributed>=2012.12->auto-sklearn) (2.0.1)\n",
            "\u001b[K\u001b[?25h/tools/node/bin/lt -> /tools/node/lib/node_modules/localtunnel/bin/lt.js\n",
            "+ localtunnel@2.0.2\n",
            "updated 1 package in 2.436s\n"
          ]
        }
      ],
      "source": [
        "!pip install mlflow\n",
        "!pip install optuna\n",
        "!pip install sklearn\n",
        "!pip install auto-sklearn\n",
        "!npm install -g localtunnel\n",
        "\n",
        "\n",
        "import autosklearn.regression\n",
        "\n",
        "import optuna\n",
        "import mlflow\n",
        "import mlflow.sklearn\n",
        "\n",
        "import matplotlib.pyplot as plt\n",
        "import pandas as pd\n",
        "import numpy as np\n",
        "import seaborn as sns\n",
        "pd.options.mode.chained_assignment = None\n",
        "\n",
        "from sklearn.ensemble import RandomForestRegressor\n",
        "from sklearn.linear_model import SGDRegressor\n",
        "from sklearn.model_selection import train_test_split\n",
        "from sklearn.metrics import mean_squared_error, r2_score, mean_absolute_percentage_error\n",
        "from sklearn import svm\n",
        "from sklearn.neighbors import KNeighborsRegressor\n",
        "from sklearn.linear_model import LinearRegression"
      ]
    },
    {
      "cell_type": "markdown",
      "metadata": {
        "id": "Yo5JXFB3trhN"
      },
      "source": [
        "## Coleta e separação dos dados\n",
        "Como pode-se imaginar, fizemos uso de uma base de dados disponibilizada pelo governo brasileiro relativo ao ENEM 2021. Esta possuí vários tipos de dados, mas para nossa análise usaremos apenas dados relativos as **notas dos participantes**.\n",
        "\n",
        "Para tal, pelo grande tamanho de nosso dataset, aproximadamento 2 GB de dados, utilizamos a ténica de sampleamento para prosseguir com nossa análise.\n",
        "\n",
        "### Sampleamento\n",
        "Nosso sampleamento fez uso de uma técnica muito simples, para tal, separamos as primeiras 300 mil linhas do dataset original, assim resultando em um arquivo com 300 MB.\n",
        "\n",
        "Fizemos isto consciêntes de que essa escolha poderia gerar ruídos ou tendências em nosso dataset. Assim, para evitar isto a melhor maneira de proceder com essa operação seria fazer um sampleamento randômnico ou utilizando técnicas mais avançadas de balancemaneto de amostras.\n",
        "\n",
        "## Dicionário\n",
        "Para o correto entendimento de nosso dados, disponibilizamos [neste link](https://docs.google.com/spreadsheets/d/1-y2XLTG_AWINH6F4FKPcjfNl1yeFIPujACHJwHKMR5Y/edit?usp=sharing) os sigficados dos campos que serão trabalhados neste análise.\n",
        "\n",
        "Também disponibilizamos o sample do dataset que usamos [neste link](https://drive.google.com/drive/folders/1e7p0jmvarkBoupnZAErkrlykCUNucI73?usp=sharing)."
      ]
    },
    {
      "cell_type": "code",
      "execution_count": null,
      "metadata": {
        "colab": {
          "base_uri": "https://localhost:8080/",
          "height": 206
        },
        "id": "523ixmOM85f8",
        "outputId": "ffcc4274-f536-4d8e-e38f-297be481815c"
      },
      "outputs": [
        {
          "output_type": "execute_result",
          "data": {
            "text/plain": [
              "   ciencias_naturais  ciencias_humanas  linguagem_codigo  matematica  redacao\n",
              "0                NaN             574.6             472.6         NaN    760.0\n",
              "1              505.9             551.8             498.3       461.5    560.0\n",
              "2                NaN               NaN               NaN         NaN      NaN\n",
              "3              580.7             678.9             638.9       659.5    780.0\n",
              "4              497.7             532.4             457.6       582.6    780.0"
            ],
            "text/html": [
              "\n",
              "  <div id=\"df-e869047b-e21d-4015-8efe-715f96545510\">\n",
              "    <div class=\"colab-df-container\">\n",
              "      <div>\n",
              "<style scoped>\n",
              "    .dataframe tbody tr th:only-of-type {\n",
              "        vertical-align: middle;\n",
              "    }\n",
              "\n",
              "    .dataframe tbody tr th {\n",
              "        vertical-align: top;\n",
              "    }\n",
              "\n",
              "    .dataframe thead th {\n",
              "        text-align: right;\n",
              "    }\n",
              "</style>\n",
              "<table border=\"1\" class=\"dataframe\">\n",
              "  <thead>\n",
              "    <tr style=\"text-align: right;\">\n",
              "      <th></th>\n",
              "      <th>ciencias_naturais</th>\n",
              "      <th>ciencias_humanas</th>\n",
              "      <th>linguagem_codigo</th>\n",
              "      <th>matematica</th>\n",
              "      <th>redacao</th>\n",
              "    </tr>\n",
              "  </thead>\n",
              "  <tbody>\n",
              "    <tr>\n",
              "      <th>0</th>\n",
              "      <td>NaN</td>\n",
              "      <td>574.6</td>\n",
              "      <td>472.6</td>\n",
              "      <td>NaN</td>\n",
              "      <td>760.0</td>\n",
              "    </tr>\n",
              "    <tr>\n",
              "      <th>1</th>\n",
              "      <td>505.9</td>\n",
              "      <td>551.8</td>\n",
              "      <td>498.3</td>\n",
              "      <td>461.5</td>\n",
              "      <td>560.0</td>\n",
              "    </tr>\n",
              "    <tr>\n",
              "      <th>2</th>\n",
              "      <td>NaN</td>\n",
              "      <td>NaN</td>\n",
              "      <td>NaN</td>\n",
              "      <td>NaN</td>\n",
              "      <td>NaN</td>\n",
              "    </tr>\n",
              "    <tr>\n",
              "      <th>3</th>\n",
              "      <td>580.7</td>\n",
              "      <td>678.9</td>\n",
              "      <td>638.9</td>\n",
              "      <td>659.5</td>\n",
              "      <td>780.0</td>\n",
              "    </tr>\n",
              "    <tr>\n",
              "      <th>4</th>\n",
              "      <td>497.7</td>\n",
              "      <td>532.4</td>\n",
              "      <td>457.6</td>\n",
              "      <td>582.6</td>\n",
              "      <td>780.0</td>\n",
              "    </tr>\n",
              "  </tbody>\n",
              "</table>\n",
              "</div>\n",
              "      <button class=\"colab-df-convert\" onclick=\"convertToInteractive('df-e869047b-e21d-4015-8efe-715f96545510')\"\n",
              "              title=\"Convert this dataframe to an interactive table.\"\n",
              "              style=\"display:none;\">\n",
              "        \n",
              "  <svg xmlns=\"http://www.w3.org/2000/svg\" height=\"24px\"viewBox=\"0 0 24 24\"\n",
              "       width=\"24px\">\n",
              "    <path d=\"M0 0h24v24H0V0z\" fill=\"none\"/>\n",
              "    <path d=\"M18.56 5.44l.94 2.06.94-2.06 2.06-.94-2.06-.94-.94-2.06-.94 2.06-2.06.94zm-11 1L8.5 8.5l.94-2.06 2.06-.94-2.06-.94L8.5 2.5l-.94 2.06-2.06.94zm10 10l.94 2.06.94-2.06 2.06-.94-2.06-.94-.94-2.06-.94 2.06-2.06.94z\"/><path d=\"M17.41 7.96l-1.37-1.37c-.4-.4-.92-.59-1.43-.59-.52 0-1.04.2-1.43.59L10.3 9.45l-7.72 7.72c-.78.78-.78 2.05 0 2.83L4 21.41c.39.39.9.59 1.41.59.51 0 1.02-.2 1.41-.59l7.78-7.78 2.81-2.81c.8-.78.8-2.07 0-2.86zM5.41 20L4 18.59l7.72-7.72 1.47 1.35L5.41 20z\"/>\n",
              "  </svg>\n",
              "      </button>\n",
              "      \n",
              "  <style>\n",
              "    .colab-df-container {\n",
              "      display:flex;\n",
              "      flex-wrap:wrap;\n",
              "      gap: 12px;\n",
              "    }\n",
              "\n",
              "    .colab-df-convert {\n",
              "      background-color: #E8F0FE;\n",
              "      border: none;\n",
              "      border-radius: 50%;\n",
              "      cursor: pointer;\n",
              "      display: none;\n",
              "      fill: #1967D2;\n",
              "      height: 32px;\n",
              "      padding: 0 0 0 0;\n",
              "      width: 32px;\n",
              "    }\n",
              "\n",
              "    .colab-df-convert:hover {\n",
              "      background-color: #E2EBFA;\n",
              "      box-shadow: 0px 1px 2px rgba(60, 64, 67, 0.3), 0px 1px 3px 1px rgba(60, 64, 67, 0.15);\n",
              "      fill: #174EA6;\n",
              "    }\n",
              "\n",
              "    [theme=dark] .colab-df-convert {\n",
              "      background-color: #3B4455;\n",
              "      fill: #D2E3FC;\n",
              "    }\n",
              "\n",
              "    [theme=dark] .colab-df-convert:hover {\n",
              "      background-color: #434B5C;\n",
              "      box-shadow: 0px 1px 3px 1px rgba(0, 0, 0, 0.15);\n",
              "      filter: drop-shadow(0px 1px 2px rgba(0, 0, 0, 0.3));\n",
              "      fill: #FFFFFF;\n",
              "    }\n",
              "  </style>\n",
              "\n",
              "      <script>\n",
              "        const buttonEl =\n",
              "          document.querySelector('#df-e869047b-e21d-4015-8efe-715f96545510 button.colab-df-convert');\n",
              "        buttonEl.style.display =\n",
              "          google.colab.kernel.accessAllowed ? 'block' : 'none';\n",
              "\n",
              "        async function convertToInteractive(key) {\n",
              "          const element = document.querySelector('#df-e869047b-e21d-4015-8efe-715f96545510');\n",
              "          const dataTable =\n",
              "            await google.colab.kernel.invokeFunction('convertToInteractive',\n",
              "                                                     [key], {});\n",
              "          if (!dataTable) return;\n",
              "\n",
              "          const docLinkHtml = 'Like what you see? Visit the ' +\n",
              "            '<a target=\"_blank\" href=https://colab.research.google.com/notebooks/data_table.ipynb>data table notebook</a>'\n",
              "            + ' to learn more about interactive tables.';\n",
              "          element.innerHTML = '';\n",
              "          dataTable['output_type'] = 'display_data';\n",
              "          await google.colab.output.renderOutput(dataTable, element);\n",
              "          const docLink = document.createElement('div');\n",
              "          docLink.innerHTML = docLinkHtml;\n",
              "          element.appendChild(docLink);\n",
              "        }\n",
              "      </script>\n",
              "    </div>\n",
              "  </div>\n",
              "  "
            ]
          },
          "metadata": {},
          "execution_count": 3
        }
      ],
      "source": [
        "enem = pd.read_csv(\"SAMPLE_MICRODADOS_ENEM_2021.csv\", sep=\";\" ,encoding = \"ISO-8859-1\")\n",
        "\n",
        "notas_columns = ['NU_NOTA_CN', 'NU_NOTA_CH', 'NU_NOTA_LC', 'NU_NOTA_MT', 'NU_NOTA_REDACAO']\n",
        "notas = enem[notas_columns]\n",
        "colunas_notas = ['ciencias_naturais', 'ciencias_humanas', 'linguagem_codigo', 'matematica', 'redacao']\n",
        "notas.columns = colunas_notas\n",
        "notas.head()"
      ]
    },
    {
      "cell_type": "code",
      "execution_count": null,
      "metadata": {
        "colab": {
          "base_uri": "https://localhost:8080/",
          "height": 206
        },
        "id": "JF54suymBGdb",
        "outputId": "ae4587ef-d6df-4b2b-e34b-bde77747be28"
      },
      "outputs": [
        {
          "output_type": "execute_result",
          "data": {
            "text/plain": [
              "   ciencias_naturais  ciencias_humanas  linguagem_codigo  redacao\n",
              "1             0.5059            0.5518            0.4983     0.56\n",
              "3             0.5807            0.6789            0.6389     0.78\n",
              "4             0.4977            0.5324            0.4576     0.78\n",
              "8             0.4874            0.4765            0.4507     0.52\n",
              "9             0.5076            0.5392            0.4946     0.38"
            ],
            "text/html": [
              "\n",
              "  <div id=\"df-1d5425e1-50e6-4dba-a832-a78fce0128d2\">\n",
              "    <div class=\"colab-df-container\">\n",
              "      <div>\n",
              "<style scoped>\n",
              "    .dataframe tbody tr th:only-of-type {\n",
              "        vertical-align: middle;\n",
              "    }\n",
              "\n",
              "    .dataframe tbody tr th {\n",
              "        vertical-align: top;\n",
              "    }\n",
              "\n",
              "    .dataframe thead th {\n",
              "        text-align: right;\n",
              "    }\n",
              "</style>\n",
              "<table border=\"1\" class=\"dataframe\">\n",
              "  <thead>\n",
              "    <tr style=\"text-align: right;\">\n",
              "      <th></th>\n",
              "      <th>ciencias_naturais</th>\n",
              "      <th>ciencias_humanas</th>\n",
              "      <th>linguagem_codigo</th>\n",
              "      <th>redacao</th>\n",
              "    </tr>\n",
              "  </thead>\n",
              "  <tbody>\n",
              "    <tr>\n",
              "      <th>1</th>\n",
              "      <td>0.5059</td>\n",
              "      <td>0.5518</td>\n",
              "      <td>0.4983</td>\n",
              "      <td>0.56</td>\n",
              "    </tr>\n",
              "    <tr>\n",
              "      <th>3</th>\n",
              "      <td>0.5807</td>\n",
              "      <td>0.6789</td>\n",
              "      <td>0.6389</td>\n",
              "      <td>0.78</td>\n",
              "    </tr>\n",
              "    <tr>\n",
              "      <th>4</th>\n",
              "      <td>0.4977</td>\n",
              "      <td>0.5324</td>\n",
              "      <td>0.4576</td>\n",
              "      <td>0.78</td>\n",
              "    </tr>\n",
              "    <tr>\n",
              "      <th>8</th>\n",
              "      <td>0.4874</td>\n",
              "      <td>0.4765</td>\n",
              "      <td>0.4507</td>\n",
              "      <td>0.52</td>\n",
              "    </tr>\n",
              "    <tr>\n",
              "      <th>9</th>\n",
              "      <td>0.5076</td>\n",
              "      <td>0.5392</td>\n",
              "      <td>0.4946</td>\n",
              "      <td>0.38</td>\n",
              "    </tr>\n",
              "  </tbody>\n",
              "</table>\n",
              "</div>\n",
              "      <button class=\"colab-df-convert\" onclick=\"convertToInteractive('df-1d5425e1-50e6-4dba-a832-a78fce0128d2')\"\n",
              "              title=\"Convert this dataframe to an interactive table.\"\n",
              "              style=\"display:none;\">\n",
              "        \n",
              "  <svg xmlns=\"http://www.w3.org/2000/svg\" height=\"24px\"viewBox=\"0 0 24 24\"\n",
              "       width=\"24px\">\n",
              "    <path d=\"M0 0h24v24H0V0z\" fill=\"none\"/>\n",
              "    <path d=\"M18.56 5.44l.94 2.06.94-2.06 2.06-.94-2.06-.94-.94-2.06-.94 2.06-2.06.94zm-11 1L8.5 8.5l.94-2.06 2.06-.94-2.06-.94L8.5 2.5l-.94 2.06-2.06.94zm10 10l.94 2.06.94-2.06 2.06-.94-2.06-.94-.94-2.06-.94 2.06-2.06.94z\"/><path d=\"M17.41 7.96l-1.37-1.37c-.4-.4-.92-.59-1.43-.59-.52 0-1.04.2-1.43.59L10.3 9.45l-7.72 7.72c-.78.78-.78 2.05 0 2.83L4 21.41c.39.39.9.59 1.41.59.51 0 1.02-.2 1.41-.59l7.78-7.78 2.81-2.81c.8-.78.8-2.07 0-2.86zM5.41 20L4 18.59l7.72-7.72 1.47 1.35L5.41 20z\"/>\n",
              "  </svg>\n",
              "      </button>\n",
              "      \n",
              "  <style>\n",
              "    .colab-df-container {\n",
              "      display:flex;\n",
              "      flex-wrap:wrap;\n",
              "      gap: 12px;\n",
              "    }\n",
              "\n",
              "    .colab-df-convert {\n",
              "      background-color: #E8F0FE;\n",
              "      border: none;\n",
              "      border-radius: 50%;\n",
              "      cursor: pointer;\n",
              "      display: none;\n",
              "      fill: #1967D2;\n",
              "      height: 32px;\n",
              "      padding: 0 0 0 0;\n",
              "      width: 32px;\n",
              "    }\n",
              "\n",
              "    .colab-df-convert:hover {\n",
              "      background-color: #E2EBFA;\n",
              "      box-shadow: 0px 1px 2px rgba(60, 64, 67, 0.3), 0px 1px 3px 1px rgba(60, 64, 67, 0.15);\n",
              "      fill: #174EA6;\n",
              "    }\n",
              "\n",
              "    [theme=dark] .colab-df-convert {\n",
              "      background-color: #3B4455;\n",
              "      fill: #D2E3FC;\n",
              "    }\n",
              "\n",
              "    [theme=dark] .colab-df-convert:hover {\n",
              "      background-color: #434B5C;\n",
              "      box-shadow: 0px 1px 3px 1px rgba(0, 0, 0, 0.15);\n",
              "      filter: drop-shadow(0px 1px 2px rgba(0, 0, 0, 0.3));\n",
              "      fill: #FFFFFF;\n",
              "    }\n",
              "  </style>\n",
              "\n",
              "      <script>\n",
              "        const buttonEl =\n",
              "          document.querySelector('#df-1d5425e1-50e6-4dba-a832-a78fce0128d2 button.colab-df-convert');\n",
              "        buttonEl.style.display =\n",
              "          google.colab.kernel.accessAllowed ? 'block' : 'none';\n",
              "\n",
              "        async function convertToInteractive(key) {\n",
              "          const element = document.querySelector('#df-1d5425e1-50e6-4dba-a832-a78fce0128d2');\n",
              "          const dataTable =\n",
              "            await google.colab.kernel.invokeFunction('convertToInteractive',\n",
              "                                                     [key], {});\n",
              "          if (!dataTable) return;\n",
              "\n",
              "          const docLinkHtml = 'Like what you see? Visit the ' +\n",
              "            '<a target=\"_blank\" href=https://colab.research.google.com/notebooks/data_table.ipynb>data table notebook</a>'\n",
              "            + ' to learn more about interactive tables.';\n",
              "          element.innerHTML = '';\n",
              "          dataTable['output_type'] = 'display_data';\n",
              "          await google.colab.output.renderOutput(dataTable, element);\n",
              "          const docLink = document.createElement('div');\n",
              "          docLink.innerHTML = docLinkHtml;\n",
              "          element.appendChild(docLink);\n",
              "        }\n",
              "      </script>\n",
              "    </div>\n",
              "  </div>\n",
              "  "
            ]
          },
          "metadata": {},
          "execution_count": 36
        }
      ],
      "source": [
        "notas = notas.dropna()\n",
        "notas = notas[~(notas == 0).any(axis=1)]\n",
        "\n",
        "x = notas[['ciencias_naturais', 'ciencias_humanas', 'linguagem_codigo', 'redacao']]\n",
        "y = notas['matematica']\n",
        "\n",
        "x = x/1000\n",
        "y = y/1000\n",
        "\n",
        "xtrain, xtest, ytrain, ytest=train_test_split(x, y, test_size=0.15)\n",
        "x.head()"
      ]
    },
    {
      "cell_type": "markdown",
      "metadata": {
        "id": "X7rrPGoEOtBn"
      },
      "source": [
        "# Avaliador de métricas\n"
      ]
    },
    {
      "cell_type": "code",
      "execution_count": null,
      "metadata": {
        "id": "hj8NtXNUOt-W"
      },
      "outputs": [],
      "source": [
        "def eval_model(ytest, y_test_pred):\n",
        "  mse = mean_squared_error(ytest, y_test_pred)\n",
        "  r2 = r2_score(ytest, y_test_pred)\n",
        "  mape = mean_absolute_percentage_error(ytest, y_test_pred)\n",
        "  return r2, mse, mape"
      ]
    },
    {
      "cell_type": "markdown",
      "metadata": {
        "id": "vkSoAqsFDfjh"
      },
      "source": [
        "# Linear regression"
      ]
    },
    {
      "cell_type": "code",
      "execution_count": null,
      "metadata": {
        "colab": {
          "base_uri": "https://localhost:8080/"
        },
        "id": "l62HC8uTDqBG",
        "outputId": "07edb0ab-47af-45ff-9fd0-c00ca1661a62"
      },
      "outputs": [
        {
          "name": "stdout",
          "output_type": "stream",
          "text": [
            "Training MSE:  0.005271058723057044\n",
            "Test MSE:  0.005271058723057044\n",
            "R2: 0.5476627885215499\n",
            "Score:  0.5476627885215499\n"
          ]
        }
      ],
      "source": [
        "from sklearn.linear_model import LinearRegression\n",
        "reg_linear = LinearRegression()\n",
        "model=reg_linear.fit(xtrain,ytrain)\n",
        "\n",
        "y_test_pred = reg_linear.predict(xtest)\n",
        "r2, mse, mape = eval_model(ytest, y_test_pred)\n",
        "print('Best Model Stats:')\n",
        "print(f'MSE: {mse}')\n",
        "print(f'MAPE: {mape}')\n",
        "print(f'R2: {r2}')"
      ]
    },
    {
      "cell_type": "markdown",
      "metadata": {
        "id": "5t8eAi2pG0rl"
      },
      "source": [
        "# Support Vector Machines"
      ]
    },
    {
      "cell_type": "markdown",
      "source": [
        "## PREENCHE AQUI LUCAS"
      ],
      "metadata": {
        "id": "G2uXD4a17B_U"
      }
    },
    {
      "cell_type": "code",
      "execution_count": null,
      "metadata": {
        "colab": {
          "base_uri": "https://localhost:8080/"
        },
        "id": "WI300_6TNiIA",
        "outputId": "6ad374cd-aed0-4510-bf4e-653625375cfd"
      },
      "outputs": [
        {
          "name": "stderr",
          "output_type": "stream",
          "text": [
            "\u001b[32m[I 2022-10-01 21:26:41,422]\u001b[0m A new study created in memory with name: no-name-a32feef0-53fa-4513-9b57-d2868935b7ce\u001b[0m\n",
            "\u001b[32m[I 2022-10-01 21:26:50,028]\u001b[0m Trial 0 finished with value: -0.0023985678966609303 and parameters: {'kernel': 'sigmoid'}. Best is trial 0 with value: -0.0023985678966609303.\u001b[0m\n",
            "\u001b[32m[I 2022-10-01 21:31:33,947]\u001b[0m Trial 1 finished with value: 0.5735544947090704 and parameters: {'kernel': 'poly'}. Best is trial 1 with value: 0.5735544947090704.\u001b[0m\n",
            "\u001b[32m[I 2022-10-01 21:31:36,596]\u001b[0m Trial 2 finished with value: 0.5439808495946343 and parameters: {'kernel': 'linear'}. Best is trial 1 with value: 0.5735544947090704.\u001b[0m\n",
            "\u001b[32m[I 2022-10-01 21:31:39,716]\u001b[0m Trial 3 finished with value: 0.5689038571096128 and parameters: {'kernel': 'rbf'}. Best is trial 1 with value: 0.5735544947090704.\u001b[0m\n",
            "\u001b[32m[I 2022-10-01 21:31:42,773]\u001b[0m Trial 4 finished with value: 0.5689038571096128 and parameters: {'kernel': 'rbf'}. Best is trial 1 with value: 0.5735544947090704.\u001b[0m\n",
            "\u001b[32m[I 2022-10-01 21:31:45,852]\u001b[0m Trial 5 finished with value: 0.5689038571096128 and parameters: {'kernel': 'rbf'}. Best is trial 1 with value: 0.5735544947090704.\u001b[0m\n",
            "\u001b[32m[I 2022-10-01 21:31:48,532]\u001b[0m Trial 6 finished with value: 0.5439808495946343 and parameters: {'kernel': 'linear'}. Best is trial 1 with value: 0.5735544947090704.\u001b[0m\n",
            "\u001b[32m[I 2022-10-01 21:31:52,944]\u001b[0m Trial 7 finished with value: -0.0023985678966609303 and parameters: {'kernel': 'sigmoid'}. Best is trial 1 with value: 0.5735544947090704.\u001b[0m\n",
            "\u001b[32m[I 2022-10-01 21:31:57,345]\u001b[0m Trial 8 finished with value: -0.0023985678966609303 and parameters: {'kernel': 'sigmoid'}. Best is trial 1 with value: 0.5735544947090704.\u001b[0m\n",
            "\u001b[32m[I 2022-10-01 21:35:39,774]\u001b[0m Trial 9 finished with value: 0.5735544947090704 and parameters: {'kernel': 'poly'}. Best is trial 1 with value: 0.5735544947090704.\u001b[0m\n"
          ]
        }
      ],
      "source": [
        "def save_on_mlflow(model, kernel, r2, mse, mape):\n",
        "  with mlflow.start_run():\n",
        "    mlflow.log_param(\"kernel\", kernel)\n",
        "    mlflow.log_metric(\"r2\", r2)\n",
        "    mlflow.log_metric(\"mse\", mse)\n",
        "    mlflow.log_metric(\"mape\", mape)\n",
        "    mlflow.sklearn.log_model(model, \"model\")\n",
        "\n",
        "def objective(trial):\n",
        "  kernel = trial.suggest_categorical(\"kernel\", ['linear', 'poly', 'rbf', 'sigmoid'])\n",
        "  rfr = svm.SVR(kernel=kernel, gamma='scale')\n",
        "  rfr.fit(xtrain, ytrain)\n",
        "  \n",
        "  y_test_pred = rfr.predict(xtest)\n",
        "  r2, mse, mape = eval_model(ytest, y_test_pred)\n",
        "  save_on_mlflow(rfr, kernel, r2, mse, mape)\n",
        "  return r2  \n",
        "\n",
        "study = optuna.create_study(direction=\"maximize\")\n",
        "study.optimize(objective, n_trials=10)"
      ]
    },
    {
      "cell_type": "code",
      "execution_count": null,
      "metadata": {
        "colab": {
          "base_uri": "https://localhost:8080/"
        },
        "id": "UbK0yE1sUbia",
        "outputId": "b00fb0d5-be9b-4c94-ab51-9d8306296569"
      },
      "outputs": [
        {
          "name": "stdout",
          "output_type": "stream",
          "text": [
            "The best value is : \n",
            "0.5735544947090704\n",
            "The best parameters are : \n",
            "{'kernel': 'poly'}\n"
          ]
        }
      ],
      "source": [
        "print(f\"The best parameters are : \\n{study.best_params}\")"
      ]
    },
    {
      "cell_type": "code",
      "execution_count": null,
      "metadata": {
        "colab": {
          "base_uri": "https://localhost:8080/"
        },
        "id": "TIIbd5kqG0UN",
        "outputId": "bd684161-f783-4cdd-d473-8dc7b3f42798"
      },
      "outputs": [
        {
          "name": "stdout",
          "output_type": "stream",
          "text": [
            "0.5735544947090704 0.005083475998220609 0.11430333294068794\n"
          ]
        }
      ],
      "source": [
        "regr = svm.SVR(kernel=study.best_params['kernel'])\n",
        "regr.fit(xtrain, ytrain)\n",
        "y_test_pred = regr.predict(xtest)\n",
        "r2, mse, mape = eval_model(ytest, y_test_pred)\n",
        "print('Best Model Stats:')\n",
        "print(f'MSE: {mse}')\n",
        "print(f'MAPE: {mape}')\n",
        "print(f'R2: {r2}')"
      ]
    },
    {
      "cell_type": "code",
      "execution_count": null,
      "metadata": {
        "colab": {
          "base_uri": "https://localhost:8080/",
          "height": 279
        },
        "id": "o6dIAGtmbfse",
        "outputId": "785f3694-ddff-415c-8b54-d98d4e6f2c15"
      },
      "outputs": [
        {
          "data": {
            "image/png": "[encoded data removed]",
            "text/plain": [
              "<Figure size 432x288 with 1 Axes>"
            ]
          },
          "metadata": {},
          "output_type": "display_data"
        }
      ],
      "source": [
        "plt.scatter(y_training_pred, ytrain, label=\"Train samples\", c='#d95f02')\n",
        "plt.scatter(y_test_pred, ytest, label=\"Test samples\", c='#7570b3')\n",
        "plt.xlabel(\"Predicted value\")\n",
        "plt.ylabel(\"True value\")\n",
        "plt.legend()\n",
        "plt.show()"
      ]
    },
    {
      "cell_type": "markdown",
      "metadata": {
        "id": "a5i6Dqf9cZgM"
      },
      "source": [
        "## PREENCHE AQUI LUCAS 2\n"
      ]
    },
    {
      "cell_type": "code",
      "execution_count": null,
      "metadata": {
        "colab": {
          "background_save": true,
          "base_uri": "https://localhost:8080/"
        },
        "id": "yDfXZWGFRGvm",
        "outputId": "356fe351-e50b-4980-ac3d-36836ef5f4b7"
      },
      "outputs": [
        {
          "name": "stderr",
          "output_type": "stream",
          "text": [
            "\u001b[32m[I 2022-10-01 23:35:28,023]\u001b[0m A new study created in memory with name: no-name-fc18b65f-76c5-4b89-9e3a-9f44bdb14bda\u001b[0m\n"
          ]
        }
      ],
      "source": [
        "def save_on_mlflow(model, degree, r2, mse, mape):\n",
        "  with mlflow.start_run():\n",
        "    mlflow.log_param(\"degree\", degree)\n",
        "    mlflow.log_metric(\"r2\", r2)\n",
        "    mlflow.log_metric(\"mse\", mse)\n",
        "    mlflow.log_metric(\"mape\", mape)\n",
        "    mlflow.sklearn.log_model(model, \"model\")\n",
        "\n",
        "def objective(trial):\n",
        "  degree = trial.suggest_int(\"degree\", 0, 20, 2)\n",
        "  rfr = svm.SVR(kernel='poly', degree=degree, gamma='scale')\n",
        "  rfr.fit(xtrain, ytrain)\n",
        "  \n",
        "  y_test_pred = rfr.predict(xtest)\n",
        "  r2, mse, mape = eval_model(ytest, y_test_pred)\n",
        "  save_on_mlflow(rfr, degree, r2, mse, mape)\n",
        "  return r2  \n",
        "\n",
        "study = optuna.create_study(direction=\"maximize\")\n",
        "study.optimize(objective, n_trials=10)"
      ]
    },
    {
      "cell_type": "code",
      "execution_count": null,
      "metadata": {
        "id": "sgCRGdVMUcf0"
      },
      "outputs": [],
      "source": [
        "print(f\"The best value is : \\n{study.best_value}\")\n",
        "print(f\"The best parameters are : \\n{study.best_params}\")"
      ]
    },
    {
      "cell_type": "code",
      "execution_count": null,
      "metadata": {
        "id": "i-pLKCoecfOV"
      },
      "outputs": [],
      "source": [
        "regr = svm.SVR(kernel='poly', degree=study.best_params['degree'], gamma='scale')\n",
        "regr.fit(xtrain, ytrain)\n",
        "y_test_pred = regr.predict(xtest)\n",
        "r2, mse, mape = eval_model(ytest, y_test_pred)\n",
        "print('Best Model Stats:')\n",
        "print(f'MSE: {mse}')\n",
        "print(f'MAPE: {mape}')\n",
        "print(f'R2: {r2}')"
      ]
    },
    {
      "cell_type": "code",
      "execution_count": null,
      "metadata": {
        "id": "SQDed0AJctlZ"
      },
      "outputs": [],
      "source": [
        "plt.scatter(y_training_pred, ytrain, label=\"Train samples\", c='#d95f02')\n",
        "plt.scatter(y_test_pred, ytest, label=\"Test samples\", c='#7570b3')\n",
        "plt.xlabel(\"Predicted value\")\n",
        "plt.ylabel(\"True value\")\n",
        "plt.legend()\n",
        "plt.show()"
      ]
    },
    {
      "cell_type": "markdown",
      "metadata": {
        "id": "kjUI22iZ1eLz"
      },
      "source": [
        "# K-Neighbors"
      ]
    },
    {
      "cell_type": "code",
      "execution_count": null,
      "metadata": {
        "id": "YrINwEOpTXjQ"
      },
      "outputs": [],
      "source": [
        "def save_on_mlflow(model, n_neighbors, r2, mse, mape):\n",
        "  with mlflow.start_run():\n",
        "    mlflow.log_param(\"n_neighbors\", n_neighbors)\n",
        "    mlflow.log_metric(\"r2\", r2)\n",
        "    mlflow.log_metric(\"mse\", mse)\n",
        "    mlflow.log_metric(\"mape\", mape)\n",
        "    mlflow.sklearn.log_model(model, \"model\")\n",
        "\n",
        "def objective(trial):\n",
        "  n_neighbors = trial.suggest_int(\"n_neighbors\", 0, 50)\n",
        "  regr = KNeighborsRegressor(n_neighbors=n_neighbors)\n",
        "  regr.fit(xtrain, ytrain)\n",
        "  \n",
        "  y_test_pred = regr.predict(xtest)\n",
        "  r2, mse, mape = eval_model(ytest, y_test_pred)\n",
        "  save_on_mlflow(regr, n_neighbors, r2, mse, mape)\n",
        "  return r2  \n",
        "\n",
        "study = optuna.create_study(direction=\"maximize\")\n",
        "study.optimize(objective, n_trials=25)"
      ]
    },
    {
      "cell_type": "code",
      "execution_count": null,
      "metadata": {
        "id": "uHauIn2GUd0o"
      },
      "outputs": [],
      "source": [
        "print(f\"The best parameters are : \\n{study.best_params}\")"
      ]
    },
    {
      "cell_type": "code",
      "execution_count": null,
      "metadata": {
        "id": "DqYrcu1Lcz0w"
      },
      "outputs": [],
      "source": [
        "regr = KNeighborsRegressor(n_neighbors=study.best_params['n_neighbors'])\n",
        "regr.fit(xtrain, ytrain)\n",
        "y_test_pred = regr.predict(xtest)\n",
        "r2, mse, mape = eval_model(ytest, y_test_pred)\n",
        "print('Best Model Stats:')\n",
        "print(f'MSE: {mse}')\n",
        "print(f'MAPE: {mape}')\n",
        "print(f'R2: {r2}')"
      ]
    },
    {
      "cell_type": "code",
      "execution_count": null,
      "metadata": {
        "id": "_-eO9MKRc-28"
      },
      "outputs": [],
      "source": [
        "plt.scatter(y_training_pred, ytrain, label=\"Train samples\", c='#d95f02')\n",
        "plt.scatter(y_test_pred, ytest, label=\"Test samples\", c='#7570b3')\n",
        "plt.xlabel(\"Predicted value\")\n",
        "plt.ylabel(\"True value\")\n",
        "plt.legend()\n",
        "plt.show()"
      ]
    },
    {
      "cell_type": "markdown",
      "metadata": {
        "id": "smA7S72C97Uz"
      },
      "source": [
        "# SDG Regressor"
      ]
    },
    {
      "cell_type": "code",
      "execution_count": null,
      "metadata": {
        "colab": {
          "base_uri": "https://localhost:8080/"
        },
        "id": "VbuCB6jp-PL8",
        "outputId": "2ad332ef-af04-4a54-b45c-f9c2058f5641"
      },
      "outputs": [
        {
          "output_type": "stream",
          "name": "stderr",
          "text": [
            "\u001b[32m[I 2022-10-02 19:43:45,866]\u001b[0m A new study created in memory with name: no-name-60ec2583-32a7-4402-a114-6141067f7dcb\u001b[0m\n",
            "\u001b[32m[I 2022-10-02 19:43:48,535]\u001b[0m Trial 0 finished with value: 0.005385705257452149 and parameters: {'learning_rate': 'constant', 'loss': 'squared_loss', 'penalty': 'l1'}. Best is trial 0 with value: 0.005385705257452149.\u001b[0m\n",
            "\u001b[32m[I 2022-10-02 19:43:52,226]\u001b[0m Trial 1 finished with value: 0.006976188609307409 and parameters: {'learning_rate': 'optimal', 'loss': 'epsilon_insensitive', 'penalty': 'l2'}. Best is trial 0 with value: 0.005385705257452149.\u001b[0m\n",
            "\u001b[32m[I 2022-10-02 19:43:55,433]\u001b[0m Trial 2 finished with value: 0.005350972495222186 and parameters: {'learning_rate': 'invscaling', 'loss': 'squared_loss', 'penalty': 'l1'}. Best is trial 2 with value: 0.005350972495222186.\u001b[0m\n",
            "\u001b[32m[I 2022-10-02 19:43:58,059]\u001b[0m Trial 3 finished with value: 0.005381903090124957 and parameters: {'learning_rate': 'invscaling', 'loss': 'epsilon_insensitive', 'penalty': 'l2'}. Best is trial 2 with value: 0.005350972495222186.\u001b[0m\n",
            "\u001b[32m[I 2022-10-02 19:44:00,555]\u001b[0m Trial 4 finished with value: 0.005358023794225905 and parameters: {'learning_rate': 'constant', 'loss': 'squared_loss', 'penalty': 'l2'}. Best is trial 2 with value: 0.005350972495222186.\u001b[0m\n",
            "\u001b[32m[I 2022-10-02 19:44:03,127]\u001b[0m Trial 5 finished with value: 0.0053450022672497715 and parameters: {'learning_rate': 'constant', 'loss': 'epsilon_insensitive', 'penalty': 'l2'}. Best is trial 5 with value: 0.0053450022672497715.\u001b[0m\n",
            "\u001b[32m[I 2022-10-02 19:44:05,831]\u001b[0m Trial 6 finished with value: 0.006739971930754098 and parameters: {'learning_rate': 'optimal', 'loss': 'epsilon_insensitive', 'penalty': 'l2'}. Best is trial 5 with value: 0.0053450022672497715.\u001b[0m\n",
            "\u001b[32m[I 2022-10-02 19:44:08,408]\u001b[0m Trial 7 finished with value: 0.00617837685712447 and parameters: {'learning_rate': 'constant', 'loss': 'epsilon_insensitive', 'penalty': 'l2'}. Best is trial 5 with value: 0.0053450022672497715.\u001b[0m\n",
            "\u001b[32m[I 2022-10-02 19:44:10,988]\u001b[0m Trial 8 finished with value: 0.005648944665770547 and parameters: {'learning_rate': 'constant', 'loss': 'epsilon_insensitive', 'penalty': 'l2'}. Best is trial 5 with value: 0.0053450022672497715.\u001b[0m\n",
            "\u001b[32m[I 2022-10-02 19:44:13,677]\u001b[0m Trial 9 finished with value: 0.00533733338041588 and parameters: {'learning_rate': 'optimal', 'loss': 'squared_loss', 'penalty': 'elasticnet'}. Best is trial 9 with value: 0.00533733338041588.\u001b[0m\n"
          ]
        }
      ],
      "source": [
        "def save_on_mlflow(model, learning_rate, loss, penalty, r2, mse, mape):\n",
        "  with mlflow.start_run():\n",
        "    mlflow.log_param(\"learning_rate\", learning_rate)\n",
        "    mlflow.log_param(\"loss\", loss)\n",
        "    mlflow.log_param(\"penalty\", penalty)\n",
        "    mlflow.log_metric(\"r2\", r2)\n",
        "    mlflow.log_metric(\"mse\", mse)\n",
        "    mlflow.log_metric(\"mape\", mape)\n",
        "    mlflow.sklearn.log_model(model, \"model\")\n",
        "\n",
        "def objective(trial):\n",
        "  learning_rate = trial.suggest_categorical('learning_rate', ['constant', 'optimal', 'invscaling'])\n",
        "  loss = trial.suggest_categorical('loss',['squared_loss', 'huber', 'epsilon_insensitive'])\n",
        "  penalty = trial.suggest_categorical('penalty', ['l2', 'l1', 'elasticnet'])\n",
        "\n",
        "  sgdr = SGDRegressor(learning_rate=learning_rate, loss=loss, penalty=penalty)\n",
        "  sgdr.fit(xtrain, ytrain)\n",
        "  \n",
        "  y_test_pred = sgdr.predict(xtest)\n",
        "  r2, mse, mape = eval_model(ytest, y_test_pred)\n",
        "  save_on_mlflow(sgdr, learning_rate, loss, penalty, r2, mse, mape)\n",
        "  return mse\n",
        "\n",
        "study1 = optuna.create_study()\n",
        "study1.optimize(objective, n_trials=10)"
      ]
    },
    {
      "cell_type": "code",
      "source": [
        "print(f\"The best parameters are : \\n{study1.best_params}\")"
      ],
      "metadata": {
        "colab": {
          "base_uri": "https://localhost:8080/"
        },
        "id": "V5IXvUTNKOrY",
        "outputId": "07b65e98-dca4-4076-a57b-8960b9e4133b"
      },
      "execution_count": null,
      "outputs": [
        {
          "output_type": "stream",
          "name": "stdout",
          "text": [
            "The best parameters are : \n",
            "{'learning_rate': 'optimal', 'loss': 'squared_loss', 'penalty': 'elasticnet'}\n"
          ]
        }
      ]
    },
    {
      "cell_type": "code",
      "execution_count": null,
      "metadata": {
        "colab": {
          "base_uri": "https://localhost:8080/"
        },
        "id": "5PDxllm2AX5b",
        "outputId": "dcd85fac-8205-4e1f-92be-87c6a48f44f8"
      },
      "outputs": [
        {
          "output_type": "stream",
          "name": "stdout",
          "text": [
            "Best Model Stats:\n",
            "MSE: 0.005335945246128591\n",
            "MAPE: 0.11500811972682913\n",
            "R2: 0.5628448937109065\n"
          ]
        }
      ],
      "source": [
        "learning_rate = study1.best_params['learning_rate']\n",
        "loss = study1.best_params['loss']\n",
        "penalty = study1.best_params['penalty']\n",
        "best_model = SGDRegressor(learning_rate=learning_rate, loss=loss, penalty=penalty)\n",
        "best_model.fit(xtrain, ytrain)\n",
        "y_test_pred = best_model.predict(xtest)\n",
        "y_training_pred= best_model.predict(xtrain)\n",
        "r2, mse, mape = eval_model(ytest, y_test_pred)\n",
        "print('Best Model Stats:')\n",
        "print(f'MSE: {mse}')\n",
        "print(f'MAPE: {mape}')\n",
        "print(f'R2: {r2}')"
      ]
    },
    {
      "cell_type": "code",
      "execution_count": null,
      "metadata": {
        "colab": {
          "base_uri": "https://localhost:8080/",
          "height": 279
        },
        "id": "3xFBj8cm-4Bd",
        "outputId": "99228a7b-2244-4ade-9dc3-e8377c6175d2"
      },
      "outputs": [
        {
          "output_type": "display_data",
          "data": {
            "text/plain": [
              "<Figure size 432x288 with 1 Axes>"
            ],
            "image/png": "[encoded data removed]"
          },
          "metadata": {
            "needs_background": "light"
          }
        }
      ],
      "source": [
        "plt.scatter(y_training_pred, ytrain, label=\"Train samples\", c='#d95f02')\n",
        "plt.scatter(y_test_pred, ytest, label=\"Test samples\", c='#7570b3')\n",
        "plt.xlabel(\"Predicted value\")\n",
        "plt.ylabel(\"True value\")\n",
        "plt.legend()\n",
        "plt.show()"
      ]
    },
    {
      "cell_type": "markdown",
      "metadata": {
        "id": "A8zDcOV3-BoG"
      },
      "source": [
        "# Random Forest Regressor"
      ]
    },
    {
      "cell_type": "code",
      "execution_count": null,
      "metadata": {
        "colab": {
          "base_uri": "https://localhost:8080/"
        },
        "id": "QIx4sFWD_kk7",
        "outputId": "dda73250-970d-4145-8041-f1b70f6bbe7e"
      },
      "outputs": [
        {
          "output_type": "stream",
          "name": "stderr",
          "text": [
            "\u001b[32m[I 2022-10-02 19:33:08,212]\u001b[0m A new study created in memory with name: no-name-e1d8c987-343a-4cf9-8494-bd2bfeb5d395\u001b[0m\n",
            "\u001b[32m[I 2022-10-02 19:35:06,024]\u001b[0m Trial 0 finished with value: 0.004912236424979282 and parameters: {'n_estimators': 200, 'max_depth': 12}. Best is trial 0 with value: 0.004912236424979282.\u001b[0m\n",
            "\u001b[32m[I 2022-10-02 19:37:10,353]\u001b[0m Trial 1 finished with value: 0.005199142734551941 and parameters: {'n_estimators': 100, 'max_depth': 27}. Best is trial 0 with value: 0.004912236424979282.\u001b[0m\n",
            "\u001b[32m[I 2022-10-02 19:38:43,699]\u001b[0m Trial 2 finished with value: 0.005032273121548873 and parameters: {'n_estimators': 100, 'max_depth': 18}. Best is trial 0 with value: 0.004912236424979282.\u001b[0m\n"
          ]
        }
      ],
      "source": [
        "def save_on_mlflow(model, n_estimators, max_depth, r2, mse, mape):\n",
        "  with mlflow.start_run():\n",
        "    mlflow.log_param(\"n_estimators\", n_estimators)\n",
        "    mlflow.log_param(\"max_depth\", max_depth)\n",
        "    mlflow.log_metric(\"r2\", r2)\n",
        "    mlflow.log_metric(\"mse\", mse)\n",
        "    mlflow.log_metric(\"mape\", mape)\n",
        "    mlflow.sklearn.log_model(model, \"model\")\n",
        "\n",
        "def objective(trial):\n",
        "  n_estimators = trial.suggest_int('n_estimators', 100, 600, 100)\n",
        "  max_depth = trial.suggest_int('max_depth', 2, 32)\n",
        "\n",
        "  rfr = RandomForestRegressor(max_depth=max_depth, n_estimators=n_estimators)\n",
        "  rfr.fit(xtrain, ytrain)\n",
        "  \n",
        "  y_test_pred = rfr.predict(xtest)\n",
        "  r2, mse, mape = eval_model(ytest, y_test_pred)\n",
        "  save_on_mlflow(rfr, n_estimators, max_depth, r2, mse, mape)\n",
        "  return mse\n",
        "\n",
        "study = optuna.create_study()\n",
        "study.optimize(objective, n_trials=3)"
      ]
    },
    {
      "cell_type": "code",
      "execution_count": null,
      "metadata": {
        "id": "clD73BZtP_SU",
        "colab": {
          "base_uri": "https://localhost:8080/"
        },
        "outputId": "1238b961-7728-4651-8bc7-4abd7e90e478"
      },
      "outputs": [
        {
          "output_type": "stream",
          "name": "stdout",
          "text": [
            "The best parameters are : \n",
            "{'n_estimators': 200, 'max_depth': 12}\n"
          ]
        }
      ],
      "source": [
        "print(f\"The best parameters are : \\n{study.best_params}\")"
      ]
    },
    {
      "cell_type": "code",
      "execution_count": null,
      "metadata": {
        "colab": {
          "base_uri": "https://localhost:8080/"
        },
        "id": "_nSNP1jr5VkE",
        "outputId": "9788acb5-c490-4539-b98f-6effa06c1713"
      },
      "outputs": [
        {
          "output_type": "stream",
          "name": "stdout",
          "text": [
            "Best Model Stats:\n",
            "MSE: 0.00491298044350502\n",
            "MAPE: 0.10899652917841489\n",
            "R2: 0.5974969028149364\n"
          ]
        }
      ],
      "source": [
        "n_estimators = study.best_params['n_estimators']\n",
        "max_depth = study.best_params['max_depth']\n",
        "best_model = RandomForestRegressor(n_estimators=n_estimators, max_depth=max_depth)\n",
        "best_model.fit(xtrain, ytrain)\n",
        "y_test_pred = best_model.predict(xtest)\n",
        "y_training_pred= best_model.predict(xtrain)\n",
        "r2, mse, mape = eval_model(ytest, y_test_pred)\n",
        "print('Best Model Stats:')\n",
        "print(f'MSE: {mse}')\n",
        "print(f'MAPE: {mape}')\n",
        "print(f'R2: {r2}')"
      ]
    },
    {
      "cell_type": "code",
      "execution_count": null,
      "metadata": {
        "colab": {
          "base_uri": "https://localhost:8080/",
          "height": 279
        },
        "id": "ctYqoOlB-qql",
        "outputId": "72fefa8b-1c06-4e30-da56-8a083b8a16c9"
      },
      "outputs": [
        {
          "output_type": "display_data",
          "data": {
            "text/plain": [
              "<Figure size 432x288 with 1 Axes>"
            ],
            "image/png": "[encoded data removed]"
          },
          "metadata": {
            "needs_background": "light"
          }
        }
      ],
      "source": [
        "plt.scatter(y_training_pred, ytrain, label=\"Train samples\", c='#d95f02')\n",
        "plt.scatter(y_test_pred, ytest, label=\"Test samples\", c='#7570b3')\n",
        "plt.xlabel(\"Predicted value\")\n",
        "plt.ylabel(\"True value\")\n",
        "plt.legend()\n",
        "plt.show()"
      ]
    },
    {
      "cell_type": "markdown",
      "metadata": {
        "id": "I9EGXz-c-EXL"
      },
      "source": [
        "# AutoML - Auto SciKit Learn Regressor"
      ]
    },
    {
      "cell_type": "code",
      "execution_count": null,
      "metadata": {
        "colab": {
          "base_uri": "https://localhost:8080/"
        },
        "id": "L-mEm_Vz5_cG",
        "outputId": "144278aa-1f7e-44de-ef27-44ffbac8e42f"
      },
      "outputs": [
        {
          "output_type": "stream",
          "name": "stdout",
          "text": [
            "[WARNING] [2022-10-02 19:50:58,191:Client-EnsembleBuilder] No runs were available to build an ensemble from\n",
            "[WARNING] [2022-10-02 19:50:59,964:Client-EnsembleBuilder] No runs were available to build an ensemble from\n",
            "[WARNING] [2022-10-02 19:51:01,660:Client-EnsembleBuilder] No runs were available to build an ensemble from\n",
            "[WARNING] [2022-10-02 19:51:32,977:Client-EnsembleBuilder] No runs were available to build an ensemble from\n"
          ]
        },
        {
          "output_type": "execute_result",
          "data": {
            "text/plain": [
              "AutoSklearnRegressor(ensemble_class=<class 'autosklearn.ensembles.ensemble_selection.EnsembleSelection'>,\n",
              "                     per_run_time_limit=30, time_left_for_this_task=120,\n",
              "                     tmp_folder='/tmp/autosklearn_regression_example_tmp')"
            ]
          },
          "metadata": {},
          "execution_count": 64
        }
      ],
      "source": [
        "automl = autosklearn.regression.AutoSklearnRegressor(\n",
        "    time_left_for_this_task=120,\n",
        "    per_run_time_limit=30,\n",
        "    tmp_folder='/tmp/autosklearn_regression_example_tmp',\n",
        ")\n",
        "automl.fit(xtrain, ytrain)"
      ]
    },
    {
      "cell_type": "code",
      "execution_count": null,
      "metadata": {
        "id": "mSG24bXB-deC"
      },
      "outputs": [],
      "source": [
        "print(automl.leaderboard())"
      ]
    },
    {
      "cell_type": "code",
      "execution_count": null,
      "metadata": {
        "colab": {
          "base_uri": "https://localhost:8080/"
        },
        "id": "uzwgWbVG7Ory",
        "outputId": "57c53167-2f0e-408a-e6ba-2ddcccb99c01"
      },
      "outputs": [
        {
          "output_type": "stream",
          "name": "stdout",
          "text": [
            "Best Model Stats:\n",
            "MSE: 0.004926669667323446\n",
            "MAPE: 0.10951110258705077\n",
            "R2: 0.5963753931634457\n"
          ]
        }
      ],
      "source": [
        "y_test_pred = automl.predict(xtest)\n",
        "y_training_pred= automl.predict(xtrain)\n",
        "r2, mse, mape = eval_model(ytest, y_test_pred)\n",
        "print('Best Model Stats:')\n",
        "print(f'MSE: {mse}')\n",
        "print(f'MAPE: {mape}')\n",
        "print(f'R2: {r2}')"
      ]
    },
    {
      "cell_type": "code",
      "execution_count": null,
      "metadata": {
        "colab": {
          "base_uri": "https://localhost:8080/",
          "height": 279
        },
        "id": "t5dfM7bl8TAW",
        "outputId": "db13e9db-38d5-4efa-bdb6-928889759b9d"
      },
      "outputs": [
        {
          "output_type": "display_data",
          "data": {
            "text/plain": [
              "<Figure size 432x288 with 1 Axes>"
            ],
            "image/png": "[encoded data removed]"
          },
          "metadata": {
            "needs_background": "light"
          }
        }
      ],
      "source": [
        "plt.scatter(y_training_pred, ytrain, label=\"Train samples\", c='#d95f02')\n",
        "plt.scatter(y_test_pred, ytest, label=\"Test samples\", c='#7570b3')\n",
        "plt.xlabel(\"Predicted value\")\n",
        "plt.ylabel(\"True value\")\n",
        "plt.legend()\n",
        "plt.show()"
      ]
    },
    {
      "cell_type": "markdown",
      "metadata": {
        "id": "Lmpmkk2NgFP3"
      },
      "source": [
        "# Interface do MLFlow"
      ]
    },
    {
      "cell_type": "code",
      "execution_count": null,
      "metadata": {
        "id": "GZqRtvKXVIOi"
      },
      "outputs": [],
      "source": [
        "!mlflow ui | lt --port 5000"
      ]
    }
  ],
  "metadata": {
    "colab": {
      "collapsed_sections": [
        "Yo5JXFB3trhN",
        "X7rrPGoEOtBn",
        "vkSoAqsFDfjh",
        "5t8eAi2pG0rl",
        "G2uXD4a17B_U",
        "a5i6Dqf9cZgM",
        "kjUI22iZ1eLz",
        "smA7S72C97Uz",
        "A8zDcOV3-BoG",
        "I9EGXz-c-EXL"
      ],
      "provenance": []
    },
    "kernelspec": {
      "display_name": "Python 3",
      "name": "python3"
    },
    "language_info": {
      "name": "python"
    }
  },
  "nbformat": 4,
  "nbformat_minor": 0
}